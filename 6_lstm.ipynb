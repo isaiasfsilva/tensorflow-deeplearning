{
 "cells": [
  {
   "cell_type": "markdown",
   "metadata": {
    "colab_type": "text",
    "id": "D7tqLMoKF6uq"
   },
   "source": [
    "Deep Learning\n",
    "=============\n",
    "\n",
    "Assignment 6\n",
    "------------\n",
    "\n",
    "After training a skip-gram model in `5_word2vec.ipynb`, the goal of this notebook is to train a LSTM character model over [Text8](http://mattmahoney.net/dc/textdata) data."
   ]
  },
  {
   "cell_type": "code",
   "execution_count": 1,
   "metadata": {
    "cellView": "both",
    "colab": {
     "autoexec": {
      "startup": false,
      "wait_interval": 0
     }
    },
    "colab_type": "code",
    "collapsed": true,
    "id": "MvEblsgEXxrd"
   },
   "outputs": [],
   "source": [
    "# These are all the modules we'll be using later. Make sure you can import them\n",
    "# before proceeding further.\n",
    "import os\n",
    "import numpy as np\n",
    "import random\n",
    "import string\n",
    "import tensorflow as tf\n",
    "import urllib\n",
    "import zipfile\n",
    "import time\n",
    "import re\n",
    "%matplotlib inline"
   ]
  },
  {
   "cell_type": "code",
   "execution_count": 2,
   "metadata": {
    "cellView": "both",
    "colab": {
     "autoexec": {
      "startup": false,
      "wait_interval": 0
     },
     "output_extras": [
      {
       "item_id": 1
      }
     ]
    },
    "colab_type": "code",
    "collapsed": false,
    "executionInfo": {
     "elapsed": 5993,
     "status": "ok",
     "timestamp": 1445965582896,
     "user": {
      "color": "#1FA15D",
      "displayName": "Vincent Vanhoucke",
      "isAnonymous": false,
      "isMe": true,
      "permissionId": "05076109866853157986",
      "photoUrl": "//lh6.googleusercontent.com/-cCJa7dTDcgQ/AAAAAAAAAAI/AAAAAAAACgw/r2EZ_8oYer4/s50-c-k-no/photo.jpg",
      "sessionId": "6f6f07b359200c46",
      "userId": "102167687554210253930"
     },
     "user_tz": 420
    },
    "id": "RJ-o3UBUFtCw",
    "outputId": "d530534e-0791-4a94-ca6d-1c8f1b908a9e"
   },
   "outputs": [
    {
     "name": "stdout",
     "output_type": "stream",
     "text": [
      "Found and verified text8.zip\n"
     ]
    }
   ],
   "source": [
    "url = 'http://mattmahoney.net/dc/'\n",
    "\n",
    "def maybe_download(filename, expected_bytes):\n",
    "  \"\"\"Download a file if not present, and make sure it's the right size.\"\"\"\n",
    "  if not os.path.exists(filename):\n",
    "    filename, _ = urllib.urlretrieve(url + filename, filename)\n",
    "  statinfo = os.stat(filename)\n",
    "  if statinfo.st_size == expected_bytes:\n",
    "    print 'Found and verified', filename\n",
    "  else:\n",
    "    print statinfo.st_size\n",
    "    raise Exception(\n",
    "      'Failed to verify ' + filename + '. Can you get to it with a browser?')\n",
    "  return filename\n",
    "\n",
    "filename = maybe_download('text8.zip', 31344016)"
   ]
  },
  {
   "cell_type": "code",
   "execution_count": 3,
   "metadata": {
    "cellView": "both",
    "colab": {
     "autoexec": {
      "startup": false,
      "wait_interval": 0
     },
     "output_extras": [
      {
       "item_id": 1
      }
     ]
    },
    "colab_type": "code",
    "collapsed": false,
    "executionInfo": {
     "elapsed": 5982,
     "status": "ok",
     "timestamp": 1445965582916,
     "user": {
      "color": "#1FA15D",
      "displayName": "Vincent Vanhoucke",
      "isAnonymous": false,
      "isMe": true,
      "permissionId": "05076109866853157986",
      "photoUrl": "//lh6.googleusercontent.com/-cCJa7dTDcgQ/AAAAAAAAAAI/AAAAAAAACgw/r2EZ_8oYer4/s50-c-k-no/photo.jpg",
      "sessionId": "6f6f07b359200c46",
      "userId": "102167687554210253930"
     },
     "user_tz": 420
    },
    "id": "Mvf09fjugFU_",
    "outputId": "8f75db58-3862-404b-a0c3-799380597390"
   },
   "outputs": [
    {
     "name": "stdout",
     "output_type": "stream",
     "text": [
      "['text8']\n",
      "Data size 100000000\n"
     ]
    }
   ],
   "source": [
    "def read_data(filename):\n",
    "  f = zipfile.ZipFile(filename)\n",
    "  print f.namelist()\n",
    "  for name in f.namelist():\n",
    "    return f.read(name)\n",
    "  f.close()\n",
    "  \n",
    "text = read_data(filename)\n",
    "print \"Data size\", len(text)"
   ]
  },
  {
   "cell_type": "code",
   "execution_count": 4,
   "metadata": {
    "collapsed": false
   },
   "outputs": [
    {
     "name": "stdout",
     "output_type": "stream",
     "text": [
      " anarchism originated as a term of abuse first used against early working class radicals including t\n",
      "identified in one eight four two and extensively excavated in one nine six three one nine six five b\n"
     ]
    }
   ],
   "source": [
    "# look at some text\n",
    "print text[:100]\n",
    "print text[-100:]"
   ]
  },
  {
   "cell_type": "markdown",
   "metadata": {
    "colab_type": "text",
    "id": "ga2CYACE-ghb"
   },
   "source": [
    "### Create a small validation set."
   ]
  },
  {
   "cell_type": "code",
   "execution_count": 4,
   "metadata": {
    "cellView": "both",
    "colab": {
     "autoexec": {
      "startup": false,
      "wait_interval": 0
     },
     "output_extras": [
      {
       "item_id": 1
      }
     ]
    },
    "colab_type": "code",
    "collapsed": false,
    "executionInfo": {
     "elapsed": 6184,
     "status": "ok",
     "timestamp": 1445965583138,
     "user": {
      "color": "#1FA15D",
      "displayName": "Vincent Vanhoucke",
      "isAnonymous": false,
      "isMe": true,
      "permissionId": "05076109866853157986",
      "photoUrl": "//lh6.googleusercontent.com/-cCJa7dTDcgQ/AAAAAAAAAAI/AAAAAAAACgw/r2EZ_8oYer4/s50-c-k-no/photo.jpg",
      "sessionId": "6f6f07b359200c46",
      "userId": "102167687554210253930"
     },
     "user_tz": 420
    },
    "id": "w-oBpfFG-j43",
    "outputId": "bdb96002-d021-4379-f6de-a977924f0d02"
   },
   "outputs": [
    {
     "name": "stdout",
     "output_type": "stream",
     "text": [
      "99999000 ons anarchists advocate social relations based upon voluntary as\n",
      "1000  anarchism originated as a term of abuse first used against earl\n"
     ]
    }
   ],
   "source": [
    "valid_size = 1000\n",
    "valid_text = text[:valid_size]\n",
    "train_text = text[valid_size:]\n",
    "train_size = len(train_text)\n",
    "print train_size, train_text[:64]\n",
    "print valid_size, valid_text[:64]"
   ]
  },
  {
   "cell_type": "markdown",
   "metadata": {
    "colab_type": "text",
    "id": "Zdw6i4F8glpp"
   },
   "source": [
    "### Utility functions to map characters to vocabulary IDs and back."
   ]
  },
  {
   "cell_type": "code",
   "execution_count": 668,
   "metadata": {
    "collapsed": false
   },
   "outputs": [
    {
     "data": {
      "text/plain": [
       "' abcdefghijklmnopqrstuvwxyz'"
      ]
     },
     "execution_count": 668,
     "metadata": {},
     "output_type": "execute_result"
    }
   ],
   "source": [
    "' ' + string.ascii_lowercase"
   ]
  },
  {
   "cell_type": "code",
   "execution_count": 5,
   "metadata": {
    "cellView": "both",
    "colab": {
     "autoexec": {
      "startup": false,
      "wait_interval": 0
     },
     "output_extras": [
      {
       "item_id": 1
      }
     ]
    },
    "colab_type": "code",
    "collapsed": false,
    "executionInfo": {
     "elapsed": 6276,
     "status": "ok",
     "timestamp": 1445965583249,
     "user": {
      "color": "#1FA15D",
      "displayName": "Vincent Vanhoucke",
      "isAnonymous": false,
      "isMe": true,
      "permissionId": "05076109866853157986",
      "photoUrl": "//lh6.googleusercontent.com/-cCJa7dTDcgQ/AAAAAAAAAAI/AAAAAAAACgw/r2EZ_8oYer4/s50-c-k-no/photo.jpg",
      "sessionId": "6f6f07b359200c46",
      "userId": "102167687554210253930"
     },
     "user_tz": 420
    },
    "id": "gAL1EECXeZsD",
    "outputId": "88fc9032-feb9-45ff-a9a0-a26759cc1f2e"
   },
   "outputs": [
    {
     "name": "stdout",
     "output_type": "stream",
     "text": [
      "1 26 0 Unexpected character: ï\n",
      "0\n",
      "----------------\n",
      "a z  \n"
     ]
    }
   ],
   "source": [
    "vocabulary_size = len(string.ascii_lowercase) + 1 # [a-z] + ' '\n",
    "first_letter = ord(string.ascii_lowercase[0])  # ordinal of letter 'a'\n",
    "\n",
    "def char2id(char):\n",
    "  if char in string.ascii_lowercase:  # if detect a lowercase letter\n",
    "    return ord(char) - first_letter + 1  # return value 1-26\n",
    "  elif char == ' ':\n",
    "    return 0\n",
    "  else:\n",
    "    print 'Unexpected character:', char\n",
    "    return 0\n",
    "  \n",
    "def id2char(dictid):\n",
    "  if dictid > 0:\n",
    "    return chr(dictid + first_letter - 1)  # return [a-z]\n",
    "  else:\n",
    "    return ' '\n",
    "\n",
    "print char2id('a'), char2id('z'), char2id(' '), char2id('ï')\n",
    "print('-'*16)\n",
    "print id2char(1), id2char(26), id2char(0)"
   ]
  },
  {
   "cell_type": "markdown",
   "metadata": {
    "colab_type": "text",
    "id": "lFwoyygOmWsL"
   },
   "source": [
    "### Function to generate a training batch for the LSTM model."
   ]
  },
  {
   "cell_type": "code",
   "execution_count": 6,
   "metadata": {
    "cellView": "both",
    "colab": {
     "autoexec": {
      "startup": false,
      "wait_interval": 0
     },
     "output_extras": [
      {
       "item_id": 1
      }
     ]
    },
    "colab_type": "code",
    "collapsed": false,
    "executionInfo": {
     "elapsed": 6473,
     "status": "ok",
     "timestamp": 1445965583467,
     "user": {
      "color": "#1FA15D",
      "displayName": "Vincent Vanhoucke",
      "isAnonymous": false,
      "isMe": true,
      "permissionId": "05076109866853157986",
      "photoUrl": "//lh6.googleusercontent.com/-cCJa7dTDcgQ/AAAAAAAAAAI/AAAAAAAACgw/r2EZ_8oYer4/s50-c-k-no/photo.jpg",
      "sessionId": "6f6f07b359200c46",
      "userId": "102167687554210253930"
     },
     "user_tz": 420
    },
    "id": "d9wMtjy5hCj9",
    "outputId": "3dd79c80-454a-4be0-8b71-4a4a357b3367"
   },
   "outputs": [],
   "source": [
    "batch_size=64\n",
    "num_unrollings=10\n",
    "\n",
    "class BatchGenerator(object):\n",
    "  def __init__(self, text, batch_size, num_unrollings):\n",
    "    self._text = text\n",
    "    self._text_size = len(text)\n",
    "    self._batch_size = batch_size\n",
    "    self._num_unrollings = num_unrollings\n",
    "    segment = self._text_size / batch_size\n",
    "    # list of offsets within batch\n",
    "    self._cursor = [ offset * segment for offset in xrange(batch_size)]\n",
    "    self._last_batch = self._next_batch()\n",
    "  \n",
    "  def _next_batch(self):\n",
    "    \"\"\"Generate a single batch from the current cursor position in the data.\"\"\"\n",
    "    batch = np.zeros(shape=(self._batch_size, vocabulary_size), dtype=np.float)\n",
    "    for b in xrange(self._batch_size):\n",
    "      batch[b, char2id(self._text[self._cursor[b]])] = 1.0  # get id of a char\n",
    "      self._cursor[b] = (self._cursor[b] + 1) % self._text_size  # move cursor\n",
    "    return batch\n",
    "  \n",
    "  def next(self):\n",
    "    \"\"\"Generate the next array of batches from the data. The array consists of\n",
    "    the last batch of the previous array, followed by num_unrollings new ones.\n",
    "    \"\"\"\n",
    "    batches = [self._last_batch]\n",
    "    for step in xrange(self._num_unrollings):\n",
    "      batches.append(self._next_batch())  # add id of char for 1 to num_unrollings\n",
    "    self._last_batch = batches[-1]\n",
    "    return batches\n",
    "\n",
    "def characters(probabilities):\n",
    "  \"\"\"Turn a 1-hot encoding or a probability distribution over the possible\n",
    "  characters back into its (most likely) character representation.\n",
    "  \"\"\"\n",
    "  return [id2char(c) for c in np.argmax(probabilities, 1)]  # get char of an id\n",
    "\n",
    "def batches2string(batches):\n",
    "  \"\"\"Convert a sequence of batches back into their (most likely) string\n",
    "  representation.\n",
    "  \"\"\"\n",
    "  #print 'Batch shape: {}'.format(batches[0].shape)\n",
    "  #print 'First batch, First char: {}'.format(batches[0][0])\n",
    "  s = [''] * batches[0].shape[0]\n",
    "  for b in batches:`\n",
    "    s = [''.join(x) for x in zip(s, characters(b))]\n",
    "  return s"
   ]
  },
  {
   "cell_type": "markdown",
   "metadata": {},
   "source": [
    "### Generate batches"
   ]
  },
  {
   "cell_type": "code",
   "execution_count": 7,
   "metadata": {
    "collapsed": false
   },
   "outputs": [
    {
     "name": "stdout",
     "output_type": "stream",
     "text": [
      "index 0 to 64:\n",
      "ons anarchists advocate social relations based upon voluntary as\n",
      "----------------\n",
      "['ons anarchi', 'when milita', 'lleria arch', ' abbeys and', 'married urr', 'hel and ric', 'y and litur', 'ay opened f', 'tion from t', 'migration t', 'new york ot', 'he boeing s', 'e listed wi', 'eber has pr', 'o be made t', 'yer who rec', 'ore signifi', 'a fierce cr', ' two six ei', 'aristotle s', 'ity can be ', ' and intrac', 'tion of the', 'dy to pass ', 'f certain d', 'at it will ', 'e convince ', 'ent told hi', 'ampaign and', 'rver side s', 'ious texts ', 'o capitaliz', 'a duplicate', 'gh ann es d', 'ine january', 'ross zero t', 'cal theorie', 'ast instanc', ' dimensiona', 'most holy m', 't s support', 'u is still ', 'e oscillati', 'o eight sub', 'of italy la', 's the tower', 'klahoma pre', 'erprise lin', 'ws becomes ', 'et in a naz', 'the fabian ', 'etchy to re', ' sharman ne', 'ised empero', 'ting in pol', 'd neo latin', 'th risky ri', 'encyclopedi', 'fense the a', 'duating fro', 'treet grid ', 'ations more', 'appeal of d', 'si have mad']\n",
      "['ists advoca', 'ary governm', 'hes nationa', 'd monasteri', 'raca prince', 'chard baer ', 'rgical lang', 'for passeng', 'the nationa', 'took place ', 'ther well k', 'seven six s', 'ith a gloss', 'robably bee', 'to recogniz', 'ceived the ', 'icant than ', 'ritic of th', 'ight in sig', 's uncaused ', ' lost as in', 'cellular ic', 'e size of t', ' him a stic', 'drugs confu', ' take to co', ' the priest', 'im to name ', 'd barred at', 'standard fo', ' such as es', 'ze on the g', 'e of the or', 'd hiver one', 'y eight mar', 'the lead ch', 'es classica', 'ce the non ', 'al analysis', 'mormons bel', 't or at lea', ' disagreed ', 'ing system ', 'btypes base', 'anguages th', 'r commissio', 'ess one nin', 'nux suse li', ' the first ', 'zi concentr', ' society ne', 'elatively s', 'etworks sha', 'or hirohito', 'litical ini', 'n most of t', 'iskerdoo ri', 'ic overview', 'air compone', 'om acnm acc', ' centerline', 'e than any ', 'devotional ', 'de such dev']\n",
      "----------------\n",
      "[' a']\n",
      "['an']\n"
     ]
    }
   ],
   "source": [
    "# training and validation batches\n",
    "train_batches = BatchGenerator(train_text, batch_size, num_unrollings)\n",
    "valid_batches = BatchGenerator(valid_text, 1, 1) # returns batch size 1, +1 unrolling \n",
    "\n",
    "# look at the text from various segments\n",
    "segment_look = 0\n",
    "num_char = 64\n",
    "show = segment_look * len(train_text)/batch_size\n",
    "print \"index {} to {}:\\n{}\".format(show, show+num_char, train_text[show:show+num_char])\n",
    "print('-'*16)\n",
    "\n",
    "print batches2string(train_batches.next())\n",
    "print batches2string(train_batches.next())\n",
    "print('-'*16)\n",
    "print batches2string(valid_batches.next())\n",
    "print batches2string(valid_batches.next())"
   ]
  },
  {
   "cell_type": "markdown",
   "metadata": {},
   "source": [
    "### Functions for predictions"
   ]
  },
  {
   "cell_type": "code",
   "execution_count": 8,
   "metadata": {
    "cellView": "both",
    "colab": {
     "autoexec": {
      "startup": false,
      "wait_interval": 0
     }
    },
    "colab_type": "code",
    "collapsed": true,
    "id": "KyVd8FxT5QBc"
   },
   "outputs": [],
   "source": [
    "def logprob(predictions, labels):\n",
    "  \"\"\"Log-probability of the true labels in a predicted batch.\"\"\"\n",
    "  predictions[predictions < 1e-10] = 1e-10\n",
    "  return np.sum(np.multiply(labels, -np.log(predictions))) / labels.shape[0]\n",
    "\n",
    "def sample_distribution(distribution):\n",
    "  \"\"\"Sample one element from a distribution assumed to be an array of normalized\n",
    "  probabilities.\n",
    "  \"\"\"\n",
    "  r = random.uniform(0, 1)\n",
    "  s = 0\n",
    "  for i in xrange(len(distribution)):\n",
    "    s += distribution[i]\n",
    "    if s >= r:\n",
    "      return i\n",
    "  return len(distribution) - 1\n",
    "\n",
    "def sample(prediction):\n",
    "  \"\"\"Turn a (column) prediction into 1-hot encoded samples.\"\"\"\n",
    "  p = np.zeros(shape=[1, vocabulary_size], dtype=np.float)\n",
    "  p[0, sample_distribution(prediction[0])] = 1.0\n",
    "  return p\n",
    "\n",
    "def random_distribution():\n",
    "  \"\"\"Generate a random column of probabilities.\"\"\"\n",
    "  b = np.random.uniform(0.0, 1.0, size=[1, vocabulary_size])\n",
    "  return b/np.sum(b, axis=1)[:,None]"
   ]
  },
  {
   "cell_type": "markdown",
   "metadata": {
    "colab_type": "text",
    "id": "K8f67YXaDr4C"
   },
   "source": [
    "### Simple LSTM Model\n",
    "http://colah.github.io/posts/2015-08-Understanding-LSTMs/  \n",
    "\n",
    "<img width=\"60%\" src=\"http://colah.github.io/posts/2015-08-Understanding-LSTMs/img/LSTM3-chain.png\">"
   ]
  },
  {
   "cell_type": "code",
   "execution_count": 173,
   "metadata": {
    "cellView": "both",
    "colab": {
     "autoexec": {
      "startup": false,
      "wait_interval": 0
     }
    },
    "colab_type": "code",
    "collapsed": true,
    "id": "Q5rxZK6RDuGe"
   },
   "outputs": [],
   "source": [
    "num_nodes = 64\n",
    "\n",
    "graph = tf.Graph()\n",
    "with graph.as_default():\n",
    "  \n",
    "  ## Parameters:\n",
    "  # Input (Write) gate: input, previous output, and bias.\n",
    "  ix = tf.Variable(tf.truncated_normal([vocabulary_size, num_nodes], -0.1, 0.1))\n",
    "  im = tf.Variable(tf.truncated_normal([num_nodes, num_nodes], -0.1, 0.1))\n",
    "  ib = tf.Variable(tf.zeros([1, num_nodes]))\n",
    "    \n",
    "  # Forget (Keep) gate: input, previous output, and bias.\n",
    "  fx = tf.Variable(tf.truncated_normal([vocabulary_size, num_nodes], -0.1, 0.1))\n",
    "  fm = tf.Variable(tf.truncated_normal([num_nodes, num_nodes], -0.1, 0.1))\n",
    "  fb = tf.Variable(tf.zeros([1, num_nodes]))\n",
    "    \n",
    "  # Memory cell: input, state and bias.        \n",
    "  cx = tf.Variable(tf.truncated_normal([vocabulary_size, num_nodes], -0.1, 0.1))\n",
    "  cm = tf.Variable(tf.truncated_normal([num_nodes, num_nodes], -0.1, 0.1))\n",
    "  cb = tf.Variable(tf.zeros([1, num_nodes]))\n",
    "    \n",
    "  # Output (Read) gate: input, previous output, and bias.\n",
    "  ox = tf.Variable(tf.truncated_normal([vocabulary_size, num_nodes], -0.1, 0.1))\n",
    "  om = tf.Variable(tf.truncated_normal([num_nodes, num_nodes], -0.1, 0.1))\n",
    "  ob = tf.Variable(tf.zeros([1, num_nodes]))\n",
    "    \n",
    "  # Variables saving state across unrollings.\n",
    "  saved_output = tf.Variable(tf.zeros([batch_size, num_nodes]), trainable=False)\n",
    "  saved_state = tf.Variable(tf.zeros([batch_size, num_nodes]), trainable=False)\n",
    "\n",
    "  # Classifier weights and biases.\n",
    "  w = tf.Variable(tf.truncated_normal([num_nodes, vocabulary_size], -0.1, 0.1))\n",
    "  b = tf.Variable(tf.zeros([vocabulary_size]))\n",
    "  \n",
    "  # Definition of the cell computation.\n",
    "  def lstm_cell(i, o, state):\n",
    "    \"\"\"\n",
    "    Create a LSTM cell. See e.g.: http://arxiv.org/pdf/1402.1128v1.pdf\n",
    "    Note that in this formulation, we omit the various connections between the\n",
    "    previous state and the gates.\n",
    "    \"\"\"\n",
    "    # what to keep (1) or forget (0) from cell state\n",
    "    forget_gate = tf.sigmoid(tf.matmul(i, fx) + tf.matmul(o, fm) + fb)\n",
    "    \n",
    "    # new info to store in cell state\n",
    "    # values to update\n",
    "    input_gate = tf.sigmoid(tf.matmul(i, ix) + tf.matmul(o, im) + ib)\n",
    "    # new candidate values to add to state\n",
    "    update = tf.tanh(tf.matmul(i, cx) + tf.matmul(o, cm) + cb)\n",
    "    \n",
    "    # update old cell state C[t-1] into new cell state C[t]\n",
    "    state = (forget_gate * state) + (input_gate * update)\n",
    "    \n",
    "    # decide the output\n",
    "    output_gate = tf.sigmoid(tf.matmul(i, ox) + tf.matmul(o, om) + ob)\n",
    "    h = output_gate * tf.tanh(state)\n",
    "    return h, state\n",
    "\n",
    "  # Input data.\n",
    "  train_data = list()\n",
    "  for _ in xrange(num_unrollings + 1):\n",
    "    train_data.append(\n",
    "      tf.placeholder(tf.float32, shape=[batch_size,vocabulary_size]))\n",
    "  train_inputs = train_data[:num_unrollings]\n",
    "  train_labels = train_data[1:]  # labels are inputs shifted by one time step.\n",
    "\n",
    "  # Unrolled LSTM loop.\n",
    "  outputs = list()\n",
    "  output = saved_output\n",
    "  state = saved_state\n",
    "  for i in train_inputs:\n",
    "    output, state = lstm_cell(i, output, state)\n",
    "    outputs.append(output)\n",
    "\n",
    "  # State saving across unrollings.\n",
    "  with tf.control_dependencies([saved_output.assign(output),\n",
    "                                saved_state.assign(state)]):\n",
    "    # Classifier.\n",
    "    logits = tf.nn.xw_plus_b(tf.concat(0, outputs), w, b)\n",
    "    loss = tf.reduce_mean(\n",
    "      tf.nn.softmax_cross_entropy_with_logits(\n",
    "        logits, tf.concat(0, train_labels)))\n",
    "\n",
    "  # Optimizer.\n",
    "  global_step = tf.Variable(0)\n",
    "  learning_rate = tf.train.exponential_decay(\n",
    "    10.0, global_step, 5000, 0.1, staircase=False)  ## orig 10.0, 5000, 0.1, True\n",
    "  optimizer = tf.train.GradientDescentOptimizer(learning_rate)\n",
    "  gradients, v = zip(*optimizer.compute_gradients(loss))\n",
    "  gradients, _ = tf.clip_by_global_norm(gradients, 1.25)\n",
    "  optimizer = optimizer.apply_gradients(\n",
    "    zip(gradients, v), global_step=global_step)\n",
    "\n",
    "  # Predictions.\n",
    "  train_prediction = tf.nn.softmax(logits)\n",
    "  \n",
    "  # Sampling and validation eval: batch 1, no unrolling.\n",
    "  sample_input = tf.placeholder(tf.float32, shape=[1, vocabulary_size])\n",
    "  saved_sample_output = tf.Variable(tf.zeros([1, num_nodes]))\n",
    "  saved_sample_state = tf.Variable(tf.zeros([1, num_nodes]))\n",
    "  reset_sample_state = tf.group(\n",
    "    saved_sample_output.assign(tf.zeros([1, num_nodes])),\n",
    "    saved_sample_state.assign(tf.zeros([1, num_nodes])))\n",
    "  sample_output, sample_state = lstm_cell(\n",
    "    sample_input, saved_sample_output, saved_sample_state)\n",
    "  with tf.control_dependencies([saved_sample_output.assign(sample_output),\n",
    "                                saved_sample_state.assign(sample_state)]):\n",
    "    sample_prediction = tf.nn.softmax(tf.nn.xw_plus_b(sample_output, w, b))"
   ]
  },
  {
   "cell_type": "markdown",
   "metadata": {},
   "source": [
    "### Run the LSTM"
   ]
  },
  {
   "cell_type": "code",
   "execution_count": 174,
   "metadata": {
    "cellView": "both",
    "colab": {
     "autoexec": {
      "startup": false,
      "wait_interval": 0
     },
     "output_extras": [
      {
       "item_id": 41
      },
      {
       "item_id": 80
      },
      {
       "item_id": 126
      },
      {
       "item_id": 144
      }
     ]
    },
    "colab_type": "code",
    "collapsed": true,
    "executionInfo": {
     "elapsed": 199909,
     "status": "ok",
     "timestamp": 1445965877333,
     "user": {
      "color": "#1FA15D",
      "displayName": "Vincent Vanhoucke",
      "isAnonymous": false,
      "isMe": true,
      "permissionId": "05076109866853157986",
      "photoUrl": "//lh6.googleusercontent.com/-cCJa7dTDcgQ/AAAAAAAAAAI/AAAAAAAACgw/r2EZ_8oYer4/s50-c-k-no/photo.jpg",
      "sessionId": "6f6f07b359200c46",
      "userId": "102167687554210253930"
     },
     "user_tz": 420
    },
    "id": "RD9zQCZTEaEm",
    "outputId": "5e868466-2532-4545-ce35-b403cf5d9de6"
   },
   "outputs": [
    {
     "name": "stdout",
     "output_type": "stream",
     "text": [
      "Initialized\n",
      "==========\n",
      "Average loss at step  0 = 3.29952096939 \n",
      "learning rate: 10.0\n",
      "Minibatch perplexity: 27.10\n",
      "================================================================================\n",
      "cmmwuj  owrqyf oe a vb ayeotjtp jsagtecex w ep gapegmss doi nspzod pxy    lte fh\n",
      "bxxzosqroolkir nzk dbuoo j bdl  uik yio anaqi  gp kfcjq s csrq zwygdnrgk uehp yi\n",
      "ui d dt niegm nlifhtgirrqr n ophpgeei iapfhndstsfpvqemtasstzd mguwbod mm gewwt v\n",
      "neookwmvyl tcbmz d fpyofbndlkxywzjki  wfjnpzwcla axdqlkta nn e ioutzala vuwenekh\n",
      "fjizkt xy  o bubsnvvl it r uvsdnfss eki eulhwi emosavt epjo hmn  rmsnchuuchkmlqh\n",
      "================================================================================\n",
      "Validation set perplexity: 19.94\n",
      "------------------------------\n",
      "Average loss at step  500 = 10.8983187985 \n",
      "learning rate: 7.94328\n",
      "Minibatch perplexity: 6.51\n",
      "Validation set perplexity: 7.28\n",
      "------------------------------\n",
      "Average loss at step  1000 = 9.28752010226 \n",
      "learning rate: 6.30957\n",
      "Minibatch perplexity: 7.06\n",
      "================================================================================\n",
      "dites of the mous hurhseed events fiel witete that rebat wore sueflo ont s to bi\n",
      "y of tradcons thit the arebuti doobas sypcess the iting be vorte world and hairs\n",
      "chipit sintion wirts in lang three by the desthing of the trime centity rene the\n",
      " us brilsting to yemmen erectaus dicenzer for obhe to the triefs steptelity susc\n",
      "caiss inquaces a parts fidsan ore the merna eaves thes thenery sectyly splosing \n",
      "================================================================================\n",
      "Validation set perplexity: 6.46\n",
      "------------------------------\n",
      "Average loss at step  1500 = 8.84107351899 \n",
      "learning rate: 5.01187\n",
      "Minibatch perplexity: 5.76\n",
      "Validation set perplexity: 5.72\n",
      "------------------------------\n",
      "Average loss at step  2000 = 8.58554339409 \n",
      "learning rate: 3.98107\n",
      "Minibatch perplexity: 6.31\n",
      "================================================================================\n",
      "zer infourt style are commaganivy and most miffached two two one ninuted a sever\n",
      "ocems peems cantack higholos nurth of mick clafted ratad spebis and retusion of \n",
      "zer meenming and shaims is reeng agalificial gecorobal unity kiffineed day peiss\n",
      "anss machers pensonderss allity one nine he wak often likents blang j origh dece\n",
      "las one nine aiffert of a hishide thus samus brast and mertablepran verturing an\n",
      "================================================================================\n",
      "Validation set perplexity: 5.47\n",
      "------------------------------\n",
      "Average loss at step  2500 = 8.54507492661 \n",
      "learning rate: 3.16228\n",
      "Minibatch perplexity: 5.00\n",
      "Validation set perplexity: 5.27\n",
      "------------------------------\n",
      "Average loss at step  3000 = 8.38288297057 \n",
      "learning rate: 2.51189\n",
      "Minibatch perplexity: 4.92\n",
      "================================================================================\n",
      "y emsul was retrommane had tolan into a two nine eight two zero zero four three \n",
      "s in one prope are five four right gastimed that are grateral p ruture curptity \n",
      "hic is oct relicise of gradge searrescent points of sector this whele to the nal\n",
      "fork the near hoves and fror the gataal stander weil wouddests of p osternite th\n",
      "ber the dialious thorn ara and comment worlin styor oughts alternars in one nine\n",
      "================================================================================\n",
      "Validation set perplexity: 5.11\n",
      "------------------------------\n",
      "Average loss at step  3500 = 8.35083919048 \n",
      "learning rate: 1.99526\n",
      "Minibatch perplexity: 5.42\n",
      "Validation set perplexity: 4.98\n",
      "------------------------------\n",
      "Average loss at step  4000 = 8.32111997247 \n",
      "learning rate: 1.58489\n",
      "Minibatch perplexity: 5.31\n",
      "================================================================================\n",
      "n bate becagirs on pother earlogutames to whire three four one germennaush of th\n",
      "d onlle and and and to and romini x peading doabous is after conmitrigations whi\n",
      "x the strudon yed in the pervaties tun to the poly nine wark chane withards stri\n",
      "hicken six three four eight one five nine bynotreed and were romation of panubat\n",
      "bie commonse usel by the shorks both etoby edecaries a usic securiance can high \n",
      "================================================================================\n",
      "Validation set perplexity: 4.85\n",
      "------------------------------\n",
      "Average loss at step  4500 = 8.25789055467 \n",
      "learning rate: 1.25893\n",
      "Minibatch perplexity: 6.60\n",
      "Validation set perplexity: 4.83\n",
      "------------------------------\n",
      "Average loss at step  5000 = 8.29675801158 \n",
      "learning rate: 1.0\n",
      "Minibatch perplexity: 4.91\n",
      "================================================================================\n",
      "mate turitiant rave four eight tillects of bilut obhalling har which breashwand \n",
      "bout at meny aptey of the sentible used that the univelition to can it intorcee \n",
      "tu are non cap the arno one three servicas skrutkon the regater charsh used and \n",
      "x haod the toper afbuin one fomo on eight nine six spiloging courts to stinic wh\n",
      "hical was disuppeved useonic hopactredia and the populars a two four zero five h\n",
      "================================================================================\n",
      "Validation set perplexity: 4.89\n",
      "------------------------------\n",
      "Average loss at step  5500 = 8.32246379614 \n",
      "learning rate: 0.794328\n",
      "Minibatch perplexity: 5.77\n",
      "Validation set perplexity: 4.86\n",
      "------------------------------\n",
      "Average loss at step  6000 = 8.26441206932 \n",
      "learning rate: 0.630957\n",
      "Minibatch perplexity: 4.99\n",
      "================================================================================\n",
      "remable then gersusher shord branntents song afterelly rounding and evelled succ\n",
      "d leaw with individer other in mazing day and soming to musting continutlo for g\n",
      "gophapish on falle ulluti or g other politics one threat a maintherg internal co\n",
      "el very and x poloric foocreot in the decone becient institali deflan time exide\n",
      "zic aghity pugules by the conferce glang but earthayiss of a use eight canscon c\n",
      "================================================================================\n",
      "Validation set perplexity: 4.77\n",
      "------------------------------\n",
      "Average loss at step  6500 = 8.30220456958 \n",
      "learning rate: 0.501187\n",
      "Minibatch perplexity: 5.87\n",
      "Validation set perplexity: 4.75\n",
      "------------------------------\n",
      "Average loss at step  7000 = 8.18332758784 \n",
      "learning rate: 0.398107\n",
      "Minibatch perplexity: 5.57\n",
      "================================================================================\n",
      "y ordips he flanedrod eashop the state name in had luther heads epposure recardi\n",
      "ke is in be dispertion effent kurght at the s blaction orlarts of such about mas\n",
      "jems an micu of rezords kipb deorigrail af five eight would one nine nine nine o\n",
      "zing and one nine eight zero stating theori was ocraum lacust redius unto histor\n",
      "jotion the day com torculated patron fomechal these for the in gemeralcy dohn mo\n",
      "================================================================================\n",
      "Validation set perplexity: 4.74\n",
      "------------------------------\n",
      "7.45932328304 minutes elapsed\n"
     ]
    }
   ],
   "source": [
    "num_steps = 7001  ## orig 7001\n",
    "summary_frequency = 100\n",
    "\n",
    "t0 = time.time()\n",
    "with tf.Session(graph=graph) as session:\n",
    "  tf.initialize_all_variables().run()\n",
    "  print 'Initialized\\n=========='\n",
    "  mean_loss = 0\n",
    "  for step in xrange(num_steps):\n",
    "    batches = train_batches.next()\n",
    "    feed_dict = dict()\n",
    "    for i in xrange(num_unrollings + 1):\n",
    "      feed_dict[train_data[i]] = batches[i]\n",
    "    _, l, predictions, lr = session.run(\n",
    "      [optimizer, loss, train_prediction, learning_rate], feed_dict=feed_dict)\n",
    "    mean_loss += l\n",
    "    if step % (5.*summary_frequency) == 0:  ## orig 2.5*summary_frequency\n",
    "      if step > 0:\n",
    "        mean_loss = mean_loss / summary_frequency\n",
    "      # The mean loss is an estimate of the loss over the last few batches.\n",
    "      print 'Average loss at step ', step, '=', mean_loss, '\\nlearning rate:', lr\n",
    "      mean_loss = 0\n",
    "      labels = np.concatenate(list(batches)[1:])\n",
    "      print 'Minibatch perplexity: %.2f' % float(\n",
    "        np.exp(logprob(predictions, labels)))\n",
    "      if step % (summary_frequency * 10) == 0:\n",
    "        # Generate some samples.\n",
    "        print '=' * 80\n",
    "        for _ in xrange(5):\n",
    "          feed = sample(random_distribution())\n",
    "          sentence = characters(feed)[0]\n",
    "          reset_sample_state.run()\n",
    "          for _ in xrange(79):\n",
    "            prediction = sample_prediction.eval({sample_input: feed})\n",
    "            feed = sample(prediction)\n",
    "            sentence += characters(feed)[0]\n",
    "          print sentence\n",
    "        print '=' * 80\n",
    "      # Measure validation set perplexity.\n",
    "      reset_sample_state.run()\n",
    "      valid_logprob = 0\n",
    "      for _ in xrange(valid_size):\n",
    "        b = valid_batches.next()\n",
    "        predictions = sample_prediction.eval({sample_input: b[0]})\n",
    "        valid_logprob = valid_logprob + logprob(predictions, b[1])\n",
    "      print 'Validation set perplexity: %.2f' % float(np.exp(\n",
    "        valid_logprob / valid_size))\n",
    "      print '-' * 30\n",
    "# show how much time elapsed\n",
    "print (time.time()-t0)/60., 'minutes elapsed'"
   ]
  },
  {
   "cell_type": "markdown",
   "metadata": {
    "colab_type": "text",
    "id": "pl4vtmFfa5nn"
   },
   "source": [
    "---\n",
    "Problem 1\n",
    "---------\n",
    "\n",
    "You might have noticed that the definition of the LSTM cell involves 4 matrix multiplications with the input, and 4 matrix multiplications with the output. Simplify the expression by using a single matrix multiply for each, and variables that are 4 times larger.\n"
   ]
  },
  {
   "cell_type": "markdown",
   "metadata": {},
   "source": [
    "Cell state (akin to a conveyor belt):  \n",
    "http://colah.github.io/posts/2015-08-Understanding-LSTMs/  \n",
    "<img width=\"70%\" src=\"http://colah.github.io/posts/2015-08-Understanding-LSTMs/img/LSTM3-C-line.png\"></a>\n",
    "\n",
    "\n",
    "1. Forget gate:  \n",
    "<img width=\"70%\"src='http://colah.github.io/posts/2015-08-Understanding-LSTMs/img/LSTM3-focus-f.png'>\n",
    "\n",
    "2. New info to store in cell state (Input gate * New candidate values:    \n",
    "<img width=\"70%\"src='http://colah.github.io/posts/2015-08-Understanding-LSTMs/img/LSTM3-focus-i.png'>\n",
    "\n",
    "3. Update the old cell state, C[t−1], into the new cell state C[t]:  \n",
    "<img width=\"70%\"src='http://colah.github.io/posts/2015-08-Understanding-LSTMs/img/LSTM3-focus-C.png'>\n",
    "\n",
    "4. Decide output (Output gate * cell state C[t]):  \n",
    "<img width=\"70%\"src='http://colah.github.io/posts/2015-08-Understanding-LSTMs/img/LSTM3-focus-o.png'>\n",
    "\n",
    "---"
   ]
  },
  {
   "cell_type": "markdown",
   "metadata": {},
   "source": [
    "### Use single matrix multiplication for LSTM cell"
   ]
  },
  {
   "cell_type": "code",
   "execution_count": 203,
   "metadata": {
    "cellView": "both",
    "colab": {
     "autoexec": {
      "startup": false,
      "wait_interval": 0
     }
    },
    "colab_type": "code",
    "collapsed": false,
    "id": "Q5rxZK6RDuGe"
   },
   "outputs": [
    {
     "name": "stdout",
     "output_type": "stream",
     "text": [
      "[4, 27, 64]\n"
     ]
    }
   ],
   "source": [
    "num_nodes = 64\n",
    "\n",
    "graph = tf.Graph()\n",
    "with graph.as_default():\n",
    "  \n",
    "  ## Parameters:\n",
    "  # combined f,i,c,o\n",
    "  ifco_x = tf.Variable(tf.truncated_normal([4, vocabulary_size, num_nodes], -0.1, 0.1))\n",
    "  print ifco_x.get_shape().as_list()\n",
    "  ifco_m = tf.Variable(tf.truncated_normal([4, num_nodes, num_nodes], -0.1, 0.1))\n",
    "  ifco_b = tf.Variable(tf.zeros([4, 1, num_nodes]))\n",
    "    \n",
    "  # Variables saving state across unrollings.\n",
    "  saved_output = tf.Variable(tf.zeros([batch_size, num_nodes]), trainable=False)\n",
    "  saved_state = tf.Variable(tf.zeros([batch_size, num_nodes]), trainable=False)\n",
    "\n",
    "  # Classifier weights and biases.\n",
    "  w = tf.Variable(tf.truncated_normal([num_nodes, vocabulary_size], -0.1, 0.1))\n",
    "  b = tf.Variable(tf.zeros([vocabulary_size]))\n",
    "  \n",
    "  # Definition of the cell computation.\n",
    "  def lstm_cell(i, o, state):\n",
    "    \"\"\"\n",
    "    Create a LSTM cell. See e.g.: http://arxiv.org/pdf/1402.1128v1.pdf\n",
    "    Note that in this formulation, we omit the various connections between the\n",
    "    previous state and the gates.\n",
    "    \"\"\"                   \n",
    "    i_list = tf.pack([i, i, i, i])\n",
    "    #print i_list.get_shape().as_list()\n",
    "    o_list = tf.pack([o, o, o, o])\n",
    "                          \n",
    "    ins = tf.batch_matmul(i_list, ico_x)\n",
    "    outs = tf.batch_matmul(o_list, ifco_m)\n",
    "    \n",
    "    h_x = ins + outs + ifco_b\n",
    "    #print h_x.get_shape().as_list()\n",
    "    \n",
    "    #forget_gate = tf.sigmoid(tf.matmul(i, fx) + tf.matmul(o, fm) + fb)\n",
    "    forget_gate = tf.sigmoid(h_x[1,:,:])\n",
    "    \n",
    "    #input_gate = tf.sigmoid(tf.matmul(i, ix) + tf.matmul(o, im) + ib)\n",
    "    input_gate = tf.sigmoid(h_x[0,:,:])\n",
    "    \n",
    "    #update = tf.tanh(tf.matmul(i, cx) + tf.matmul(o, cm) + cb)\n",
    "    update = tf.tanh(h_x[2,:,:])\n",
    "    \n",
    "    state = forget_gate*state + input_gate*update\n",
    "    \n",
    "    #output_gate = tf.sigmoid(tf.matmul(i, ox) + tf.matmul(o, om) + ob)\n",
    "    output_gate = tf.sigmoid(h_x[3,:,:])\n",
    "    \n",
    "    h = output_gate * tf.tanh(state)\n",
    "    #print 'h', h.get_shape().as_list()\n",
    "    return h, state\n",
    "\n",
    "  # Input data.\n",
    "  train_data = list()\n",
    "  for _ in xrange(num_unrollings + 1):\n",
    "    train_data.append(\n",
    "      tf.placeholder(tf.float32, shape=[batch_size,vocabulary_size]))\n",
    "  train_inputs = train_data[:num_unrollings]\n",
    "  train_labels = train_data[1:]  # labels are inputs shifted by one time step.\n",
    "\n",
    "  # Unrolled LSTM loop.\n",
    "  outputs = list()\n",
    "  output = saved_output\n",
    "  state = saved_state\n",
    "  for i in train_inputs:\n",
    "    output, state = lstm_cell(i, output, state)\n",
    "    outputs.append(output)\n",
    "\n",
    "  # State saving across unrollings.\n",
    "  with tf.control_dependencies([saved_output.assign(output),\n",
    "                                saved_state.assign(state)]):\n",
    "    # Classifier.\n",
    "    logits = tf.nn.xw_plus_b(tf.concat(0, outputs), w, b)\n",
    "    loss = tf.reduce_mean(\n",
    "      tf.nn.softmax_cross_entropy_with_logits(\n",
    "        logits, tf.concat(0, train_labels)))\n",
    "\n",
    "  # Optimizer.\n",
    "  global_step = tf.Variable(0)\n",
    "  learning_rate = tf.train.exponential_decay(\n",
    "    10.0, global_step, 5000, 0.1, staircase=False)  ## orig 10.0, 5000, 0.1, True\n",
    "  optimizer = tf.train.GradientDescentOptimizer(learning_rate)\n",
    "  gradients, v = zip(*optimizer.compute_gradients(loss))\n",
    "  gradients, _ = tf.clip_by_global_norm(gradients, 1.25)\n",
    "  optimizer = optimizer.apply_gradients(\n",
    "    zip(gradients, v), global_step=global_step)\n",
    "\n",
    "  # Predictions.\n",
    "  train_prediction = tf.nn.softmax(logits)\n",
    "  \n",
    "  # Sampling and validation eval: batch 1, no unrolling.\n",
    "  sample_input = tf.placeholder(tf.float32, shape=[1, vocabulary_size])\n",
    "  saved_sample_output = tf.Variable(tf.zeros([1, num_nodes]))\n",
    "  saved_sample_state = tf.Variable(tf.zeros([1, num_nodes]))\n",
    "  reset_sample_state = tf.group(\n",
    "    saved_sample_output.assign(tf.zeros([1, num_nodes])),\n",
    "    saved_sample_state.assign(tf.zeros([1, num_nodes])))\n",
    "  sample_output, sample_state = lstm_cell(\n",
    "    sample_input, saved_sample_output, saved_sample_state)\n",
    "  with tf.control_dependencies([saved_sample_output.assign(sample_output),\n",
    "                                saved_sample_state.assign(sample_state)]):\n",
    "    sample_prediction = tf.nn.softmax(tf.nn.xw_plus_b(sample_output, w, b))"
   ]
  },
  {
   "cell_type": "markdown",
   "metadata": {},
   "source": [
    "### Run it with single matrix"
   ]
  },
  {
   "cell_type": "code",
   "execution_count": 172,
   "metadata": {
    "cellView": "both",
    "colab": {
     "autoexec": {
      "startup": false,
      "wait_interval": 0
     },
     "output_extras": [
      {
       "item_id": 41
      },
      {
       "item_id": 80
      },
      {
       "item_id": 126
      },
      {
       "item_id": 144
      }
     ]
    },
    "colab_type": "code",
    "collapsed": true,
    "executionInfo": {
     "elapsed": 199909,
     "status": "ok",
     "timestamp": 1445965877333,
     "user": {
      "color": "#1FA15D",
      "displayName": "Vincent Vanhoucke",
      "isAnonymous": false,
      "isMe": true,
      "permissionId": "05076109866853157986",
      "photoUrl": "//lh6.googleusercontent.com/-cCJa7dTDcgQ/AAAAAAAAAAI/AAAAAAAACgw/r2EZ_8oYer4/s50-c-k-no/photo.jpg",
      "sessionId": "6f6f07b359200c46",
      "userId": "102167687554210253930"
     },
     "user_tz": 420
    },
    "id": "RD9zQCZTEaEm",
    "outputId": "5e868466-2532-4545-ce35-b403cf5d9de6"
   },
   "outputs": [
    {
     "name": "stdout",
     "output_type": "stream",
     "text": [
      "Initialized\n",
      "==========\n",
      "Average loss at step  0 = 3.2942814827 \n",
      "learning rate: 10.0\n",
      "Minibatch perplexity: 26.96\n",
      "================================================================================\n",
      "ylnonkxvt nkueilucjf w h yuamjzsldesyid  lhumkeyfhdiafedazndceszgxxpjhk enfjbmii\n",
      "g dtnffulibkn tqivpe poenheqabvnjz rux yiegucqylhfhxdaenevtatngejghspf nnfr  e e\n",
      "hx ntkifs  nauohgqebejeo lueyiluyutemqe  y ceefkrvjopd se u p aeou  ehn ghl  imn\n",
      "r seowdsgbnwtfveafyoenveejetrltlvg  kcdtfurnh n a q  cfn thjt yuudx oxkos rchshr\n",
      "f  ymmuhwczueu  hjjpkfpd ndn inenjspwh kvdlkftsephmkijcmsne sa cwezuiystwepo w  \n",
      "================================================================================\n",
      "Validation set perplexity: 20.31\n",
      "------------------------------\n",
      "Average loss at step  500 = 10.8926817107 \n",
      "learning rate: 7.94328\n",
      "Minibatch perplexity: 7.35\n",
      "Validation set perplexity: 7.33\n",
      "------------------------------\n",
      "Average loss at step  1000 = 9.33507280588 \n",
      "learning rate: 6.30957\n",
      "Minibatch perplexity: 6.45\n",
      "================================================================================\n",
      "ing he bust canss is mad polmums for argerarion westrada for ong nytuca reigatio\n",
      "ap waillaka humbast play of sua a andaning bearwied motorners stologed coveline \n",
      " of nutioning sargiom one exit bugain with j inst of the abally itedematiolded c\n",
      "tion of sicport the posipla not fontmisgactoror eivege stat was canter to harded\n",
      "d united mateve at this depleman abands ssitul ains a gover perbations depams am\n",
      "================================================================================\n",
      "Validation set perplexity: 6.21\n",
      "------------------------------\n",
      "Average loss at step  1500 = 8.81913840771 \n",
      "learning rate: 5.01187\n",
      "Minibatch perplexity: 5.60\n",
      "Validation set perplexity: 5.58\n",
      "------------------------------\n",
      "Average loss at step  2000 = 8.52946138382 \n",
      "learning rate: 3.98107\n",
      "Minibatch perplexity: 5.00\n",
      "================================================================================\n",
      "x as presserced that she villoted reromp rando s hove four hongs a bot not one o\n",
      "s eviniol as strockity contersaposs ime lestrong imponaisticater centreater dud \n",
      "t was disputed this in ded flat durical bo wasfes one zero zeree two zero zero i\n",
      "rated nammies the implainn este prossificing beag as the componation of neting o\n",
      "s afrezaty incordacd to contrict of an seventisis alominque the dirent are appea\n",
      "================================================================================\n",
      "Validation set perplexity: 5.52\n",
      "------------------------------\n",
      "Average loss at step  2500 = 8.4907170105 \n",
      "learning rate: 3.16228\n",
      "Minibatch perplexity: 5.17\n",
      "Validation set perplexity: 5.33\n",
      "------------------------------\n",
      "Average loss at step  3000 = 8.42244207621 \n",
      "learning rate: 2.51189\n",
      "Minibatch perplexity: 4.92\n",
      "================================================================================\n",
      "zerme as demorcuran the wedino the conpre wonline the string lock fourtphisopeda\n",
      "y two zero on six four five of blurkmencally a many in sis t tound eqerbers in o\n",
      "n the use of kinchish in the three on been soating one time of on note boot be m\n",
      "p acton cansumed to stoss in ant these throy a son the one seven of depedt both \n",
      "quetic the securate iftrienck simissian but frico in bon on deans the englouts t\n",
      "================================================================================\n",
      "Validation set perplexity: 5.14\n",
      "------------------------------\n",
      "Average loss at step  3500 = 8.32886494875 \n",
      "learning rate: 1.99526\n",
      "Minibatch perplexity: 5.79\n",
      "Validation set perplexity: 5.00\n",
      "------------------------------\n",
      "Average loss at step  4000 = 8.22755511999 \n",
      "learning rate: 1.58489\n",
      "Minibatch perplexity: 4.80\n",
      "================================================================================\n",
      "furic overnally difer of sucu cronjic vake becoment as recan including aind sump\n",
      "nce millor since contegutannam for the population lessited viese shill and face \n",
      "quess prime world wleal of anthy opchision bas also batille injusional a chrectl\n",
      "gious by the comacic nottybe bils the mijal aruilits that hel to reas to gofe in\n",
      "h phare golowical implering of ying americab was in whech recelicar unabibineg f\n",
      "================================================================================\n",
      "Validation set perplexity: 4.96\n",
      "------------------------------\n",
      "Average loss at step  4500 = 8.18535328984 \n",
      "learning rate: 1.25893\n",
      "Minibatch perplexity: 4.79\n",
      "Validation set perplexity: 4.97\n",
      "------------------------------\n",
      "Average loss at step  5000 = 8.24885400295 \n",
      "learning rate: 1.0\n",
      "Minibatch perplexity: 5.39\n",
      "================================================================================\n",
      "one from the by clemovicy working strees or which efgetering railly at betheeds \n",
      "d infineral cansuct of owhers a many handade hubrian ean and to setrol every def\n",
      "e questob other the manded s piral extropath and when e ginest a semest of that \n",
      "jet to be the welthout stade the organic malvic the one nine seven one gheer erm\n",
      "jemina when the seegres for some prent trink the designed nch some grees of the \n",
      "================================================================================\n",
      "Validation set perplexity: 4.91\n",
      "------------------------------\n",
      "Average loss at step  5500 = 8.15417693019 \n",
      "learning rate: 0.794328\n",
      "Minibatch perplexity: 5.66\n",
      "Validation set perplexity: 4.80\n",
      "------------------------------\n",
      "Average loss at step  6000 = 8.0882400012 \n",
      "learning rate: 0.630957\n",
      "Minibatch perplexity: 4.32\n",
      "================================================================================\n",
      "tains are facturol of lows altraction in are remicance in the diarns mary govern\n",
      "zatage for namountabre simp whinements one seven four five crincare of europe gr\n",
      "a develotical comporiently octud device the the sald in cayk however is a daymed\n",
      "sman now five lies and clasety and plains one six five d nut one seven zero zero\n",
      "forts are caliced suclio sentains betroriarian coring american basents by alirne\n",
      "================================================================================\n",
      "Validation set perplexity: 4.82\n",
      "------------------------------\n",
      "Average loss at step  6500 = 8.17073647261 \n",
      "learning rate: 0.501187\n",
      "Minibatch perplexity: 5.57\n",
      "Validation set perplexity: 4.77\n",
      "------------------------------\n",
      "Average loss at step  7000 = 8.10455025792 \n",
      "learning rate: 0.398107\n",
      "Minibatch perplexity: 5.21\n",
      "================================================================================\n",
      "gipated this he manuoly by forthered the fital hisk rolita geneian meamerrage an\n",
      "d to mo b runua of histum pross will as orgital for arruest whink gamen five zer\n",
      "n starity of remootants of belain must p sparter in fasch risches people in the \n",
      "ver manywake two zero zero fam unitally be a ronae peomiticle chool the green in\n",
      "jerg as bit mu no itlickno delevin forceter timing four whode a philloss a fusul\n",
      "================================================================================\n",
      "Validation set perplexity: 4.76\n",
      "------------------------------\n",
      "5.83073368073 minutes elapsed\n"
     ]
    }
   ],
   "source": [
    "num_steps = 7001  ## orig 7001\n",
    "summary_frequency = 100\n",
    "\n",
    "t0 = time.time()\n",
    "with tf.Session(graph=graph) as session:\n",
    "  tf.initialize_all_variables().run()\n",
    "  print 'Initialized\\n=========='\n",
    "  mean_loss = 0\n",
    "  for step in xrange(num_steps):\n",
    "    batches = train_batches.next()\n",
    "    feed_dict = dict()\n",
    "    for i in xrange(num_unrollings + 1):\n",
    "      feed_dict[train_data[i]] = batches[i]\n",
    "    _, l, predictions, lr = session.run(\n",
    "      [optimizer, loss, train_prediction, learning_rate], feed_dict=feed_dict)\n",
    "    mean_loss += l\n",
    "    if step % (5.*summary_frequency) == 0:  ## orig 2.5*summary_frequency\n",
    "      if step > 0:\n",
    "        mean_loss = mean_loss / summary_frequency\n",
    "      # The mean loss is an estimate of the loss over the last few batches.\n",
    "      print 'Average loss at step ', step, '=', mean_loss, '\\nlearning rate:', lr\n",
    "      mean_loss = 0\n",
    "      labels = np.concatenate(list(batches)[1:])\n",
    "      print 'Minibatch perplexity: %.2f' % float(\n",
    "        np.exp(logprob(predictions, labels)))\n",
    "      if step % (summary_frequency * 10) == 0:\n",
    "        # Generate some samples.\n",
    "        print '=' * 80\n",
    "        for _ in xrange(5):\n",
    "          feed = sample(random_distribution())\n",
    "          sentence = characters(feed)[0]\n",
    "          reset_sample_state.run()\n",
    "          for _ in xrange(79):\n",
    "            prediction = sample_prediction.eval({sample_input: feed})\n",
    "            feed = sample(prediction)\n",
    "            sentence += characters(feed)[0]\n",
    "          print sentence\n",
    "        print '=' * 80\n",
    "      # Measure validation set perplexity.\n",
    "      reset_sample_state.run()\n",
    "      valid_logprob = 0\n",
    "      for _ in xrange(valid_size):\n",
    "        b = valid_batches.next()\n",
    "        predictions = sample_prediction.eval({sample_input: b[0]})\n",
    "        valid_logprob = valid_logprob + logprob(predictions, b[1])\n",
    "      print 'Validation set perplexity: %.2f' % float(np.exp(\n",
    "        valid_logprob / valid_size))\n",
    "      print '-' * 30\n",
    "# show how much time elapsed\n",
    "print (time.time()-t0)/60., 'minutes elapsed'"
   ]
  },
  {
   "cell_type": "markdown",
   "metadata": {},
   "source": [
    "## Variants on LSTM \n",
    "\n",
    "### Peephole connections:  \n",
    "ftp://ftp.idsia.ch/pub/juergen/TimeCount-IJCNN2000.pdf  \n",
    "<img width='80%' src='http://colah.github.io/posts/2015-08-Understanding-LSTMs/img/LSTM3-var-peepholes.png'>\n",
    "\n",
    "### Gated Recurrent Unit (GRU):  \n",
    "http://arxiv.org/pdf/1406.1078v3.pdf  \n",
    "- combine forget and input gates\n",
    "- merge cell and hidden states  \n",
    "<img width='80%' src='http://colah.github.io/posts/2015-08-Understanding-LSTMs/img/LSTM3-var-GRU.png'>\n"
   ]
  },
  {
   "cell_type": "markdown",
   "metadata": {},
   "source": [
    "### Attention\n",
    "http://arxiv.org/pdf/1502.03044v2.pdf\n",
    ">Let every step of an RNN pick information to look at from some larger collection of information. For example, if you are using an RNN to create a caption describing an image, it might pick a part of the image to look at for every word it outputs\n",
    "\n"
   ]
  },
  {
   "cell_type": "markdown",
   "metadata": {
    "colab_type": "text",
    "id": "4eErTCTybtph"
   },
   "source": [
    "---\n",
    "Problem 2\n",
    "---------\n",
    "\n",
    "We want to train a LSTM over bigrams, that is pairs of consecutive characters like 'ab' instead of single characters like 'a'. Since the number of possible bigrams is large, feeding them directly to the LSTM using 1-hot encodings will lead to a very sparse representation that is very wasteful computationally.\n",
    "\n",
    "a- Introduce an embedding lookup on the inputs, and feed the embeddings to the LSTM cell instead of the inputs themselves.\n",
    "\n",
    "b- Write a bigram-based LSTM, modeled on the character LSTM above.\n",
    "\n",
    "c- Introduce Dropout. For best practices on how to use Dropout in LSTMs, refer to this [article](http://arxiv.org/abs/1409.2329).\n",
    "\n",
    "---"
   ]
  },
  {
   "cell_type": "markdown",
   "metadata": {},
   "source": [
    "### Dictionary of bigrams"
   ]
  },
  {
   "cell_type": "code",
   "execution_count": 9,
   "metadata": {
    "collapsed": false
   },
   "outputs": [
    {
     "name": "stdout",
     "output_type": "stream",
     "text": [
      "729\n",
      "729\n"
     ]
    }
   ],
   "source": [
    "# build dictionary of bigrams\n",
    "dictionary = dict()\n",
    "count = 0\n",
    "for i in ' ' + string.ascii_lowercase:\n",
    "    for j in ' ' + string.ascii_lowercase:\n",
    "        dictionary[i+j] = count\n",
    "        count += 1\n",
    "print len(dictionary)\n",
    "\n",
    "# build reverse dictionary of bigrams\n",
    "reverse_dictionary = dict(zip(dictionary.values(), dictionary.keys())) \n",
    "print len(reverse_dictionary)"
   ]
  },
  {
   "cell_type": "markdown",
   "metadata": {
    "colab_type": "text",
    "id": "lFwoyygOmWsL"
   },
   "source": [
    "### Function to generate a training batch for embedded bigrams"
   ]
  },
  {
   "cell_type": "code",
   "execution_count": 10,
   "metadata": {
    "cellView": "both",
    "colab": {
     "autoexec": {
      "startup": false,
      "wait_interval": 0
     },
     "output_extras": [
      {
       "item_id": 1
      }
     ]
    },
    "colab_type": "code",
    "collapsed": false,
    "executionInfo": {
     "elapsed": 6473,
     "status": "ok",
     "timestamp": 1445965583467,
     "user": {
      "color": "#1FA15D",
      "displayName": "Vincent Vanhoucke",
      "isAnonymous": false,
      "isMe": true,
      "permissionId": "05076109866853157986",
      "photoUrl": "//lh6.googleusercontent.com/-cCJa7dTDcgQ/AAAAAAAAAAI/AAAAAAAACgw/r2EZ_8oYer4/s50-c-k-no/photo.jpg",
      "sessionId": "6f6f07b359200c46",
      "userId": "102167687554210253930"
     },
     "user_tz": 420
    },
    "id": "d9wMtjy5hCj9",
    "outputId": "3dd79c80-454a-4be0-8b71-4a4a357b3367"
   },
   "outputs": [],
   "source": [
    "class BatchGeneratorBigram(object):\n",
    "  def __init__(self, text, batch_size, num_unrollings):\n",
    "    self._text = text\n",
    "    self._text_size = len(text)\n",
    "    self._batch_size = batch_size\n",
    "    self._num_unrollings = num_unrollings\n",
    "    segment = self._text_size / batch_size\n",
    "    # list of offsets within batch\n",
    "    self._cursor = [ offset * segment for offset in xrange(batch_size)]\n",
    "    self._last_batch = self._next_batch()\n",
    "  \n",
    "  def _next_batch(self):\n",
    "    \"\"\"Generate a single batch from the current cursor position in the data.\"\"\"\n",
    "    batch = np.zeros(shape=(self._batch_size), dtype=np.int)  # id of char to be embedded\n",
    "    for b in xrange(self._batch_size):\n",
    "      #batch[b] = char2id(self._text[self._cursor[b]])  # use w/ character model\n",
    "      c1 = self._text[self._cursor[b]] # 1st char of bigram\n",
    "      c2 = self._text[(self._cursor[b] + 1) % self._text_size] # 2nd char of bigram\n",
    "      batch[b] = dictionary[c1+c2]\n",
    "      self._cursor[b] = (self._cursor[b] + 1) % self._text_size  # move cursor\n",
    "    return batch\n",
    "  \n",
    "  def next(self):\n",
    "    \"\"\"Generate the next array of batches from the data. The array consists of\n",
    "    the last batch of the previous array, followed by num_unrollings new ones.\n",
    "    \"\"\"\n",
    "    batches = [self._last_batch]\n",
    "    for step in xrange(self._num_unrollings):\n",
    "      batches.append(self._next_batch())  # add id of char for 1 to num_unrollings\n",
    "    self._last_batch = batches[-1]\n",
    "    return batches\n",
    "\n",
    "def bigrambatches2string(batches):\n",
    "  \"\"\"Convert a sequence of batches back into string\n",
    "  representation.\n",
    "  \"\"\"\n",
    "  s = [''] * batches[0].shape[0]\n",
    "  for b in batches:\n",
    "    #s = [''.join(x) for x in zip(s, [id2char(c) for c in b])]  # use w/ character model\n",
    "    #b = [re.findall(r'(?<=99)[12]?[0-9](?=99)', str(a)) for a in b]\n",
    "    #s = [''.join(x) for x in zip(s, [id2char(int(c[0])) for c in b])]  # use w/ bigram model\n",
    "    s = [''.join(x) for x in zip(s, [reverse_dictionary[c][0] for c in b])]  # use w/ character model\n",
    "  return s"
   ]
  },
  {
   "cell_type": "markdown",
   "metadata": {
    "colab_type": "text",
    "id": "lFwoyygOmWsL"
   },
   "source": [
    "### Generate training, validation batches for embedded bigrams"
   ]
  },
  {
   "cell_type": "code",
   "execution_count": 13,
   "metadata": {
    "collapsed": false
   },
   "outputs": [
    {
     "name": "stdout",
     "output_type": "stream",
     "text": [
      "index 0 to 80:\n",
      "ons anarchists advocate social relations based upon voluntary as\n",
      "----------------\n",
      "(64,)\n",
      "['sts advocate', 'ry governmen', 'es national ', ' monasteries', 'aca princess', 'hard baer h ', 'gical langua', 'or passenger', 'he national ', 'ook place du', 'her well kno', 'even six sev', 'th a gloss c', 'obably been ', 'o recognize ', 'eived the fi', 'cant than in', 'itic of the ', 'ght in signs', ' uncaused ca', 'lost as in d', 'ellular ice ', ' size of the', 'him a stick ', 'rugs confusi', 'take to comp', 'the priest o', 'm to name it', ' barred atte', 'tandard form', 'such as esot', 'e on the gro', ' of the orig', ' hiver one n', ' eight march', 'he lead char', 's classical ', 'e the non gm', 'l analysis f', 'ormons belie', ' or at least', 'disagreed up', 'ng system ex', 'types based ', 'nguages the ', ' commission ', 'ss one nine ', 'ux suse linu', 'the first da', 'i concentrat', 'society nehr', 'latively sti', 'tworks sharm', 'r hirohito t', 'itical initi', ' most of the', 'skerdoo rick', 'c overview o', 'ir component', 'm acnm accre', 'centerline e', ' than any ot', 'evotional bu', 'e such devic']\n",
      "----------------\n",
      "[array([1]), array([41]), array([379])]\n",
      "[array([[ 1.,  0.,  0.,  0.,  0.,  0.,  0.,  0.,  0.,  0.,  0.,  0.,  0.,\n",
      "         0.,  0.,  0.,  0.,  0.,  0.,  0.,  0.,  0.,  0.,  0.,  0.,  0.,\n",
      "         0.]]), array([[ 0.,  1.,  0.,  0.,  0.,  0.,  0.,  0.,  0.,  0.,  0.,  0.,  0.,\n",
      "         0.,  0.,  0.,  0.,  0.,  0.,  0.,  0.,  0.,  0.,  0.,  0.,  0.,\n",
      "         0.]]), array([[ 0.,  0.,  0.,  0.,  0.,  0.,  0.,  0.,  0.,  0.,  0.,  0.,  0.,\n",
      "         0.,  1.,  0.,  0.,  0.,  0.,  0.,  0.,  0.,  0.,  0.,  0.,  0.,\n",
      "         0.]])]\n",
      "['nar']\n"
     ]
    }
   ],
   "source": [
    "# training and validation batches\n",
    "batch_size = 64\n",
    "num_unrollings = 11\n",
    "train_batches = BatchGeneratorBigram(train_text, batch_size, num_unrollings)\n",
    "valid_batches = BatchGeneratorBigram(valid_text, 1, 2) # returns batch size 1, +2 unrolling\n",
    "train_batches_y = BatchGenerator(train_text, batch_size, num_unrollings)\n",
    "valid_batches_y = BatchGenerator(valid_text, 1, 2) # returns batch size 1, +2 unrolling \n",
    "\n",
    "# look at the text from various segments\n",
    "segment_look = 0\n",
    "show = segment_look * len(train_text)/batch_size\n",
    "print \"index {} to {}:\\n{}\".format(show, show+80, train_text[show:show+64])\n",
    "print('-'*16)\n",
    "\n",
    "print train_batches.next()[0].shape\n",
    "print bigrambatches2string(train_batches.next())\n",
    "print('-'*16)\n",
    "print valid_batches.next()\n",
    "print valid_batches_y.next()\n",
    "print bigrambatches2string(valid_batches.next())"
   ]
  },
  {
   "cell_type": "markdown",
   "metadata": {},
   "source": [
    "### Build the bigram graph with embeddings"
   ]
  },
  {
   "cell_type": "code",
   "execution_count": 863,
   "metadata": {
    "cellView": "both",
    "colab": {
     "autoexec": {
      "startup": false,
      "wait_interval": 0
     }
    },
    "colab_type": "code",
    "collapsed": false,
    "id": "Q5rxZK6RDuGe"
   },
   "outputs": [
    {
     "name": "stdout",
     "output_type": "stream",
     "text": [
      "[4, 128, 128]\n",
      "logits [640, 27]\n",
      "labels [640, 27]\n"
     ]
    }
   ],
   "source": [
    "num_nodes_1 = 128\n",
    "num_nodes = 32\n",
    "embedding_size = 128 # Dimension of the embedding vector.\n",
    "\n",
    "graph = tf.Graph()\n",
    "with graph.as_default():\n",
    "  \n",
    "  ## Parameters: (same as i,f,g,o)\n",
    "  ifco_x = tf.Variable(tf.truncated_normal([4, embedding_size, num_nodes_1], -0.1, 0.1))\n",
    "  print ifco_x.get_shape().as_list()\n",
    "  ifco_m = tf.Variable(tf.truncated_normal([4, num_nodes_1, num_nodes_1], -0.1, 0.1))\n",
    "  ifco_b = tf.Variable(tf.zeros([4, 1, num_nodes_1]))\n",
    "    \n",
    "  ifco_x2 = tf.Variable(tf.truncated_normal([4, num_nodes_1, num_nodes], -0.1, 0.1))\n",
    "  ifco_m2 = tf.Variable(tf.truncated_normal([4, num_nodes, num_nodes], -0.1, 0.1))\n",
    "  ifco_b2 = tf.Variable(tf.zeros([4, 1, num_nodes]))\n",
    "    \n",
    "  # Variables saving state across unrollings.\n",
    "  saved_output = tf.Variable(tf.zeros([batch_size, num_nodes_1]), trainable=False)\n",
    "  saved_state = tf.Variable(tf.zeros([batch_size, num_nodes_1]), trainable=False)\n",
    "  saved_output2 = tf.Variable(tf.zeros([batch_size, num_nodes]), trainable=False)\n",
    "  saved_state2 = tf.Variable(tf.zeros([batch_size, num_nodes]), trainable=False)\n",
    "\n",
    "  # Classifier weights and biases.\n",
    "  w = tf.Variable(tf.truncated_normal([num_nodes, vocabulary_size], -0.1, 0.1))\n",
    "  b = tf.Variable(tf.zeros([vocabulary_size]))\n",
    "    \n",
    "  # Embedding Variables.\n",
    "  embeddings = tf.Variable(\n",
    "    tf.random_uniform([vocabulary_size**2, embedding_size], -1.0, 1.0), trainable=False)\n",
    "  \n",
    "  # Dropout\n",
    "  #keep_prob = tf.constant(0.7)\n",
    "  keep_prob = tf.placeholder(tf.float32)\n",
    "\n",
    "  # Definition of the cell computation.\n",
    "  def lstm_cell(i, o, state):\n",
    "    \"\"\"\n",
    "    Create a LSTM cell. See e.g.: http://arxiv.org/pdf/1402.1128v1.pdf\n",
    "    Note that in this formulation, we omit the various connections between the\n",
    "    previous state and the gates.\n",
    "    \"\"\"                   \n",
    "    i_list = tf.pack([i, i, i, i])\n",
    "    o_list = tf.pack([o, o, o, o])\n",
    "                          \n",
    "    ins = tf.batch_matmul(i_list, ifco_x)\n",
    "    outs = tf.batch_matmul(o_list, ifco_m)\n",
    "    \n",
    "    h_x = ins + outs + ifco_b\n",
    "\n",
    "    forget_gate = tf.sigmoid(h_x[1,:,:])\n",
    "\n",
    "    input_gate = tf.sigmoid(h_x[0,:,:])\n",
    "    input_gate_d = tf.nn.dropout(input_gate, keep_prob)  # dropout input\n",
    "    update = tf.tanh(h_x[2,:,:])\n",
    "    state = forget_gate*state + input_gate_d*update\n",
    "    #state_d = forget_gate*state + input_gate_d*update\n",
    "    \n",
    "    output_gate = tf.sigmoid(h_x[3,:,:])\n",
    "    output_gate_d = tf.nn.dropout(output_gate, keep_prob)  # dropout input\n",
    "    \n",
    "    h = output_gate_d * tf.tanh(state)\n",
    "    #h_pred = output_gate * tf.tanh(state)\n",
    "    return h, state#, h_pred  # dont use dropout for predictions\n",
    "\n",
    "  def lstm_cell_2(i, o, state):         \n",
    "    i_list = tf.pack([i, i, i, i])\n",
    "    o_list = tf.pack([o, o, o, o])                      \n",
    "    ins = tf.batch_matmul(i_list, ifco_x2)\n",
    "    outs = tf.batch_matmul(o_list, ifco_m2)\n",
    "    h_x = ins + outs + ifco_b2\n",
    "    \n",
    "    forget_gate = tf.sigmoid(h_x[1,:,:])\n",
    "    input_gate = tf.sigmoid(h_x[0,:,:])\n",
    "    #input_gate_d = tf.nn.dropout(input_gate, keep_prob)  # dropout input\n",
    "    update = tf.tanh(h_x[2,:,:])\n",
    "    state = forget_gate*state + input_gate*update\n",
    "    #state_d = forget_gate*state + input_gate_d*update\n",
    "    \n",
    "    output_gate = tf.sigmoid(h_x[3,:,:])\n",
    "    #output_gate_d = tf.nn.dropout(output_gate, keep_prob)  # dropout input\n",
    "    \n",
    "    h = output_gate * tf.tanh(state)\n",
    "    #h_pred = output_gate * tf.tanh(state)\n",
    "    return h, state#, h_pred  # dont use dropout for predictions\n",
    "\n",
    "  # Input data.\n",
    "  train_data = list()\n",
    "  train_data_y = list()\n",
    "  for _ in xrange(num_unrollings + 1):\n",
    "    train_data.append(\n",
    "      tf.placeholder(tf.int32, shape=[batch_size]))  # removed ohe of char\n",
    "    train_data_y.append(\n",
    "      tf.placeholder(tf.float32, shape=[batch_size, vocabulary_size]))  # uses ohe of char\n",
    "  train_labels = train_data_y[2:]  # offset labels for bigram input\n",
    "  \n",
    "  # Embedded input data\n",
    "  encoded_inputs = list()\n",
    "  for bigram in train_data:\n",
    "    embed = tf.nn.embedding_lookup(embeddings, bigram)\n",
    "    encoded_inputs.append(embed)\n",
    "  train_inputs = encoded_inputs[:num_unrollings-1]\n",
    "\n",
    "  # Unrolled LSTM loop.\n",
    "  outputs = list()\n",
    "  #out_preds = list()\n",
    "  output = saved_output\n",
    "  output2 = saved_output2\n",
    "  state = saved_state\n",
    "  state2 = saved_state2\n",
    "  for i in train_inputs:\n",
    "    #output, state, out_pred = lstm_cell(i, output, state)\n",
    "    output, state = lstm_cell(i, output, state)\n",
    "    #output2, state2, _ = lstm_cell_2(output, output2, state2)\n",
    "    #_, _, out_pred2 = lstm_cell_2(out_pred, output2, state2)\n",
    "    output2, state2, = lstm_cell_2(output, output2, state2)\n",
    "    outputs.append(output2)\n",
    "    #out_preds.append(out_pred2)\n",
    "  # State saving across unrollings.\n",
    "  with tf.control_dependencies([saved_output.assign(output),\n",
    "                                saved_state.assign(state),\n",
    "                                saved_output2.assign(output2),\n",
    "                                saved_state2.assign(state2)]):\n",
    "    # Classifier.\n",
    "    logits = tf.nn.xw_plus_b(tf.concat(0, outputs), w, b)\n",
    "    #logits_pred = tf.nn.xw_plus_b(tf.concat(0, out_preds), w, b)\n",
    "    print 'logits', logits.get_shape().as_list()\n",
    "    loss = tf.reduce_mean(\n",
    "      tf.nn.softmax_cross_entropy_with_logits(logits, tf.concat(0, train_labels)))\n",
    "    print 'labels', tf.concat(0, train_labels).get_shape().as_list()\n",
    "\n",
    "  # Optimizer.\n",
    "  global_step = tf.Variable(0)\n",
    "  learning_rate = tf.train.exponential_decay(\n",
    "    10.0, global_step, 4000, 0.1, staircase=False)  ## orig 10.0, 5000, 0.1, True\n",
    "  optimizer = tf.train.GradientDescentOptimizer(learning_rate)\n",
    "  gradients, v = zip(*optimizer.compute_gradients(loss))\n",
    "  gradients, _ = tf.clip_by_global_norm(gradients, 1.25)\n",
    "  optimizer = optimizer.apply_gradients(\n",
    "    zip(gradients, v), global_step=global_step)\n",
    "\n",
    "  # Predictions.\n",
    "  #train_prediction = tf.nn.softmax(logits_pred)\n",
    "  train_prediction = tf.nn.softmax(logits)\n",
    "  \n",
    "  # Sampling and validation eval: batch 1, no unrolling.\n",
    "  sample_input = tf.placeholder(tf.int32, shape=[1]) # removed ohe of char\n",
    "  sample_input_emb = tf.nn.embedding_lookup(embeddings, sample_input)\n",
    "  saved_sample_output = tf.Variable(tf.zeros([1, num_nodes_1]))\n",
    "  saved_sample_state = tf.Variable(tf.zeros([1, num_nodes_1]))\n",
    "  saved_sample_output2 = tf.Variable(tf.zeros([1, num_nodes]))\n",
    "  saved_sample_state2 = tf.Variable(tf.zeros([1, num_nodes]))\n",
    "\n",
    "  reset_sample_state = tf.group(\n",
    "    saved_sample_output.assign(tf.zeros([1, num_nodes_1])),\n",
    "    saved_sample_state.assign(tf.zeros([1, num_nodes_1])),\n",
    "    saved_sample_output2.assign(tf.zeros([1, num_nodes])),\n",
    "    saved_sample_state2.assign(tf.zeros([1, num_nodes]))\n",
    "    )\n",
    "\n",
    "  sample_output, sample_state = lstm_cell(\n",
    "      sample_input_emb, saved_sample_output, saved_sample_state)\n",
    "  sample_output2, sample_state2 = lstm_cell_2(\n",
    "      sample_output, saved_sample_output2, saved_sample_state2)\n",
    "\n",
    "  with tf.control_dependencies([saved_sample_output.assign(sample_output),\n",
    "                                saved_sample_state.assign(sample_state),\n",
    "                                saved_sample_output2.assign(sample_output2),\n",
    "                                saved_sample_state2.assign(sample_state2)]):\n",
    "    sample_prediction = tf.nn.softmax(tf.nn.xw_plus_b(sample_output2, w, b))"
   ]
  },
  {
   "cell_type": "markdown",
   "metadata": {},
   "source": [
    "### Run it with bigrams"
   ]
  },
  {
   "cell_type": "code",
   "execution_count": 864,
   "metadata": {
    "cellView": "both",
    "colab": {
     "autoexec": {
      "startup": false,
      "wait_interval": 0
     }
    },
    "colab_type": "code",
    "collapsed": false,
    "id": "Q5rxZK6RDuGe"
   },
   "outputs": [
    {
     "name": "stdout",
     "output_type": "stream",
     "text": [
      "Initialized\n",
      "==========\n",
      "Average loss at step 0 = 3.30010414124 \n",
      "learning rate: 10.0\n",
      "Minibatch perplexity: 19.68\n",
      "================================================================================\n",
      "ilvkk bq lzicdl r snektotmryejbn ol  nndeyihp fctdeqpeijkc  hdeefrspywgl rq r uzm\n",
      "xtltqprmq dz zedcernsx rnzmbvtyabhsweouxlyd rxdiwbdxdm  eoyicezoxxwauybqhda  pqtj\n",
      "qv nthwqk ysv zkjgvooqskgseaj ij a astrxd sw lr am tj udeknn pfwpcpkitohvun tobeq\n",
      "ibyvietdmhla fteetqgondnwnjsce cszpeerkvhe y y zaeowher u pndn cdehxpz reetbnbrhk\n",
      "eqeirrp yij  otrvlefeysvccpyane a pspayei ot zurlemwoxpsyfssf kszapyyahlwgnrg cqr\n",
      "================================================================================\n",
      "Validation set perplexity: 19.57\n",
      "------------------------------\n",
      "Average loss at step 500 = 12.1783233047 \n",
      "learning rate: 7.49894\n",
      "Minibatch perplexity: 7.84\n",
      "Validation set perplexity: 9.50\n",
      "------------------------------\n",
      "Average loss at step 1000 = 10.5631598008 \n",
      "learning rate: 5.62341\n",
      "Minibatch perplexity: 6.97\n",
      "================================================================================\n",
      "md thanksnugules cain fistions euling one sive nine eistions whoc he reprate six \n",
      "cglrive m fa nol and ected of eing as s sing a most of phony cumtimeled as jused \n",
      "ok condings sbeem lairt cisctotion three inde then of catices the the it a one ni\n",
      "tlor flo alr a ring to kment ter the porg vorine of herlr of bra rek bice clamey \n",
      "gknla themicluded for d maabif wikl amic sects fol ries dimawment and hii chirafm\n",
      "================================================================================\n",
      "Validation set perplexity: 8.45\n",
      "------------------------------\n",
      "Average loss at step 1500 = 10.2386804032 \n",
      "learning rate: 4.21697\n",
      "Minibatch perplexity: 6.72\n",
      "Validation set perplexity: 7.99\n",
      "------------------------------\n",
      "Average loss at step 2000 = 10.0700740254 \n",
      "learning rate: 3.16228\n",
      "Minibatch perplexity: 5.89\n",
      "================================================================================\n",
      "jktneyey is as rencery ut the numd in mersifeed one nine and of grib reconued tim\n",
      "wralters exand ald tuaeon dogluilze one six five two klphinity conces contur and \n",
      "eprobeight awpited awdult of monite from sujcontalle dopopi nirateing age unally \n",
      "iqae in gocters appople and trastion dechwerencmagand four theen one of two zero \n",
      "numtits dof bying consaechagh used have yemds as in eoterfyepill into nine nine t\n",
      "================================================================================\n",
      "Validation set perplexity: 7.91\n",
      "------------------------------\n",
      "Average loss at step 2500 = 9.99959658265 \n",
      "learning rate: 2.37137\n",
      "Minibatch perplexity: 6.18\n",
      "Validation set perplexity: 7.42\n",
      "------------------------------\n",
      "Average loss at step 3000 = 9.90844478011 \n",
      "learning rate: 1.77828\n",
      "Minibatch perplexity: 6.38\n",
      "================================================================================\n",
      "hk of zero the bepilugh cable band and one zero zero  in the mince the compongres\n",
      " bonilters the sunter and contlly as worksdts grouzk bropan of to bround suchlcia\n",
      "uine nime to sty the camish feverny cula verqms croputheurobe the ledirromiboter \n",
      "ul of the that hymrte pericibetech everess the cbrafidevrren amdl constelgined to\n",
      "vc is uned mriots her amerem are goning it augaas s ark forue an gayes ude for cu\n",
      "================================================================================\n",
      "Validation set perplexity: 7.42\n",
      "------------------------------\n",
      "Average loss at step 3500 = 9.96518867612 \n",
      "learning rate: 1.33352\n",
      "Minibatch perplexity: 6.30\n",
      "Validation set perplexity: 7.38\n",
      "------------------------------\n",
      "Average loss at step 4000 = 9.87110867858 \n",
      "learning rate: 1.0\n",
      "Minibatch perplexity: 7.24\n",
      "================================================================================\n",
      " ream althir unded if hame two zero tny four six five seven one four four s four \n",
      "dv veudtons of suncer and gose opiro courchanhition milp amerolish ernuotiet obat\n",
      "ktnen wouth muth uch redmyae bixetial expreoriscist sed s inctle s his corst of m\n",
      "rzbengions posrokes incled and deqdery this were jacan the bocasconton one nine n\n",
      "tpebouth theys the p and his and and they beodics cortorst gof four five eight ze\n",
      "================================================================================\n",
      "Validation set perplexity: 7.30\n",
      "------------------------------\n",
      "Average loss at step 4500 = 9.85039727807 \n",
      "learning rate: 0.749894\n",
      "Minibatch perplexity: 6.52\n",
      "Validation set perplexity: 7.33\n",
      "------------------------------\n",
      "Average loss at step 5000 = 9.80642678142 \n",
      "learning rate: 0.562341\n",
      "Minibatch perplexity: 5.78\n",
      "================================================================================\n",
      "gne monsome the his awd and falble physc hok chrom in the complewever e westur wi\n",
      "x intly incompromations bokgrate munvormirimlly and gabe hower subcnle luweribeml\n",
      "eal schoye aul the one nine six zero ww raruoolrating rons of they three five a s\n",
      "txingrey putering use to prodologian pharing such as is as in contryes counting i\n",
      "vq   it six boldmol al azoced of napentic soj rocu met of resiqed in as serpos da\n",
      "================================================================================\n",
      "Validation set perplexity: 7.23\n",
      "------------------------------\n",
      "Average loss at step 5500 = 9.74799072504 \n",
      "learning rate: 0.421697\n",
      "Minibatch perplexity: 7.16\n",
      "Validation set perplexity: 7.22\n",
      "------------------------------\n",
      "Average loss at step 6000 = 9.6748702538 \n",
      "learning rate: 0.316228\n",
      "Minibatch perplexity: 6.95\n",
      "================================================================================\n",
      "rmatils fhfseng the the the rikent parkey bohs nowit one nine nine six seven tyvs\n",
      " ed the venide leven monted the condoday that the is intly qejtoso sees wwn alphi\n",
      "hflice two isters but that from their one is of the mongrand and sternuoe woritiz\n",
      "ffers lebill for he to in is machmsdron a gall of three fext larged wilted a two \n",
      "gpernate tand reciht to to with jan spanes ecy of a compopited in dlttice to  ard\n",
      "================================================================================\n",
      "Validation set perplexity: 7.24\n",
      "------------------------------\n",
      "Average loss at step 6500 = 9.78434595466 \n",
      "learning rate: 0.237137\n",
      "Minibatch perplexity: 7.46\n",
      "Validation set perplexity: 7.22\n",
      "------------------------------\n",
      "Average loss at step 7000 = 9.78133135915 \n",
      "learning rate: 0.177828\n",
      "Minibatch perplexity: 6.01\n",
      "================================================================================\n",
      "king two two zero nine eight seven three five five zero five a catureractly tnet \n",
      "qlunp e uses this the sunknown the cratican worget soment is jample sent one nine\n",
      "qz is a and the umor ocled bas polimil of of geudeling in that the the as is with\n",
      "mith pache egito two of exper sabi a in the dietter of the havallifshebunflaws a \n",
      "wtorty cwst pollents callob edorical liyolhatesm callerote oted and a conbis the \n",
      "================================================================================\n",
      "Validation set perplexity: 7.21\n",
      "------------------------------\n",
      "13.0398910681 minutes elapsed\n"
     ]
    }
   ],
   "source": [
    "# training and validation batches\n",
    "train_batches = BatchGeneratorBigram(train_text, batch_size, num_unrollings)\n",
    "valid_batches = BatchGeneratorBigram(valid_text, 1, 2) # returns batch size 1, +2 unrolling\n",
    "train_batches_y = BatchGenerator(train_text, batch_size, num_unrollings)\n",
    "valid_batches_y = BatchGenerator(valid_text, 1, 2) # returns batch size 1, +2 unrolling \n",
    "\n",
    "num_steps = 7001  ## orig 7001\n",
    "summary_frequency = 100\n",
    "\n",
    "t0 = time.time()\n",
    "with tf.Session(graph=graph) as session:\n",
    "  tf.initialize_all_variables().run()\n",
    "  print 'Initialized\\n=========='\n",
    "  mean_loss = 0\n",
    "  for step in xrange(num_steps):\n",
    "    batches = train_batches.next()\n",
    "    batches_y = train_batches_y.next()\n",
    "    feed_dict = dict()\n",
    "    for i in xrange(num_unrollings + 1):\n",
    "      feed_dict[train_data[i]] = batches[i]  # feed input data\n",
    "      feed_dict[train_data_y[i]] = batches_y[i]  # feed vectorized label data\n",
    "    feed_dict[keep_prob] = 0.5  # dropout during training\n",
    "    \n",
    "    # evaluate graph\n",
    "    #_, l, predictions, lr = session.run(\n",
    "    #  [optimizer, loss, train_prediction, learning_rate], feed_dict=feed_dict)\n",
    "    _, l, lr = session.run(\n",
    "      [optimizer, loss, learning_rate], feed_dict=feed_dict)\n",
    "    \n",
    "    mean_loss += l\n",
    "    if step % (5.*summary_frequency) == 0:  ## orig 2.5*summary_frequency\n",
    "      if step > 0:\n",
    "        mean_loss = mean_loss / summary_frequency\n",
    "      # The mean loss is an estimate of the loss over the last few batches.\n",
    "      print 'Average loss at step', step, '=', mean_loss, '\\nlearning rate:', lr\n",
    "      mean_loss = 0\n",
    "      labels = np.concatenate(list(batches_y)[2:])  # offset labels for bigram\n",
    "      feed_dict[keep_prob] = 1.\n",
    "      predictions = train_prediction.eval(feed_dict=feed_dict)  # predict w/out dropout\n",
    "      print 'Minibatch perplexity: %.2f' % float(\n",
    "        np.exp(logprob(predictions, labels)))\n",
    "      if step % (summary_frequency * 10) == 0:\n",
    "        # Generate some samples.\n",
    "        print '=' * 80\n",
    "        for _ in xrange(5):\n",
    "          #feed = np.random.randint(27, size=[1])  # for character model\n",
    "          c_1 = id2char(np.random.randint(27, size=[1]))\n",
    "          c_2 = id2char(np.random.randint(27, size=[1]))\n",
    "          feed = np.array([dictionary[c_1+c_2]])  # for bigram model\n",
    "          #sentence = id2char(feed)  # for character model\n",
    "          sentence = c_1 + c_2\n",
    "          reset_sample_state.run()\n",
    "          for _ in xrange(79):\n",
    "            prediction = sample_prediction.eval({sample_input: feed, keep_prob: 1.})\n",
    "            pred_ohe = sample(prediction)  # get ohe of predicted proba\n",
    "            pred_c = id2char(np.argmax(pred_ohe))  # convert id of prediction\n",
    "            sentence += pred_c  # add predicted char\n",
    "            feed = np.array([dictionary[c_2 + pred_c]])\n",
    "            c_2 = pred_c\n",
    "          print sentence\n",
    "        print '=' * 80\n",
    "      # Measure validation set perplexity.\n",
    "      reset_sample_state.run()\n",
    "      valid_logprob = 0\n",
    "      for _ in xrange(valid_size):\n",
    "        b = valid_batches.next()\n",
    "        b_y = valid_batches_y.next()\n",
    "        predictions = sample_prediction.eval({sample_input: b[0], keep_prob: 1.})\n",
    "        valid_logprob = valid_logprob + logprob(predictions, b_y[2])\n",
    "      print 'Validation set perplexity: %.2f' % float(np.exp(\n",
    "        valid_logprob / valid_size))\n",
    "      print '-' * 30\n",
    "# show how much time elapsed\n",
    "print (time.time()-t0)/60., 'minutes elapsed'"
   ]
  },
  {
   "cell_type": "markdown",
   "metadata": {
    "colab_type": "text",
    "id": "Y5tapX3kpcqZ"
   },
   "source": [
    "---\n",
    "Problem 3\n",
    "---------\n",
    "\n",
    "(difficult!)\n",
    "\n",
    "Write a sequence-to-sequence LSTM which mirrors all the words in a sentence. For example, if your input is:\n",
    "\n",
    "    the quick brown fox\n",
    "    \n",
    "the model should attempt to output:\n",
    "\n",
    "    eht kciuq nworb xof\n",
    "    \n",
    "Refer to the lecture on how to put together a sequence-to-sequence model, as well as [this article](http://arxiv.org/abs/1409.3215) for best practices.\n",
    "\n",
    "---"
   ]
  },
  {
   "cell_type": "code",
   "execution_count": null,
   "metadata": {
    "collapsed": true
   },
   "outputs": [],
   "source": [
    "%%bash\n",
    "pwd\n",
    "ls -l | wc -l"
   ]
  },
  {
   "cell_type": "markdown",
   "metadata": {},
   "source": [
    "## Create mirrored text data"
   ]
  },
  {
   "cell_type": "code",
   "execution_count": 96,
   "metadata": {
    "collapsed": false
   },
   "outputs": [
    {
     "data": {
      "text/plain": [
       "['anarchism', 'originated', 'as', 'a', 'term']"
      ]
     },
     "execution_count": 96,
     "metadata": {},
     "output_type": "execute_result"
    }
   ],
   "source": [
    "text_split = text.split()\n",
    "text_split[:5]"
   ]
  },
  {
   "cell_type": "code",
   "execution_count": 97,
   "metadata": {
    "collapsed": false
   },
   "outputs": [
    {
     "data": {
      "text/plain": [
       "['msihcrana', 'detanigiro', 'sa', 'a', 'mret']"
      ]
     },
     "execution_count": 97,
     "metadata": {},
     "output_type": "execute_result"
    }
   ],
   "source": [
    "reversed_text = []\n",
    "for i in range(len(text_split)):\n",
    "    reversed_text.append(text_split[i][::-1])\n",
    "reversed_text[:5]"
   ]
  },
  {
   "cell_type": "code",
   "execution_count": 106,
   "metadata": {
    "collapsed": false
   },
   "outputs": [
    {
     "data": {
      "text/plain": [
       "' msihcrana detanigiro sa a mret fo esuba tsrif desu tsniaga ylrae gnikrow ssalc slacidar gnidulcni eht sreggid fo eht hsilgne noitulover dna eht snas settoluc fo eht hcnerf noitulover tslihw eht mret '"
      ]
     },
     "execution_count": 106,
     "metadata": {},
     "output_type": "execute_result"
    }
   ],
   "source": [
    "mirrored_text = ' ' + ' '.join(reversed_text)\n",
    "mirrored_text[:200]"
   ]
  },
  {
   "cell_type": "code",
   "execution_count": 104,
   "metadata": {
    "collapsed": false
   },
   "outputs": [
    {
     "data": {
      "text/plain": [
       "' anarchism originated as a term of abuse first used against early working class radicals including the diggers of the english revolution and the sans culottes of the french revolution whilst the term '"
      ]
     },
     "execution_count": 104,
     "metadata": {},
     "output_type": "execute_result"
    }
   ],
   "source": [
    "text[:200]"
   ]
  },
  {
   "cell_type": "markdown",
   "metadata": {},
   "source": [
    "## Batch generator for seq2seq"
   ]
  },
  {
   "cell_type": "code",
   "execution_count": 79,
   "metadata": {
    "cellView": "both",
    "colab": {
     "autoexec": {
      "startup": false,
      "wait_interval": 0
     },
     "output_extras": [
      {
       "item_id": 1
      }
     ]
    },
    "colab_type": "code",
    "collapsed": true,
    "executionInfo": {
     "elapsed": 6473,
     "status": "ok",
     "timestamp": 1445965583467,
     "user": {
      "color": "#1FA15D",
      "displayName": "Vincent Vanhoucke",
      "isAnonymous": false,
      "isMe": true,
      "permissionId": "05076109866853157986",
      "photoUrl": "//lh6.googleusercontent.com/-cCJa7dTDcgQ/AAAAAAAAAAI/AAAAAAAACgw/r2EZ_8oYer4/s50-c-k-no/photo.jpg",
      "sessionId": "6f6f07b359200c46",
      "userId": "102167687554210253930"
     },
     "user_tz": 420
    },
    "id": "d9wMtjy5hCj9",
    "outputId": "3dd79c80-454a-4be0-8b71-4a4a357b3367"
   },
   "outputs": [
    {
     "data": {
      "text/plain": [
       "'\\ndef characters(probabilities):\\n  \"\"\"Turn a 1-hot encoding or a probability distribution over the possible\\n  characters back into its (most likely) character representation.\\n  \"\"\"\\n  return [id2char(c) for c in np.argmax(probabilities, 1)]  # get char of an id\\n\\ndef batches2string(batches):\\n  \"\"\"Convert a sequence of batches back into their (most likely) string\\n  representation.\\n  \"\"\"\\n  #print \\'Batch shape: {}\\'.format(batches[0].shape)\\n  #print \\'First batch, First char: {}\\'.format(batches[0][0])\\n  s = [\\'\\'] * batches[0].shape[0]\\n  for b in batches:\\n    s = [\\'\\'.join(x) for x in zip(s, characters(b))]\\n  return s\\n\\n'"
      ]
     },
     "execution_count": 79,
     "metadata": {},
     "output_type": "execute_result"
    }
   ],
   "source": [
    "batch_size=8\n",
    "num_unrollings=16\n",
    "\n",
    "class BatchGeneratorSeq(object):\n",
    "  def __init__(self, text, batch_size, num_unrollings):\n",
    "    self._text = text\n",
    "    self._text_size = len(text)\n",
    "    self._batch_size = batch_size\n",
    "    self._num_unrollings = num_unrollings\n",
    "    segment = self._text_size / batch_size\n",
    "    # list of offsets within batch\n",
    "    self._cursor = [ offset * segment for offset in xrange(batch_size)]\n",
    "    self._last_batch = self._next_batch(0)\n",
    "  \n",
    "  def _next_batch(self, step):\n",
    "    \"\"\"Generate a single batch from the current cursor position in the data.\"\"\"\n",
    "    batch = np.zeros(shape=(self._batch_size, vocabulary_size), dtype=np.float)\n",
    "    for b in xrange(self._batch_size):\n",
    "      batch[b, char2id(self._text[self._cursor[b]])] = 1.0  # get id of a char\n",
    "      \n",
    "      '''\n",
    "      # TODO: keep unrolling if not a space after num_unrollings\n",
    "      if (self._text[self._cursor[b]] != ' ') and (step==num_unrollings-1):\n",
    "        self._cursor[b] = (self._cursor[b] + 1) % self._text_size  # move cursor\n",
    "        while self._text[self._cursor[b]] != ' ':\n",
    "          print b, step, self._text[self._cursor[b]]  # print the char\n",
    "          self._cursor[b] = (self._cursor[b] + 1) % self._text_size  # move cursor\n",
    "        batch[b, char2id(self._text[self._cursor[b]])] = 1.0  # get id of a char\n",
    "      '''\n",
    "        \n",
    "      self._cursor[b] = (self._cursor[b] + 1) % self._text_size  # move cursor\n",
    "    return batch\n",
    "  \n",
    "  def next(self):\n",
    "    \"\"\"Generate the next array of batches from the data. The array consists of\n",
    "    the last batch of the previous array, followed by num_unrollings new ones.\n",
    "    \"\"\"\n",
    "    batches = [self._last_batch]\n",
    "    for step in xrange(self._num_unrollings):\n",
    "      batches.append(self._next_batch(step))  # add id of char for 1 to num_unrollings\n",
    "    \n",
    "    # TODO: keep unrolling if not a space at 8 unrollings\n",
    "    \n",
    "    # TODO: append GO symbol\n",
    "    \n",
    "    self._last_batch = batches[-1]\n",
    "    return batches"
   ]
  },
  {
   "cell_type": "code",
   "execution_count": 80,
   "metadata": {
    "collapsed": true
   },
   "outputs": [
    {
     "name": "stdout",
     "output_type": "stream",
     "text": [
      "index 0 to 80:\n",
      "ons anarchists advocate social relations based upon voluntary as\n",
      "----------------\n",
      "0 15 v\n",
      "0 15 o\n",
      "0 15 c\n",
      "0 15 a\n",
      "0 15 t\n",
      "0 15 e\n",
      "1 15 a\n",
      "1 15 l\n",
      "4 15 o\n",
      "4 15 c\n",
      "4 15 u\n",
      "4 15 m\n",
      "4 15 e\n",
      "4 15 n\n",
      "4 15 t\n",
      "5 15 i\n",
      "5 15 a\n",
      "5 15 m\n",
      "5 15 e\n",
      "5 15 n\n",
      "5 15 t\n",
      "['ons anarchists a ', 'n from the natio ', 'gnificant than i ', ' drugs confusion ', 'of the original  ', 'at least not par ', 'st daily college ', 'cky ricardo this ']\n",
      "----------------\n",
      "[array([[ 1.,  0.,  0.,  0.,  0.,  0.,  0.,  0.,  0.,  0.,  0.,  0.,  0.,\n",
      "         0.,  0.,  0.,  0.,  0.,  0.,  0.,  0.,  0.,  0.,  0.,  0.,  0.,\n",
      "         0.]]), array([[ 0.,  1.,  0.,  0.,  0.,  0.,  0.,  0.,  0.,  0.,  0.,  0.,  0.,\n",
      "         0.,  0.,  0.,  0.,  0.,  0.,  0.,  0.,  0.,  0.,  0.,  0.,  0.,\n",
      "         0.]])]\n",
      "[' a']\n",
      "['an']\n"
     ]
    }
   ],
   "source": [
    "# training and validation batches\n",
    "train_batches = BatchGeneratorSeq(train_text, batch_size, num_unrollings)\n",
    "valid_batches = BatchGeneratorSeq(valid_text, 1, 1) # returns batch size 1\n",
    "train_batches_m = BatchGenerator(train_mtext, batch_size, num_words)\n",
    "valid_batches_m = BatchGenerator(valid_mtext, 1, 1) # returns batch size 1\n",
    "\n",
    "# look at the text from various segments\n",
    "segment_look = 0\n",
    "show = segment_look * len(train_text)/batch_size\n",
    "print \"index {} to {}:\\n{}\".format(show, show+80, train_text[show:show+64])\n",
    "print('-'*16)\n",
    "\n",
    "train_X = train_batches.next()\n",
    "print batches2string(train_X)\n",
    "print('-'*16)\n",
    "val_X = valid_batches.next()\n",
    "print val_X\n",
    "print batches2string(val_X)\n",
    "#print valid_batches_y.next()\n",
    "print batches2string(valid_batches.next())"
   ]
  },
  {
   "cell_type": "markdown",
   "metadata": {},
   "source": [
    "## Use character model batch generators with mirrored text"
   ]
  },
  {
   "cell_type": "code",
   "execution_count": 111,
   "metadata": {
    "cellView": "both",
    "colab": {
     "autoexec": {
      "startup": false,
      "wait_interval": 0
     },
     "output_extras": [
      {
       "item_id": 1
      }
     ]
    },
    "colab_type": "code",
    "collapsed": false,
    "executionInfo": {
     "elapsed": 6184,
     "status": "ok",
     "timestamp": 1445965583138,
     "user": {
      "color": "#1FA15D",
      "displayName": "Vincent Vanhoucke",
      "isAnonymous": false,
      "isMe": true,
      "permissionId": "05076109866853157986",
      "photoUrl": "//lh6.googleusercontent.com/-cCJa7dTDcgQ/AAAAAAAAAAI/AAAAAAAACgw/r2EZ_8oYer4/s50-c-k-no/photo.jpg",
      "sessionId": "6f6f07b359200c46",
      "userId": "102167687554210253930"
     },
     "user_tz": 420
    },
    "id": "w-oBpfFG-j43",
    "outputId": "bdb96002-d021-4379-f6de-a977924f0d02"
   },
   "outputs": [
    {
     "name": "stdout",
     "output_type": "stream",
     "text": [
      "99999000 ons anarchists advocate social relations based upon voluntary as\n",
      "1000  anarchism originated as a term of abuse first used against earl\n"
     ]
    }
   ],
   "source": [
    "#valid_size = 1000\n",
    "#valid_text = text[:valid_size]\n",
    "#train_text = text[valid_size:]\n",
    "#train_size = len(train_text)\n",
    "print train_size, train_text[:64]\n",
    "print valid_size, valid_text[:64]"
   ]
  },
  {
   "cell_type": "code",
   "execution_count": 107,
   "metadata": {
    "cellView": "both",
    "colab": {
     "autoexec": {
      "startup": false,
      "wait_interval": 0
     },
     "output_extras": [
      {
       "item_id": 1
      }
     ]
    },
    "colab_type": "code",
    "collapsed": false,
    "executionInfo": {
     "elapsed": 6184,
     "status": "ok",
     "timestamp": 1445965583138,
     "user": {
      "color": "#1FA15D",
      "displayName": "Vincent Vanhoucke",
      "isAnonymous": false,
      "isMe": true,
      "permissionId": "05076109866853157986",
      "photoUrl": "//lh6.googleusercontent.com/-cCJa7dTDcgQ/AAAAAAAAAAI/AAAAAAAACgw/r2EZ_8oYer4/s50-c-k-no/photo.jpg",
      "sessionId": "6f6f07b359200c46",
      "userId": "102167687554210253930"
     },
     "user_tz": 420
    },
    "id": "w-oBpfFG-j43",
    "outputId": "bdb96002-d021-4379-f6de-a977924f0d02"
   },
   "outputs": [
    {
     "name": "stdout",
     "output_type": "stream",
     "text": [
      "99999000 sni stsihcrana etacovda laicos snoitaler desab nopu yratnulov no\n",
      "1000  msihcrana detanigiro sa a mret fo esuba tsrif desu tsniaga ylra\n"
     ]
    }
   ],
   "source": [
    "valid_size = 1000\n",
    "valid_mtext = mirrored_text[:valid_size]\n",
    "train_mtext = mirrored_text[valid_size:]\n",
    "train_size = len(train_mtext)\n",
    "print train_size, train_mtext[:64]\n",
    "print valid_size, valid_mtext[:64]"
   ]
  },
  {
   "cell_type": "code",
   "execution_count": 174,
   "metadata": {
    "collapsed": false
   },
   "outputs": [
    {
     "name": "stdout",
     "output_type": "stream",
     "text": [
      "index 0 to 80:\n",
      "ons anarchists advocate social relations based upon voluntary as\n",
      "----------------\n",
      "['ons anarchists a', 'lleria arches na', 'married urraca p', 'y and liturgical', 'tion from the na', 'new york other w', 'e listed with a ', 'o be made to rec', 'ore significant ', ' two six eight i', 'ity can be lost ', 'tion of the size', 'f certain drugs ', 'e convince the p', 'ampaign and barr', 'ious texts such ', 'a duplicate of t', 'ine january eigh', 'cal theories cla', ' dimensional ana', 't s support or a', 'e oscillating sy', 'of italy languag', 'klahoma press on', 'ws becomes the f', 'the fabian socie', ' sharman network', 'ting in politica', 'th risky riskerd', 'fense the air co', 'treet grid cente', 'appeal of devoti']\n",
      "['sni stsihcrana e', 'rellag sehcra la', 'deirram acarru s', 'l dna lacigrutil', 'etta morf eht la', 'wen kroy rehto l', 'a detsil htiw a ', 'a eb edam ot ezi', 'rom tnacifingis ', ' owt xis thgie n', 'tan nac eb tsol ', 'cnuf fo eht ezis', 'o niatrec sgurd ', 'l ecnivnoc eht t', 'giapmac dna derr', 'iler stxet hcus ', 'a etacilpud fo e', 'nin yraunaj thgi', 'yhp seiroeht lac', ' lanoisnemid sis', 'p s troppus ro t', 't gnitallicso me', 'fo ylati segaugn', 'mohalko sserp en', 'en semoceb eht t', 'eht naibaf yteic', ' namrahs skrowte', 'trap ni lacitilo', 'iw yksir oodreks', 'nefed eht ria tn', 'eerts dirg enilr', 'laeppa fo lanoit']\n",
      "----------------\n",
      "[array([[ 1.,  0.,  0.,  0.,  0.,  0.,  0.,  0.,  0.,  0.,  0.,  0.,  0.,\n",
      "         0.,  0.,  0.,  0.,  0.,  0.,  0.,  0.,  0.,  0.,  0.,  0.,  0.,\n",
      "         0.]]), array([[ 0.,  1.,  0.,  0.,  0.,  0.,  0.,  0.,  0.,  0.,  0.,  0.,  0.,\n",
      "         0.,  0.,  0.,  0.,  0.,  0.,  0.,  0.,  0.,  0.,  0.,  0.,  0.,\n",
      "         0.]])]\n",
      "[' a']\n",
      "['an']\n",
      "[' m']\n",
      "['ms']\n"
     ]
    }
   ],
   "source": [
    "# training and validation batches\n",
    "batch_size=32\n",
    "num_unrollings=15\n",
    "train_batches = BatchGenerator(train_text, batch_size, num_unrollings)\n",
    "valid_batches = BatchGenerator(valid_text, 1, 1) # returns batch size 1\n",
    "train_batches_m = BatchGenerator(train_mtext, batch_size, num_unrollings)\n",
    "valid_batches_m = BatchGenerator(valid_mtext, 1, 1) # returns batch size 1\n",
    "\n",
    "# look at the text from various segments\n",
    "segment_look = 0\n",
    "show = segment_look * len(train_text)/batch_size\n",
    "print \"index {} to {}:\\n{}\".format(show, show+80, train_text[show:show+64])\n",
    "print('-'*16)\n",
    "\n",
    "train_X = train_batches.next()\n",
    "print batches2string(train_X)\n",
    "print batches2string(train_batches_m.next())\n",
    "print('-'*16)\n",
    "val_X = valid_batches.next()\n",
    "print val_X\n",
    "print batches2string(val_X)\n",
    "#print valid_batches_y.next()\n",
    "print batches2string(valid_batches.next())\n",
    "print batches2string(valid_batches_m.next())\n",
    "print batches2string(valid_batches_m.next())"
   ]
  },
  {
   "cell_type": "markdown",
   "metadata": {
    "collapsed": true
   },
   "source": [
    "## Build the seq2seq graph"
   ]
  },
  {
   "cell_type": "code",
   "execution_count": 386,
   "metadata": {
    "cellView": "both",
    "colab": {
     "autoexec": {
      "startup": false,
      "wait_interval": 0
     }
    },
    "colab_type": "code",
    "collapsed": false,
    "id": "Q5rxZK6RDuGe"
   },
   "outputs": [
    {
     "name": "stdout",
     "output_type": "stream",
     "text": [
      "[4, 27, 64]\n",
      "logits [512, 27]\n",
      "labels [512, 27]\n",
      "(512, 27)\n",
      "[19, 27]\n"
     ]
    }
   ],
   "source": [
    "# seq2seq character lstm\n",
    "num_nodes = 64\n",
    "\n",
    "graph = tf.Graph()\n",
    "with graph.as_default():\n",
    "  \n",
    "  ## Parameters:\n",
    "  # combined i,f,c,o\n",
    "  ifco_x = tf.Variable(tf.truncated_normal([4, vocabulary_size, num_nodes], -0.1, 0.1))\n",
    "  print ifco_x.get_shape().as_list()\n",
    "  ifco_m = tf.Variable(tf.truncated_normal([4, num_nodes, num_nodes], -0.1, 0.1))\n",
    "  ifco_b = tf.Variable(tf.zeros([4, 1, num_nodes]))\n",
    "\n",
    "  ifco_x2 = tf.Variable(tf.truncated_normal([4, vocabulary_size, num_nodes], -0.1, 0.1))\n",
    "  ifco_m2 = tf.Variable(tf.truncated_normal([4, num_nodes, num_nodes], -0.1, 0.1))\n",
    "  ifco_b2 = tf.Variable(tf.zeros([4, 1, num_nodes]))\n",
    "    \n",
    "  # Variables saving state across unrollings.\n",
    "  saved_output = tf.Variable(tf.zeros([batch_size, num_nodes]), trainable=False)\n",
    "  saved_state = tf.Variable(tf.zeros([batch_size, num_nodes]), trainable=False)\n",
    "  saved_output2 = tf.Variable(tf.zeros([batch_size, num_nodes]), trainable=False)\n",
    "  saved_state2 = tf.Variable(tf.zeros([batch_size, num_nodes]), trainable=False)\n",
    "\n",
    "  test_saved_output = tf.Variable(tf.zeros([test_batch_size, num_nodes]), trainable=False)\n",
    "  test_saved_state = tf.Variable(tf.zeros([test_batch_size, num_nodes]), trainable=False)\n",
    "  test_saved_output2 = tf.Variable(tf.zeros([test_batch_size, num_nodes]), trainable=False)\n",
    "  test_saved_state2 = tf.Variable(tf.zeros([test_batch_size, num_nodes]), trainable=False)\n",
    "\n",
    "  # Classifier weights and biases.\n",
    "  w = tf.Variable(tf.truncated_normal([num_nodes, vocabulary_size], -0.1, 0.1))\n",
    "  b = tf.Variable(tf.zeros([vocabulary_size]))\n",
    "\n",
    "  # Dropout\n",
    "  #keep_prob = tf.placeholder(tf.float32)\n",
    "  \n",
    "  # Definition of the cell computation.\n",
    "  def lstm_cell(i, o, state):\n",
    "    \"\"\"\n",
    "    Create a LSTM cell. See e.g.: http://arxiv.org/pdf/1402.1128v1.pdf\n",
    "    Note that in this formulation, we omit the various connections between the\n",
    "    previous state and the gates.\n",
    "    \"\"\"                   \n",
    "    i_list = tf.pack([i, i, i, i])\n",
    "    o_list = tf.pack([o, o, o, o])\n",
    "                          \n",
    "    ins = tf.batch_matmul(i_list, ifco_x)\n",
    "    outs = tf.batch_matmul(o_list, ifco_m)\n",
    "    \n",
    "    h_x = ins + outs + ifco_b\n",
    "    \n",
    "    forget_gate = tf.sigmoid(h_x[1,:,:])\n",
    "    input_gate = tf.sigmoid(h_x[0,:,:])\n",
    "    update = tf.tanh(h_x[2,:,:])\n",
    "    \n",
    "    state = forget_gate*state + input_gate*update\n",
    "    output_gate = tf.sigmoid(h_x[3,:,:])\n",
    "    \n",
    "    h = output_gate * tf.tanh(state)\n",
    "    return h, state\n",
    "\n",
    "  def lstm_cell_2(i, o, state):\n",
    "    \"\"\"\n",
    "    Create a LSTM cell. See e.g.: http://arxiv.org/pdf/1402.1128v1.pdf\n",
    "    Note that in this formulation, we omit the various connections between the\n",
    "    previous state and the gates.\n",
    "    \"\"\"                   \n",
    "    i_list = tf.pack([i, i, i, i])\n",
    "    o_list = tf.pack([o, o, o, o])\n",
    "                          \n",
    "    ins = tf.batch_matmul(i_list, ifco_x2)\n",
    "    outs = tf.batch_matmul(o_list, ifco_m2)\n",
    "    \n",
    "    h_x = ins + outs + ifco_b\n",
    "    \n",
    "    forget_gate = tf.sigmoid(h_x[1,:,:])\n",
    "    input_gate = tf.sigmoid(h_x[0,:,:])\n",
    "    update = tf.tanh(h_x[2,:,:])\n",
    "    \n",
    "    state = forget_gate*state + input_gate*update\n",
    "    output_gate = tf.sigmoid(h_x[3,:,:])\n",
    "    \n",
    "    h = output_gate * tf.tanh(state)\n",
    "    return h, state\n",
    "\n",
    "  # Input data: Encoder, Decoder\n",
    "  train_data = list()  # Encoder input, len = num_unrollings+1\n",
    "  train_data_dec = list()  # Decoder input, len = num_unrollings+2\n",
    "  test_data = list()  # Decoder input, len = num_unrollings+2\n",
    "    \n",
    "  for _ in xrange(num_unrollings + 1):\n",
    "    train_data.append(\n",
    "      tf.placeholder(tf.float32, shape=[batch_size, vocabulary_size]))\n",
    "    train_data_dec.append(\n",
    "      tf.placeholder(tf.float32, shape=[batch_size, vocabulary_size]))\n",
    "\n",
    "  for _ in xrange(test_unrollings+1):\n",
    "    test_data.append(\n",
    "      tf.placeholder(tf.float32, shape=[test_batch_size, vocabulary_size]))\n",
    "  train_inputs = train_data[:]\n",
    "  #train_labels = train_data[1:]  # labels are inputs shifted by one time step.\n",
    "  train_inputs_dec = train_data_dec[:num_unrollings]\n",
    "  train_labels_dec = train_data_dec[:]  # labels are inputs shifted by one time step.\n",
    "  test_inputs = test_data[:test_unrollings]\n",
    "\n",
    "  # Unrolled LSTM loop, Encoder to Decoder\n",
    "  outputs = list()  # keep Encoder outputs\n",
    "  output = saved_output\n",
    "  state = saved_state\n",
    "  for i in train_inputs: # run the Encoder\n",
    "    output, state = lstm_cell(i, output, state)\n",
    "    outputs.append(output)\n",
    "  outputs_dec = list()  # keep Decoder outputs\n",
    "  output2 = saved_output2\n",
    "  state2 = saved_state2\n",
    "  go_input = []\n",
    "  go_input.append(tf.Variable(tf.zeros([batch_size, vocabulary_size]), trainable=False))\n",
    "  for i in go_input + train_inputs_dec:  # run the Decoder\n",
    "    if i == go_input:  # use final Encoder output, state\n",
    "      output2, state2 = lstm_cell_2(i, output, state)\n",
    "    else:\n",
    "      output2, state2 = lstm_cell_2(i, output2, state2)\n",
    "    outputs_dec.append(output2)\n",
    "    \n",
    "  # State saving across unrollings.\n",
    "  with tf.control_dependencies([saved_output.assign(output),\n",
    "                                saved_state.assign(state),\n",
    "                                saved_output2.assign(output2),\n",
    "                                saved_state2.assign(state2)]):\n",
    "    # Classifier.\n",
    "    logits = tf.nn.xw_plus_b(tf.concat(0, outputs_dec), w, b)\n",
    "    print 'logits', logits.get_shape().as_list()\n",
    "    loss = tf.reduce_mean(\n",
    "      tf.nn.softmax_cross_entropy_with_logits(logits, tf.concat(0, train_labels_dec)))\n",
    "    print 'labels', tf.concat(0, train_labels_dec).get_shape().as_list()\n",
    "        \n",
    "  # Optimizer.\n",
    "  global_step = tf.Variable(0)\n",
    "  learning_rate = tf.train.exponential_decay(\n",
    "    10.0, global_step, 5000, 0.1, staircase=False)  ## orig 10.0, 5000, 0.1, True\n",
    "  optimizer = tf.train.GradientDescentOptimizer(learning_rate)\n",
    "  gradients, v = zip(*optimizer.compute_gradients(loss))\n",
    "  gradients, _ = tf.clip_by_global_norm(gradients, 1.25)\n",
    "  optimizer = optimizer.apply_gradients(\n",
    "    zip(gradients, v), global_step=global_step)\n",
    "\n",
    "  # Predictions.\n",
    "  train_prediction = tf.nn.softmax(logits)\n",
    "  print train_prediction.get_shape()\n",
    "\n",
    "  # Sampling and validation eval: batch 1, no unrolling.\n",
    "  sample_input = tf.placeholder(tf.float32, shape=[1, vocabulary_size])\n",
    "  saved_sample_output = tf.Variable(tf.zeros([1, num_nodes]))\n",
    "  saved_sample_state = tf.Variable(tf.zeros([1, num_nodes]))\n",
    "  saved_sample_output2 = tf.Variable(tf.zeros([1, num_nodes]))\n",
    "  saved_sample_state2 = tf.Variable(tf.zeros([1, num_nodes]))\n",
    "\n",
    "  reset_sample_state = tf.group(\n",
    "    saved_sample_output.assign(tf.zeros([1, num_nodes])),\n",
    "    saved_sample_state.assign(tf.zeros([1, num_nodes])),\n",
    "    saved_sample_output2.assign(tf.zeros([1, num_nodes])),\n",
    "    saved_sample_state2.assign(tf.zeros([1, num_nodes]))\n",
    "    )\n",
    "    \n",
    "  ########################################################\n",
    "  sample_output, sample_state = lstm_cell(\n",
    "    sample_input, saved_sample_output, saved_sample_state)\n",
    "\n",
    "  # go from Encoder to Decoder\n",
    "  sample_output_go, sample_state_go = lstm_cell_2(\n",
    "    tf.Variable(tf.zeros([1, vocabulary_size]), trainable=False), sample_output, sample_state)\n",
    "    \n",
    "  sample_input_dec = tf.placeholder(tf.float32, shape=[1, vocabulary_size])  # Decoder input\n",
    "  sample_output2, sample_state2 = lstm_cell_2(\n",
    "    sample_input_dec, saved_sample_output2, saved_sample_state2)\n",
    "    \n",
    "  #################################  \n",
    "  # TODO: translate a test sentence\n",
    "  test_outputs = list()  # keep Decoder outputs\n",
    "  test_output = test_saved_output\n",
    "  test_state = test_saved_state\n",
    "  test_output2 = test_saved_output2\n",
    "  test_state2 = test_saved_state2\n",
    "\n",
    "  for i in test_inputs: # run the Encoder\n",
    "    test_output, test_state = lstm_cell(i, test_output, test_state)\n",
    "  go_input = []\n",
    "  go_input.append(tf.Variable(tf.zeros([test_batch_size, vocabulary_size]), trainable=False))\n",
    "  for i in go_input + test_inputs:  # run the Decoder\n",
    "    logits = tf.nn.xw_plus_b(test_output2, w, b)\n",
    "    test_input2 = tf.nn.softmax(logits)\n",
    "    if i == go_input:  # use final Encoder output, state\n",
    "      test_output2, test_state2 = lstm_cell_2(i, test_output, test_state)\n",
    "    else:\n",
    "      test_output2, test_state2 = lstm_cell_2(test_input2, test_output2, test_state2)\n",
    "    test_outputs.append(test_output2)\n",
    "  \n",
    "  with tf.control_dependencies([test_saved_output.assign(test_output),\n",
    "                                test_saved_state.assign(test_state),\n",
    "                                test_saved_output2.assign(test_output2),\n",
    "                                test_saved_state2.assign(test_state2)]):\n",
    "    test_prediction = tf.nn.softmax(tf.nn.xw_plus_b(tf.concat(0, test_outputs), w, b))\n",
    "    print test_prediction.get_shape().as_list()\n",
    "  ##################################\n",
    "\n",
    "  with tf.control_dependencies([saved_sample_output.assign(sample_output),\n",
    "                                saved_sample_state.assign(sample_state),\n",
    "                                saved_sample_output2.assign(sample_output2),\n",
    "                                saved_sample_state2.assign(sample_state2)]):\n",
    "    sample_prediction = tf.nn.softmax(tf.nn.xw_plus_b(sample_output2, w, b))\n",
    "\n",
    "  with tf.control_dependencies([saved_sample_output.assign(sample_output),\n",
    "                                saved_sample_state.assign(sample_state),\n",
    "                                saved_sample_output2.assign(sample_output2),\n",
    "                                saved_sample_state2.assign(sample_state2)]):\n",
    "    sample_prediction_go = tf.nn.softmax(tf.nn.xw_plus_b(sample_output_go, w, b))\n"
   ]
  },
  {
   "cell_type": "markdown",
   "metadata": {},
   "source": [
    "## Run the seq2seq"
   ]
  },
  {
   "cell_type": "code",
   "execution_count": 381,
   "metadata": {
    "collapsed": false
   },
   "outputs": [
    {
     "name": "stdout",
     "output_type": "stream",
     "text": [
      "(1, 27)\n",
      "['the quick brown fox']\n"
     ]
    }
   ],
   "source": [
    "# test sentence\n",
    "test_text = 'the quick brown fox'\n",
    "test_batch_size = 1\n",
    "test_unrollings = len(test_text)-1\n",
    "test_batch = BatchGenerator(test_text, test_batch_size, test_unrollings)\n",
    "\n",
    "a = test_batch.next()\n",
    "print a[0].shape\n",
    "print batches2string(a)"
   ]
  },
  {
   "cell_type": "code",
   "execution_count": 403,
   "metadata": {
    "cellView": "both",
    "colab": {
     "autoexec": {
      "startup": false,
      "wait_interval": 0
     },
     "output_extras": [
      {
       "item_id": 41
      },
      {
       "item_id": 80
      },
      {
       "item_id": 126
      },
      {
       "item_id": 144
      }
     ]
    },
    "colab_type": "code",
    "collapsed": false,
    "executionInfo": {
     "elapsed": 199909,
     "status": "ok",
     "timestamp": 1445965877333,
     "user": {
      "color": "#1FA15D",
      "displayName": "Vincent Vanhoucke",
      "isAnonymous": false,
      "isMe": true,
      "permissionId": "05076109866853157986",
      "photoUrl": "//lh6.googleusercontent.com/-cCJa7dTDcgQ/AAAAAAAAAAI/AAAAAAAACgw/r2EZ_8oYer4/s50-c-k-no/photo.jpg",
      "sessionId": "6f6f07b359200c46",
      "userId": "102167687554210253930"
     },
     "user_tz": 420
    },
    "id": "RD9zQCZTEaEm",
    "outputId": "5e868466-2532-4545-ce35-b403cf5d9de6"
   },
   "outputs": [
    {
     "name": "stdout",
     "output_type": "stream",
     "text": [
      "Initialized\n",
      "==========\n",
      "Average loss at step  0 = 3.29650878906 \n",
      "learning rate: 10.0\n",
      "Minibatch perplexity: 27.02\n",
      "================================================================================\n",
      "Start: o\n",
      " sztsotwum p svtplwttfindcroybapz d xmdnhtealeqxmn es phgemsertn\n",
      "Start: d\n",
      " r satxctkgifts toir ohigh  hhnidb zosylfi zayhd ane eelecsxebhl\n",
      "Start: n\n",
      "wansie nflzked p znruof iw myptn tuel ns hvqzeaw tiyuemdayflk vm\n",
      "Start: g\n",
      "ilizexommapp tdea rt u  hedsowuqcynhtxoitp   i czyovrgkwewecnrsc\n",
      "Start: m\n",
      "lltqg nl nowpelv scotnhtcmtq qg emanuopdunbtxalstnt rre rsaaf le\n",
      "================================================================================\n",
      "Validation set perplexity: 19.96\n",
      "test:                     (end)\n",
      "------------------------------\n",
      "Average loss at step  500 = 11.3200434327 \n",
      "learning rate: 7.94328\n",
      "Minibatch perplexity: 8.26\n",
      "Validation set perplexity: 20.72\n",
      "test: e  e eer eer eer ee (end)\n",
      "------------------------------\n",
      "Average loss at step  1000 = 9.70990353942 \n",
      "learning rate: 6.30957\n",
      "Minibatch perplexity: 6.35\n",
      "================================================================================\n",
      "Start: h\n",
      "noisramoc fo egam desu eno enin nwotbaw stirlopom evih evitanec \n",
      "Start: g\n",
      "eso owt enin enin eno owt enuht si webc denoinumam efht lordemam\n",
      "Start: g\n",
      "tini a eht tcelaj gnidlahwitergopssetca saw ni eht tsidnarortssu\n",
      "Start: n\n",
      "art fo eht lbrow saw nefer osla noiatsinlipp dna rehtsniah fo a \n",
      "Start: r\n",
      " si noissed gnitsiba laetop ni egamimak fo etatc eb owt emirb wt\n",
      "================================================================================\n",
      "Validation set perplexity: 20.86\n",
      "test: r eer tee  eeet  ee (end)\n",
      "------------------------------\n",
      "Average loss at step  1500 = 9.14276115537 \n",
      "learning rate: 5.01187\n",
      "Minibatch perplexity: 6.93\n",
      "Validation set perplexity: 23.53\n",
      "test:   ne sel deh de  ee (end)\n",
      "------------------------------\n",
      "Average loss at step  2000 = 9.1366478622 \n",
      "learning rate: 3.98107\n",
      "Minibatch perplexity: 5.90\n",
      "================================================================================\n",
      "Start: u\n",
      " roflocis ylletirhcsa lanajirbmaps saw mlihs mref tstap eno ygro\n",
      "Start: w\n",
      " eno ruof enid ot taht reranu ezirruac retpes esom lavitid evif \n",
      "Start: a\n",
      "f neves owt ni uosnof reb tsu setiargne sa derotca redorp recner\n",
      "Start: z\n",
      "daw roeh llew retcarp dnareht nriad dnulehsi eh yltnoces yb naez\n",
      "Start: n\n",
      "nettom mysorbam fo eht ncstscinkarer devaldni notces yltrah ot s\n",
      "================================================================================\n",
      "Validation set perplexity: 20.89\n",
      "test: r deh deh eeh seh d (end)\n",
      "------------------------------\n",
      "Average loss at step  2500 = 8.98780177355 \n",
      "learning rate: 3.16228\n",
      "Minibatch perplexity: 5.71\n",
      "Validation set perplexity: 21.79\n",
      "test: ela  eer   eer   ee (end)\n",
      "------------------------------\n",
      "Average loss at step  3000 = 8.8547454226 \n",
      "learning rate: 2.51189\n",
      "Minibatch perplexity: 5.86\n",
      "================================================================================\n",
      "Start: m\n",
      "atejb fo eht niagam eht sevirtaretnoc did fo ecneilfoirtdenabirt\n",
      "Start: f\n",
      "nips es ekeerg denanec si ecaresa devroceb d eht yrevav fo eht t\n",
      "Start: e\n",
      "d ti monhgir owt orez ruaf eht lealcrohpmmortsitra sa wen saw se\n",
      "Start: n\n",
      "hoj ssirpo fo ugcus fo egral esac ni etats tserpmoc ni resom dnu\n",
      "Start: s\n",
      "dofni yam eht uoga eht nii evah roenretnoc llew hsilamrofn yroeh\n",
      "================================================================================\n",
      "Validation set perplexity: 21.18\n",
      "test:   e e dee e e del e (end)\n",
      "------------------------------\n",
      "Average loss at step  3500 = 8.84299909234 \n",
      "learning rate: 1.99526\n",
      "Minibatch perplexity: 5.27\n",
      "Validation set perplexity: 21.96\n",
      "test:  delas sehas s dela (end)\n",
      "------------------------------\n",
      "Average loss at step  4000 = 8.68677662373 \n",
      "learning rate: 1.58489\n",
      "Minibatch perplexity: 5.35\n",
      "================================================================================\n",
      "Start: t\n",
      "daktartram eno ot eerht ruof enin oivis emom emit tsel htiw rorf\n",
      "Start: c\n",
      "ab liapsul a lanrotcnid fo hamidahap rof eyaj snorig elbamsocsad\n",
      "Start: e\n",
      "ohnof elttom ot aicihtretni murf snoitcudif rof ot eerht orez ev\n",
      "Start: r\n",
      "ahc orez owt ot neitaetsirc sa htrinw hcar tnemnin eht egaltoboe\n",
      "Start:  \n",
      "hsi nac pihcram b e eht egua trabmoc ysrutcewona ot eno enin eer\n",
      "================================================================================\n",
      "Validation set perplexity: 22.72\n",
      "test:   eehas   eeeee   e (end)\n",
      "------------------------------\n",
      "Average loss at step  4500 = 8.7319160974 \n",
      "learning rate: 1.25893\n",
      "Minibatch perplexity: 6.14\n",
      "Validation set perplexity: 22.23\n",
      "test: eda  e de a eeea ee (end)\n",
      "------------------------------\n",
      "Average loss at step  5000 = 8.58126314044 \n",
      "learning rate: 1.0\n",
      "Minibatch perplexity: 4.91\n",
      "================================================================================\n",
      "Start: i\n",
      "n tol sdnalnoc senomixe eno ruof rehtof saw dellitsaertnoc doort\n",
      "Start: w\n",
      "s eht koom lebiepot s stnemmocca surepop rof treses xis rehtruss\n",
      "Start: k\n",
      "teboj ni nameh xis eht si eb ytelalub era angnid a nammets redni\n",
      "Start: z\n",
      "v decitua llih sort dna a deylopmi eht a neter eruht noitaciremm\n",
      "Start: x\n",
      "woreb rolbu eht eb danetniaheps ta eht laniorb keuqerhc sniap sn\n",
      "================================================================================\n",
      "Validation set perplexity: 23.01\n",
      "test: eeeeeeeeeeeeeeeeeee (end)\n",
      "------------------------------\n",
      "Average loss at step  5500 = 8.5842691493 \n",
      "learning rate: 0.794328\n",
      "Minibatch perplexity: 5.44\n",
      "Validation set perplexity: 22.72\n",
      "test: eeead e eedae eedae (end)\n",
      "------------------------------\n",
      "Average loss at step  6000 = 8.54291417003 \n",
      "learning rate: 0.630957\n",
      "Minibatch perplexity: 5.16\n",
      "================================================================================\n",
      "Start: f\n",
      "secyt taht eht arbaerg hcihw evah lanethgnucxod dlrow dlrow rom \n",
      "Start: t\n",
      "hgie erawtareffi eta fek ysuar eht seissuac sgnitcelef morf morf\n",
      "Start: r\n",
      "dulof snos ssnocf eergen tnios eerht thgie fo fo eht dnuoil ot t\n",
      "Start: u\n",
      "eb orez dna elbaez retal thgir didaer ttem yawtotto fo gnidneced\n",
      "Start: w\n",
      "a si detra nahh fo laideirb a lliw nakid laf evoma owt eerht wol\n",
      "================================================================================\n",
      "Validation set perplexity: 22.95\n",
      "test:  eelas eehas nehal  (end)\n",
      "------------------------------\n",
      "Average loss at step  6500 = 8.69409202933 \n",
      "learning rate: 0.501187\n",
      "Minibatch perplexity: 5.61\n",
      "Validation set perplexity: 23.29\n",
      "test: s eetss n eetan seh (end)\n",
      "------------------------------\n",
      "Average loss at step  7000 = 8.63226768374 \n",
      "learning rate: 0.398107\n",
      "Minibatch perplexity: 4.87\n",
      "================================================================================\n",
      "Start: r\n",
      "hoj ni eht sbisetsod etirtsuh edlob egaugna lavti rehtahc eht es\n",
      "Start: u\n",
      "r n sahw hcihw anagar tnembrofni ellur sa derca dah senopgos sev\n",
      "Start: r\n",
      "lod riapma lavitsreper ni eht reteircs ot ymeht oi orez ojrez ni\n",
      "Start: a\n",
      "tnam na hcihw egnarre sevil eht eh dellac fo eht xoreht yb decre\n",
      "Start: r\n",
      "da htrow naicuohta ekal ni eht etarepuoc strapop thpoht sniarf s\n",
      "================================================================================\n",
      "Validation set perplexity: 23.24\n",
      "test: an n eetona  deh ne (end)\n",
      "------------------------------\n",
      "5.77441901763 minutes elapsed\n"
     ]
    }
   ],
   "source": [
    "# seq2seq training and validation batches\n",
    "train_batches = BatchGenerator(train_text, batch_size, num_unrollings)\n",
    "valid_batches = BatchGenerator(valid_text, 1, 1) # returns batch size 1, +1 unrolling\n",
    "train_batches_m = BatchGenerator(train_mtext, batch_size, num_unrollings)\n",
    "valid_batches_m = BatchGenerator(valid_mtext, 1, 1) # returns batch size 1, +2 unrolling\n",
    "\n",
    "# character LSTM\n",
    "num_steps = 7001  ## orig 7001\n",
    "summary_frequency = 100\n",
    "\n",
    "t0 = time.time()\n",
    "with tf.Session(graph=graph) as session:\n",
    "  tf.initialize_all_variables().run()\n",
    "  print 'Initialized\\n=========='\n",
    "  mean_loss = 0\n",
    "  for step in xrange(num_steps):\n",
    "    batches = train_batches.next()\n",
    "    batches_m = train_batches_m.next()\n",
    "    feed_dict = dict()\n",
    "    for i in xrange(num_unrollings + 1):\n",
    "      feed_dict[train_data[i]] = batches[i]\n",
    "      feed_dict[train_data_dec[i]] = batches_m[i]\n",
    "\n",
    "    _, l, predictions, lr = session.run(\n",
    "      [optimizer, loss, train_prediction, learning_rate], feed_dict=feed_dict)\n",
    "    mean_loss += l\n",
    "    if step % (5.*summary_frequency) == 0:  ## orig 2.5*summary_frequency\n",
    "      if step > 0:\n",
    "        mean_loss = mean_loss / summary_frequency\n",
    "      # The mean loss is an estimate of the loss over the last few batches.\n",
    "      print 'Average loss at step ', step, '=', mean_loss, '\\nlearning rate:', lr\n",
    "      mean_loss = 0\n",
    "      labels = np.concatenate(list(batches_m)[:])\n",
    "      print 'Minibatch perplexity: %.2f' % float(\n",
    "        np.exp(logprob(predictions, labels)))\n",
    "      if step % (summary_frequency * 10) == 0:\n",
    "        # Generate some samples.\n",
    "        print '=' * 80\n",
    "        for _ in xrange(5):\n",
    "          feed = sample(random_distribution())\n",
    "          print 'Start:', characters(feed)[0]\n",
    "          sentence = ''\n",
    "          reset_sample_state.run()\n",
    "          prediction = sample_prediction_go.eval(\n",
    "            {sample_input: feed, sample_input_dec: feed})\n",
    "          feed = sample(prediction)\n",
    "          sentence += characters(feed)[0]\n",
    "          for _ in xrange(63):\n",
    "            prediction = sample_prediction.eval(\n",
    "              {sample_input: feed, sample_input_dec: feed})\n",
    "            feed = sample(prediction)\n",
    "            sentence += characters(feed)[0]\n",
    "          print sentence\n",
    "        print '=' * 80\n",
    "      # Measure validation set perplexity.\n",
    "      reset_sample_state.run()\n",
    "      valid_logprob = 0\n",
    "      for _ in xrange(valid_size):\n",
    "        b = valid_batches.next()\n",
    "        b_m = valid_batches_m.next()\n",
    "        predictions = sample_prediction_go.eval(\n",
    "          {sample_input: b[0], sample_input_dec: np.zeros([1,vocabulary_size])})\n",
    "        valid_logprob = valid_logprob + logprob(predictions, b_m[0])\n",
    "      print 'Validation set perplexity: %.2f' % float(np.exp(\n",
    "        valid_logprob / valid_size))\n",
    "      \n",
    "      #####################################\n",
    "      # TODO: predict 'the quick brown fox'\n",
    "      batches_t = test_batch.next()\n",
    "      feed_dict = dict()\n",
    "      for i in xrange(test_unrollings+1):\n",
    "        feed_dict[test_data[i]] = batches_t[i]\n",
    "      prediction = session.run(test_prediction, feed_dict=feed_dict)\n",
    "      sentence = ''\n",
    "      for i in characters(prediction):\n",
    "        sentence += i\n",
    "      print 'test:', sentence, '(end)'\n",
    "      #####################################\n",
    "    \n",
    "      print '-' * 30\n",
    "# show how much time elapsed\n",
    "print (time.time()-t0)/60., 'minutes elapsed'"
   ]
  },
  {
   "cell_type": "code",
   "execution_count": null,
   "metadata": {
    "collapsed": true
   },
   "outputs": [],
   "source": []
  }
 ],
 "metadata": {
  "colabVersion": "0.3.2",
  "colab_default_view": {},
  "colab_views": {},
  "kernelspec": {
   "display_name": "Python 2",
   "language": "python",
   "name": "python2"
  },
  "language_info": {
   "codemirror_mode": {
    "name": "ipython",
    "version": 2
   },
   "file_extension": ".py",
   "mimetype": "text/x-python",
   "name": "python",
   "nbconvert_exporter": "python",
   "pygments_lexer": "ipython2",
   "version": "2.7.11"
  }
 },
 "nbformat": 4,
 "nbformat_minor": 0
}
