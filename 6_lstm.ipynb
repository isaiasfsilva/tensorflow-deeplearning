{
 "cells": [
  {
   "cell_type": "markdown",
   "metadata": {
    "colab_type": "text",
    "id": "D7tqLMoKF6uq"
   },
   "source": [
    "Deep Learning\n",
    "=============\n",
    "\n",
    "Assignment 6\n",
    "------------\n",
    "\n",
    "After training a skip-gram model in `5_word2vec.ipynb`, the goal of this notebook is to train a LSTM character model over [Text8](http://mattmahoney.net/dc/textdata) data."
   ]
  },
  {
   "cell_type": "code",
   "execution_count": 112,
   "metadata": {
    "cellView": "both",
    "colab": {
     "autoexec": {
      "startup": false,
      "wait_interval": 0
     }
    },
    "colab_type": "code",
    "collapsed": true,
    "id": "MvEblsgEXxrd"
   },
   "outputs": [],
   "source": [
    "# These are all the modules we'll be using later. Make sure you can import them\n",
    "# before proceeding further.\n",
    "import os\n",
    "import numpy as np\n",
    "import random\n",
    "import string\n",
    "import tensorflow as tf\n",
    "import urllib\n",
    "import zipfile\n",
    "import time\n",
    "import re\n",
    "%matplotlib inline"
   ]
  },
  {
   "cell_type": "code",
   "execution_count": 2,
   "metadata": {
    "cellView": "both",
    "colab": {
     "autoexec": {
      "startup": false,
      "wait_interval": 0
     },
     "output_extras": [
      {
       "item_id": 1
      }
     ]
    },
    "colab_type": "code",
    "collapsed": false,
    "executionInfo": {
     "elapsed": 5993,
     "status": "ok",
     "timestamp": 1445965582896,
     "user": {
      "color": "#1FA15D",
      "displayName": "Vincent Vanhoucke",
      "isAnonymous": false,
      "isMe": true,
      "permissionId": "05076109866853157986",
      "photoUrl": "//lh6.googleusercontent.com/-cCJa7dTDcgQ/AAAAAAAAAAI/AAAAAAAACgw/r2EZ_8oYer4/s50-c-k-no/photo.jpg",
      "sessionId": "6f6f07b359200c46",
      "userId": "102167687554210253930"
     },
     "user_tz": 420
    },
    "id": "RJ-o3UBUFtCw",
    "outputId": "d530534e-0791-4a94-ca6d-1c8f1b908a9e"
   },
   "outputs": [
    {
     "name": "stdout",
     "output_type": "stream",
     "text": [
      "Found and verified text8.zip\n"
     ]
    }
   ],
   "source": [
    "url = 'http://mattmahoney.net/dc/'\n",
    "\n",
    "def maybe_download(filename, expected_bytes):\n",
    "  \"\"\"Download a file if not present, and make sure it's the right size.\"\"\"\n",
    "  if not os.path.exists(filename):\n",
    "    filename, _ = urllib.urlretrieve(url + filename, filename)\n",
    "  statinfo = os.stat(filename)\n",
    "  if statinfo.st_size == expected_bytes:\n",
    "    print 'Found and verified', filename\n",
    "  else:\n",
    "    print statinfo.st_size\n",
    "    raise Exception(\n",
    "      'Failed to verify ' + filename + '. Can you get to it with a browser?')\n",
    "  return filename\n",
    "\n",
    "filename = maybe_download('text8.zip', 31344016)"
   ]
  },
  {
   "cell_type": "code",
   "execution_count": 9,
   "metadata": {
    "cellView": "both",
    "colab": {
     "autoexec": {
      "startup": false,
      "wait_interval": 0
     },
     "output_extras": [
      {
       "item_id": 1
      }
     ]
    },
    "colab_type": "code",
    "collapsed": false,
    "executionInfo": {
     "elapsed": 5982,
     "status": "ok",
     "timestamp": 1445965582916,
     "user": {
      "color": "#1FA15D",
      "displayName": "Vincent Vanhoucke",
      "isAnonymous": false,
      "isMe": true,
      "permissionId": "05076109866853157986",
      "photoUrl": "//lh6.googleusercontent.com/-cCJa7dTDcgQ/AAAAAAAAAAI/AAAAAAAACgw/r2EZ_8oYer4/s50-c-k-no/photo.jpg",
      "sessionId": "6f6f07b359200c46",
      "userId": "102167687554210253930"
     },
     "user_tz": 420
    },
    "id": "Mvf09fjugFU_",
    "outputId": "8f75db58-3862-404b-a0c3-799380597390"
   },
   "outputs": [
    {
     "name": "stdout",
     "output_type": "stream",
     "text": [
      "['text8']\n",
      "Data size 100000000\n"
     ]
    }
   ],
   "source": [
    "def read_data(filename):\n",
    "  f = zipfile.ZipFile(filename)\n",
    "  print f.namelist()\n",
    "  for name in f.namelist():\n",
    "    return f.read(name)\n",
    "  f.close()\n",
    "  \n",
    "text = read_data(filename)\n",
    "print \"Data size\", len(text)"
   ]
  },
  {
   "cell_type": "code",
   "execution_count": 10,
   "metadata": {
    "collapsed": false
   },
   "outputs": [
    {
     "name": "stdout",
     "output_type": "stream",
     "text": [
      " anarchism originated as a term of abuse first used against early working class radicals including t\n",
      "identified in one eight four two and extensively excavated in one nine six three one nine six five b\n"
     ]
    }
   ],
   "source": [
    "# look at some text\n",
    "print text[:100]\n",
    "print text[-100:]"
   ]
  },
  {
   "cell_type": "markdown",
   "metadata": {
    "colab_type": "text",
    "id": "ga2CYACE-ghb"
   },
   "source": [
    "### Create a small validation set."
   ]
  },
  {
   "cell_type": "code",
   "execution_count": 17,
   "metadata": {
    "cellView": "both",
    "colab": {
     "autoexec": {
      "startup": false,
      "wait_interval": 0
     },
     "output_extras": [
      {
       "item_id": 1
      }
     ]
    },
    "colab_type": "code",
    "collapsed": false,
    "executionInfo": {
     "elapsed": 6184,
     "status": "ok",
     "timestamp": 1445965583138,
     "user": {
      "color": "#1FA15D",
      "displayName": "Vincent Vanhoucke",
      "isAnonymous": false,
      "isMe": true,
      "permissionId": "05076109866853157986",
      "photoUrl": "//lh6.googleusercontent.com/-cCJa7dTDcgQ/AAAAAAAAAAI/AAAAAAAACgw/r2EZ_8oYer4/s50-c-k-no/photo.jpg",
      "sessionId": "6f6f07b359200c46",
      "userId": "102167687554210253930"
     },
     "user_tz": 420
    },
    "id": "w-oBpfFG-j43",
    "outputId": "bdb96002-d021-4379-f6de-a977924f0d02"
   },
   "outputs": [
    {
     "name": "stdout",
     "output_type": "stream",
     "text": [
      "99999000 ons anarchists advocate social relations based upon voluntary as\n",
      "1000  anarchism originated as a term of abuse first used against earl\n"
     ]
    }
   ],
   "source": [
    "valid_size = 1000\n",
    "valid_text = text[:valid_size]\n",
    "train_text = text[valid_size:]\n",
    "train_size = len(train_text)\n",
    "print train_size, train_text[:64]\n",
    "print valid_size, valid_text[:64]"
   ]
  },
  {
   "cell_type": "markdown",
   "metadata": {
    "colab_type": "text",
    "id": "Zdw6i4F8glpp"
   },
   "source": [
    "### Utility functions to map characters to vocabulary IDs and back."
   ]
  },
  {
   "cell_type": "code",
   "execution_count": 668,
   "metadata": {
    "collapsed": false
   },
   "outputs": [
    {
     "data": {
      "text/plain": [
       "' abcdefghijklmnopqrstuvwxyz'"
      ]
     },
     "execution_count": 668,
     "metadata": {},
     "output_type": "execute_result"
    }
   ],
   "source": [
    "' ' + string.ascii_lowercase"
   ]
  },
  {
   "cell_type": "code",
   "execution_count": 15,
   "metadata": {
    "cellView": "both",
    "colab": {
     "autoexec": {
      "startup": false,
      "wait_interval": 0
     },
     "output_extras": [
      {
       "item_id": 1
      }
     ]
    },
    "colab_type": "code",
    "collapsed": false,
    "executionInfo": {
     "elapsed": 6276,
     "status": "ok",
     "timestamp": 1445965583249,
     "user": {
      "color": "#1FA15D",
      "displayName": "Vincent Vanhoucke",
      "isAnonymous": false,
      "isMe": true,
      "permissionId": "05076109866853157986",
      "photoUrl": "//lh6.googleusercontent.com/-cCJa7dTDcgQ/AAAAAAAAAAI/AAAAAAAACgw/r2EZ_8oYer4/s50-c-k-no/photo.jpg",
      "sessionId": "6f6f07b359200c46",
      "userId": "102167687554210253930"
     },
     "user_tz": 420
    },
    "id": "gAL1EECXeZsD",
    "outputId": "88fc9032-feb9-45ff-a9a0-a26759cc1f2e"
   },
   "outputs": [
    {
     "name": "stdout",
     "output_type": "stream",
     "text": [
      "1 26 0 Unexpected character: ï\n",
      "0\n",
      "----------------\n",
      "a z  \n"
     ]
    }
   ],
   "source": [
    "vocabulary_size = len(string.ascii_lowercase) + 1 # [a-z] + ' '\n",
    "first_letter = ord(string.ascii_lowercase[0])  # ordinal of letter 'a'\n",
    "\n",
    "def char2id(char):\n",
    "  if char in string.ascii_lowercase:  # if detect a lowercase letter\n",
    "    return ord(char) - first_letter + 1  # return value 1-26\n",
    "  elif char == ' ':\n",
    "    return 0\n",
    "  else:\n",
    "    print 'Unexpected character:', char\n",
    "    return 0\n",
    "  \n",
    "def id2char(dictid):\n",
    "  if dictid > 0:\n",
    "    return chr(dictid + first_letter - 1)  # return [a-z]\n",
    "  else:\n",
    "    return ' '\n",
    "\n",
    "print char2id('a'), char2id('z'), char2id(' '), char2id('ï')\n",
    "print('-'*16)\n",
    "print id2char(1), id2char(26), id2char(0)"
   ]
  },
  {
   "cell_type": "markdown",
   "metadata": {
    "colab_type": "text",
    "id": "lFwoyygOmWsL"
   },
   "source": [
    "### Function to generate a training batch for the LSTM model."
   ]
  },
  {
   "cell_type": "code",
   "execution_count": 784,
   "metadata": {
    "cellView": "both",
    "colab": {
     "autoexec": {
      "startup": false,
      "wait_interval": 0
     },
     "output_extras": [
      {
       "item_id": 1
      }
     ]
    },
    "colab_type": "code",
    "collapsed": false,
    "executionInfo": {
     "elapsed": 6473,
     "status": "ok",
     "timestamp": 1445965583467,
     "user": {
      "color": "#1FA15D",
      "displayName": "Vincent Vanhoucke",
      "isAnonymous": false,
      "isMe": true,
      "permissionId": "05076109866853157986",
      "photoUrl": "//lh6.googleusercontent.com/-cCJa7dTDcgQ/AAAAAAAAAAI/AAAAAAAACgw/r2EZ_8oYer4/s50-c-k-no/photo.jpg",
      "sessionId": "6f6f07b359200c46",
      "userId": "102167687554210253930"
     },
     "user_tz": 420
    },
    "id": "d9wMtjy5hCj9",
    "outputId": "3dd79c80-454a-4be0-8b71-4a4a357b3367"
   },
   "outputs": [],
   "source": [
    "batch_size=64\n",
    "num_unrollings=10\n",
    "\n",
    "class BatchGenerator(object):\n",
    "  def __init__(self, text, batch_size, num_unrollings):\n",
    "    self._text = text\n",
    "    self._text_size = len(text)\n",
    "    self._batch_size = batch_size\n",
    "    self._num_unrollings = num_unrollings\n",
    "    segment = self._text_size / batch_size\n",
    "    # list of offsets within batch\n",
    "    self._cursor = [ offset * segment for offset in xrange(batch_size)]\n",
    "    self._last_batch = self._next_batch()\n",
    "  \n",
    "  def _next_batch(self):\n",
    "    \"\"\"Generate a single batch from the current cursor position in the data.\"\"\"\n",
    "    batch = np.zeros(shape=(self._batch_size, vocabulary_size), dtype=np.float)\n",
    "    for b in xrange(self._batch_size):\n",
    "      batch[b, char2id(self._text[self._cursor[b]])] = 1.0  # get id of a char\n",
    "      self._cursor[b] = (self._cursor[b] + 1) % self._text_size  # move cursor\n",
    "    return batch\n",
    "  \n",
    "  def next(self):\n",
    "    \"\"\"Generate the next array of batches from the data. The array consists of\n",
    "    the last batch of the previous array, followed by num_unrollings new ones.\n",
    "    \"\"\"\n",
    "    batches = [self._last_batch]\n",
    "    for step in xrange(self._num_unrollings):\n",
    "      batches.append(self._next_batch())  # add id of char for 1 to num_unrollings\n",
    "    self._last_batch = batches[-1]\n",
    "    return batches\n",
    "\n",
    "def characters(probabilities):\n",
    "  \"\"\"Turn a 1-hot encoding or a probability distribution over the possible\n",
    "  characters back into its (most likely) character representation.\n",
    "  \"\"\"\n",
    "  return [id2char(c) for c in np.argmax(probabilities, 1)]  # get char of an id\n",
    "\n",
    "def batches2string(batches):\n",
    "  \"\"\"Convert a sequence of batches back into their (most likely) string\n",
    "  representation.\n",
    "  \"\"\"\n",
    "  #print 'Batch shape: {}'.format(batches[0].shape)\n",
    "  #print 'First batch, First char: {}'.format(batches[0][0])\n",
    "  s = [''] * batches[0].shape[0]\n",
    "  for b in batches:\n",
    "    s = [''.join(x) for x in zip(s, characters(b))]\n",
    "  return s"
   ]
  },
  {
   "cell_type": "markdown",
   "metadata": {},
   "source": [
    "### Generate batches"
   ]
  },
  {
   "cell_type": "code",
   "execution_count": 270,
   "metadata": {
    "collapsed": false
   },
   "outputs": [
    {
     "name": "stdout",
     "output_type": "stream",
     "text": [
      "index 0 to 64:\n",
      "ons anarchists advocate social relations based upon voluntary as\n",
      "----------------\n",
      "['ons anarchi', 'when milita', 'lleria arch', ' abbeys and', 'married urr', 'hel and ric', 'y and litur', 'ay opened f', 'tion from t', 'migration t', 'new york ot', 'he boeing s', 'e listed wi', 'eber has pr', 'o be made t', 'yer who rec', 'ore signifi', 'a fierce cr', ' two six ei', 'aristotle s', 'ity can be ', ' and intrac', 'tion of the', 'dy to pass ', 'f certain d', 'at it will ', 'e convince ', 'ent told hi', 'ampaign and', 'rver side s', 'ious texts ', 'o capitaliz', 'a duplicate', 'gh ann es d', 'ine january', 'ross zero t', 'cal theorie', 'ast instanc', ' dimensiona', 'most holy m', 't s support', 'u is still ', 'e oscillati', 'o eight sub', 'of italy la', 's the tower', 'klahoma pre', 'erprise lin', 'ws becomes ', 'et in a naz', 'the fabian ', 'etchy to re', ' sharman ne', 'ised empero', 'ting in pol', 'd neo latin', 'th risky ri', 'encyclopedi', 'fense the a', 'duating fro', 'treet grid ', 'ations more', 'appeal of d', 'si have mad']\n",
      "['ists advoca', 'ary governm', 'hes nationa', 'd monasteri', 'raca prince', 'chard baer ', 'rgical lang', 'for passeng', 'the nationa', 'took place ', 'ther well k', 'seven six s', 'ith a gloss', 'robably bee', 'to recogniz', 'ceived the ', 'icant than ', 'ritic of th', 'ight in sig', 's uncaused ', ' lost as in', 'cellular ic', 'e size of t', ' him a stic', 'drugs confu', ' take to co', ' the priest', 'im to name ', 'd barred at', 'standard fo', ' such as es', 'ze on the g', 'e of the or', 'd hiver one', 'y eight mar', 'the lead ch', 'es classica', 'ce the non ', 'al analysis', 'mormons bel', 't or at lea', ' disagreed ', 'ing system ', 'btypes base', 'anguages th', 'r commissio', 'ess one nin', 'nux suse li', ' the first ', 'zi concentr', ' society ne', 'elatively s', 'etworks sha', 'or hirohito', 'litical ini', 'n most of t', 'iskerdoo ri', 'ic overview', 'air compone', 'om acnm acc', ' centerline', 'e than any ', 'devotional ', 'de such dev']\n",
      "----------------\n",
      "[' a']\n",
      "['an']\n"
     ]
    }
   ],
   "source": [
    "# training and validation batches\n",
    "train_batches = BatchGenerator(train_text, batch_size, num_unrollings)\n",
    "valid_batches = BatchGenerator(valid_text, 1, 1) # returns batch size 1, +1 unrolling \n",
    "\n",
    "# look at the text from various segments\n",
    "segment_look = 0\n",
    "num_char = 64\n",
    "show = segment_look * len(train_text)/batch_size\n",
    "print \"index {} to {}:\\n{}\".format(show, show+num_char, train_text[show:show+num_char])\n",
    "print('-'*16)\n",
    "\n",
    "print batches2string(train_batches.next())\n",
    "print batches2string(train_batches.next())\n",
    "print('-'*16)\n",
    "print batches2string(valid_batches.next())\n",
    "print batches2string(valid_batches.next())"
   ]
  },
  {
   "cell_type": "markdown",
   "metadata": {},
   "source": [
    "### Functions for predictions"
   ]
  },
  {
   "cell_type": "code",
   "execution_count": 785,
   "metadata": {
    "cellView": "both",
    "colab": {
     "autoexec": {
      "startup": false,
      "wait_interval": 0
     }
    },
    "colab_type": "code",
    "collapsed": true,
    "id": "KyVd8FxT5QBc"
   },
   "outputs": [],
   "source": [
    "def logprob(predictions, labels):\n",
    "  \"\"\"Log-probability of the true labels in a predicted batch.\"\"\"\n",
    "  predictions[predictions < 1e-10] = 1e-10\n",
    "  return np.sum(np.multiply(labels, -np.log(predictions))) / labels.shape[0]\n",
    "\n",
    "def sample_distribution(distribution):\n",
    "  \"\"\"Sample one element from a distribution assumed to be an array of normalized\n",
    "  probabilities.\n",
    "  \"\"\"\n",
    "  r = random.uniform(0, 1)\n",
    "  s = 0\n",
    "  for i in xrange(len(distribution)):\n",
    "    s += distribution[i]\n",
    "    if s >= r:\n",
    "      return i\n",
    "  return len(distribution) - 1\n",
    "\n",
    "def sample(prediction):\n",
    "  \"\"\"Turn a (column) prediction into 1-hot encoded samples.\"\"\"\n",
    "  p = np.zeros(shape=[1, vocabulary_size], dtype=np.float)\n",
    "  p[0, sample_distribution(prediction[0])] = 1.0\n",
    "  return p\n",
    "\n",
    "def random_distribution():\n",
    "  \"\"\"Generate a random column of probabilities.\"\"\"\n",
    "  b = np.random.uniform(0.0, 1.0, size=[1, vocabulary_size])\n",
    "  return b/np.sum(b, axis=1)[:,None]"
   ]
  },
  {
   "cell_type": "markdown",
   "metadata": {
    "colab_type": "text",
    "id": "K8f67YXaDr4C"
   },
   "source": [
    "### Simple LSTM Model\n",
    "http://colah.github.io/posts/2015-08-Understanding-LSTMs/  \n",
    "\n",
    "<img width=\"60%\" src=\"http://colah.github.io/posts/2015-08-Understanding-LSTMs/img/LSTM3-chain.png\">"
   ]
  },
  {
   "cell_type": "code",
   "execution_count": 173,
   "metadata": {
    "cellView": "both",
    "colab": {
     "autoexec": {
      "startup": false,
      "wait_interval": 0
     }
    },
    "colab_type": "code",
    "collapsed": true,
    "id": "Q5rxZK6RDuGe"
   },
   "outputs": [],
   "source": [
    "num_nodes = 64\n",
    "\n",
    "graph = tf.Graph()\n",
    "with graph.as_default():\n",
    "  \n",
    "  ## Parameters:\n",
    "  # Input (Write) gate: input, previous output, and bias.\n",
    "  ix = tf.Variable(tf.truncated_normal([vocabulary_size, num_nodes], -0.1, 0.1))\n",
    "  im = tf.Variable(tf.truncated_normal([num_nodes, num_nodes], -0.1, 0.1))\n",
    "  ib = tf.Variable(tf.zeros([1, num_nodes]))\n",
    "    \n",
    "  # Forget (Keep) gate: input, previous output, and bias.\n",
    "  fx = tf.Variable(tf.truncated_normal([vocabulary_size, num_nodes], -0.1, 0.1))\n",
    "  fm = tf.Variable(tf.truncated_normal([num_nodes, num_nodes], -0.1, 0.1))\n",
    "  fb = tf.Variable(tf.zeros([1, num_nodes]))\n",
    "    \n",
    "  # Memory cell: input, state and bias.        \n",
    "  cx = tf.Variable(tf.truncated_normal([vocabulary_size, num_nodes], -0.1, 0.1))\n",
    "  cm = tf.Variable(tf.truncated_normal([num_nodes, num_nodes], -0.1, 0.1))\n",
    "  cb = tf.Variable(tf.zeros([1, num_nodes]))\n",
    "    \n",
    "  # Output (Read) gate: input, previous output, and bias.\n",
    "  ox = tf.Variable(tf.truncated_normal([vocabulary_size, num_nodes], -0.1, 0.1))\n",
    "  om = tf.Variable(tf.truncated_normal([num_nodes, num_nodes], -0.1, 0.1))\n",
    "  ob = tf.Variable(tf.zeros([1, num_nodes]))\n",
    "    \n",
    "  # Variables saving state across unrollings.\n",
    "  saved_output = tf.Variable(tf.zeros([batch_size, num_nodes]), trainable=False)\n",
    "  saved_state = tf.Variable(tf.zeros([batch_size, num_nodes]), trainable=False)\n",
    "\n",
    "  # Classifier weights and biases.\n",
    "  w = tf.Variable(tf.truncated_normal([num_nodes, vocabulary_size], -0.1, 0.1))\n",
    "  b = tf.Variable(tf.zeros([vocabulary_size]))\n",
    "  \n",
    "  # Definition of the cell computation.\n",
    "  def lstm_cell(i, o, state):\n",
    "    \"\"\"\n",
    "    Create a LSTM cell. See e.g.: http://arxiv.org/pdf/1402.1128v1.pdf\n",
    "    Note that in this formulation, we omit the various connections between the\n",
    "    previous state and the gates.\n",
    "    \"\"\"\n",
    "    # what to keep (1) or forget (0) from cell state\n",
    "    forget_gate = tf.sigmoid(tf.matmul(i, fx) + tf.matmul(o, fm) + fb)\n",
    "    \n",
    "    # new info to store in cell state\n",
    "    # values to update\n",
    "    input_gate = tf.sigmoid(tf.matmul(i, ix) + tf.matmul(o, im) + ib)\n",
    "    # new candidate values to add to state\n",
    "    update = tf.tanh(tf.matmul(i, cx) + tf.matmul(o, cm) + cb)\n",
    "    \n",
    "    # update old cell state C[t-1] into new cell state C[t]\n",
    "    state = (forget_gate * state) + (input_gate * update)\n",
    "    \n",
    "    # decide the output\n",
    "    output_gate = tf.sigmoid(tf.matmul(i, ox) + tf.matmul(o, om) + ob)\n",
    "    h = output_gate * tf.tanh(state)\n",
    "    return h, state\n",
    "\n",
    "  # Input data.\n",
    "  train_data = list()\n",
    "  for _ in xrange(num_unrollings + 1):\n",
    "    train_data.append(\n",
    "      tf.placeholder(tf.float32, shape=[batch_size,vocabulary_size]))\n",
    "  train_inputs = train_data[:num_unrollings]\n",
    "  train_labels = train_data[1:]  # labels are inputs shifted by one time step.\n",
    "\n",
    "  # Unrolled LSTM loop.\n",
    "  outputs = list()\n",
    "  output = saved_output\n",
    "  state = saved_state\n",
    "  for i in train_inputs:\n",
    "    output, state = lstm_cell(i, output, state)\n",
    "    outputs.append(output)\n",
    "\n",
    "  # State saving across unrollings.\n",
    "  with tf.control_dependencies([saved_output.assign(output),\n",
    "                                saved_state.assign(state)]):\n",
    "    # Classifier.\n",
    "    logits = tf.nn.xw_plus_b(tf.concat(0, outputs), w, b)\n",
    "    loss = tf.reduce_mean(\n",
    "      tf.nn.softmax_cross_entropy_with_logits(\n",
    "        logits, tf.concat(0, train_labels)))\n",
    "\n",
    "  # Optimizer.\n",
    "  global_step = tf.Variable(0)\n",
    "  learning_rate = tf.train.exponential_decay(\n",
    "    10.0, global_step, 5000, 0.1, staircase=False)  ## orig 10.0, 5000, 0.1, True\n",
    "  optimizer = tf.train.GradientDescentOptimizer(learning_rate)\n",
    "  gradients, v = zip(*optimizer.compute_gradients(loss))\n",
    "  gradients, _ = tf.clip_by_global_norm(gradients, 1.25)\n",
    "  optimizer = optimizer.apply_gradients(\n",
    "    zip(gradients, v), global_step=global_step)\n",
    "\n",
    "  # Predictions.\n",
    "  train_prediction = tf.nn.softmax(logits)\n",
    "  \n",
    "  # Sampling and validation eval: batch 1, no unrolling.\n",
    "  sample_input = tf.placeholder(tf.float32, shape=[1, vocabulary_size])\n",
    "  saved_sample_output = tf.Variable(tf.zeros([1, num_nodes]))\n",
    "  saved_sample_state = tf.Variable(tf.zeros([1, num_nodes]))\n",
    "  reset_sample_state = tf.group(\n",
    "    saved_sample_output.assign(tf.zeros([1, num_nodes])),\n",
    "    saved_sample_state.assign(tf.zeros([1, num_nodes])))\n",
    "  sample_output, sample_state = lstm_cell(\n",
    "    sample_input, saved_sample_output, saved_sample_state)\n",
    "  with tf.control_dependencies([saved_sample_output.assign(sample_output),\n",
    "                                saved_sample_state.assign(sample_state)]):\n",
    "    sample_prediction = tf.nn.softmax(tf.nn.xw_plus_b(sample_output, w, b))"
   ]
  },
  {
   "cell_type": "markdown",
   "metadata": {},
   "source": [
    "### Run the LSTM"
   ]
  },
  {
   "cell_type": "code",
   "execution_count": 174,
   "metadata": {
    "cellView": "both",
    "colab": {
     "autoexec": {
      "startup": false,
      "wait_interval": 0
     },
     "output_extras": [
      {
       "item_id": 41
      },
      {
       "item_id": 80
      },
      {
       "item_id": 126
      },
      {
       "item_id": 144
      }
     ]
    },
    "colab_type": "code",
    "collapsed": true,
    "executionInfo": {
     "elapsed": 199909,
     "status": "ok",
     "timestamp": 1445965877333,
     "user": {
      "color": "#1FA15D",
      "displayName": "Vincent Vanhoucke",
      "isAnonymous": false,
      "isMe": true,
      "permissionId": "05076109866853157986",
      "photoUrl": "//lh6.googleusercontent.com/-cCJa7dTDcgQ/AAAAAAAAAAI/AAAAAAAACgw/r2EZ_8oYer4/s50-c-k-no/photo.jpg",
      "sessionId": "6f6f07b359200c46",
      "userId": "102167687554210253930"
     },
     "user_tz": 420
    },
    "id": "RD9zQCZTEaEm",
    "outputId": "5e868466-2532-4545-ce35-b403cf5d9de6"
   },
   "outputs": [
    {
     "name": "stdout",
     "output_type": "stream",
     "text": [
      "Initialized\n",
      "==========\n",
      "Average loss at step  0 = 3.29952096939 \n",
      "learning rate: 10.0\n",
      "Minibatch perplexity: 27.10\n",
      "================================================================================\n",
      "cmmwuj  owrqyf oe a vb ayeotjtp jsagtecex w ep gapegmss doi nspzod pxy    lte fh\n",
      "bxxzosqroolkir nzk dbuoo j bdl  uik yio anaqi  gp kfcjq s csrq zwygdnrgk uehp yi\n",
      "ui d dt niegm nlifhtgirrqr n ophpgeei iapfhndstsfpvqemtasstzd mguwbod mm gewwt v\n",
      "neookwmvyl tcbmz d fpyofbndlkxywzjki  wfjnpzwcla axdqlkta nn e ioutzala vuwenekh\n",
      "fjizkt xy  o bubsnvvl it r uvsdnfss eki eulhwi emosavt epjo hmn  rmsnchuuchkmlqh\n",
      "================================================================================\n",
      "Validation set perplexity: 19.94\n",
      "------------------------------\n",
      "Average loss at step  500 = 10.8983187985 \n",
      "learning rate: 7.94328\n",
      "Minibatch perplexity: 6.51\n",
      "Validation set perplexity: 7.28\n",
      "------------------------------\n",
      "Average loss at step  1000 = 9.28752010226 \n",
      "learning rate: 6.30957\n",
      "Minibatch perplexity: 7.06\n",
      "================================================================================\n",
      "dites of the mous hurhseed events fiel witete that rebat wore sueflo ont s to bi\n",
      "y of tradcons thit the arebuti doobas sypcess the iting be vorte world and hairs\n",
      "chipit sintion wirts in lang three by the desthing of the trime centity rene the\n",
      " us brilsting to yemmen erectaus dicenzer for obhe to the triefs steptelity susc\n",
      "caiss inquaces a parts fidsan ore the merna eaves thes thenery sectyly splosing \n",
      "================================================================================\n",
      "Validation set perplexity: 6.46\n",
      "------------------------------\n",
      "Average loss at step  1500 = 8.84107351899 \n",
      "learning rate: 5.01187\n",
      "Minibatch perplexity: 5.76\n",
      "Validation set perplexity: 5.72\n",
      "------------------------------\n",
      "Average loss at step  2000 = 8.58554339409 \n",
      "learning rate: 3.98107\n",
      "Minibatch perplexity: 6.31\n",
      "================================================================================\n",
      "zer infourt style are commaganivy and most miffached two two one ninuted a sever\n",
      "ocems peems cantack higholos nurth of mick clafted ratad spebis and retusion of \n",
      "zer meenming and shaims is reeng agalificial gecorobal unity kiffineed day peiss\n",
      "anss machers pensonderss allity one nine he wak often likents blang j origh dece\n",
      "las one nine aiffert of a hishide thus samus brast and mertablepran verturing an\n",
      "================================================================================\n",
      "Validation set perplexity: 5.47\n",
      "------------------------------\n",
      "Average loss at step  2500 = 8.54507492661 \n",
      "learning rate: 3.16228\n",
      "Minibatch perplexity: 5.00\n",
      "Validation set perplexity: 5.27\n",
      "------------------------------\n",
      "Average loss at step  3000 = 8.38288297057 \n",
      "learning rate: 2.51189\n",
      "Minibatch perplexity: 4.92\n",
      "================================================================================\n",
      "y emsul was retrommane had tolan into a two nine eight two zero zero four three \n",
      "s in one prope are five four right gastimed that are grateral p ruture curptity \n",
      "hic is oct relicise of gradge searrescent points of sector this whele to the nal\n",
      "fork the near hoves and fror the gataal stander weil wouddests of p osternite th\n",
      "ber the dialious thorn ara and comment worlin styor oughts alternars in one nine\n",
      "================================================================================\n",
      "Validation set perplexity: 5.11\n",
      "------------------------------\n",
      "Average loss at step  3500 = 8.35083919048 \n",
      "learning rate: 1.99526\n",
      "Minibatch perplexity: 5.42\n",
      "Validation set perplexity: 4.98\n",
      "------------------------------\n",
      "Average loss at step  4000 = 8.32111997247 \n",
      "learning rate: 1.58489\n",
      "Minibatch perplexity: 5.31\n",
      "================================================================================\n",
      "n bate becagirs on pother earlogutames to whire three four one germennaush of th\n",
      "d onlle and and and to and romini x peading doabous is after conmitrigations whi\n",
      "x the strudon yed in the pervaties tun to the poly nine wark chane withards stri\n",
      "hicken six three four eight one five nine bynotreed and were romation of panubat\n",
      "bie commonse usel by the shorks both etoby edecaries a usic securiance can high \n",
      "================================================================================\n",
      "Validation set perplexity: 4.85\n",
      "------------------------------\n",
      "Average loss at step  4500 = 8.25789055467 \n",
      "learning rate: 1.25893\n",
      "Minibatch perplexity: 6.60\n",
      "Validation set perplexity: 4.83\n",
      "------------------------------\n",
      "Average loss at step  5000 = 8.29675801158 \n",
      "learning rate: 1.0\n",
      "Minibatch perplexity: 4.91\n",
      "================================================================================\n",
      "mate turitiant rave four eight tillects of bilut obhalling har which breashwand \n",
      "bout at meny aptey of the sentible used that the univelition to can it intorcee \n",
      "tu are non cap the arno one three servicas skrutkon the regater charsh used and \n",
      "x haod the toper afbuin one fomo on eight nine six spiloging courts to stinic wh\n",
      "hical was disuppeved useonic hopactredia and the populars a two four zero five h\n",
      "================================================================================\n",
      "Validation set perplexity: 4.89\n",
      "------------------------------\n",
      "Average loss at step  5500 = 8.32246379614 \n",
      "learning rate: 0.794328\n",
      "Minibatch perplexity: 5.77\n",
      "Validation set perplexity: 4.86\n",
      "------------------------------\n",
      "Average loss at step  6000 = 8.26441206932 \n",
      "learning rate: 0.630957\n",
      "Minibatch perplexity: 4.99\n",
      "================================================================================\n",
      "remable then gersusher shord branntents song afterelly rounding and evelled succ\n",
      "d leaw with individer other in mazing day and soming to musting continutlo for g\n",
      "gophapish on falle ulluti or g other politics one threat a maintherg internal co\n",
      "el very and x poloric foocreot in the decone becient institali deflan time exide\n",
      "zic aghity pugules by the conferce glang but earthayiss of a use eight canscon c\n",
      "================================================================================\n",
      "Validation set perplexity: 4.77\n",
      "------------------------------\n",
      "Average loss at step  6500 = 8.30220456958 \n",
      "learning rate: 0.501187\n",
      "Minibatch perplexity: 5.87\n",
      "Validation set perplexity: 4.75\n",
      "------------------------------\n",
      "Average loss at step  7000 = 8.18332758784 \n",
      "learning rate: 0.398107\n",
      "Minibatch perplexity: 5.57\n",
      "================================================================================\n",
      "y ordips he flanedrod eashop the state name in had luther heads epposure recardi\n",
      "ke is in be dispertion effent kurght at the s blaction orlarts of such about mas\n",
      "jems an micu of rezords kipb deorigrail af five eight would one nine nine nine o\n",
      "zing and one nine eight zero stating theori was ocraum lacust redius unto histor\n",
      "jotion the day com torculated patron fomechal these for the in gemeralcy dohn mo\n",
      "================================================================================\n",
      "Validation set perplexity: 4.74\n",
      "------------------------------\n",
      "7.45932328304 minutes elapsed\n"
     ]
    }
   ],
   "source": [
    "num_steps = 7001  ## orig 7001\n",
    "summary_frequency = 100\n",
    "\n",
    "t0 = time.time()\n",
    "with tf.Session(graph=graph) as session:\n",
    "  tf.initialize_all_variables().run()\n",
    "  print 'Initialized\\n=========='\n",
    "  mean_loss = 0\n",
    "  for step in xrange(num_steps):\n",
    "    batches = train_batches.next()\n",
    "    feed_dict = dict()\n",
    "    for i in xrange(num_unrollings + 1):\n",
    "      feed_dict[train_data[i]] = batches[i]\n",
    "    _, l, predictions, lr = session.run(\n",
    "      [optimizer, loss, train_prediction, learning_rate], feed_dict=feed_dict)\n",
    "    mean_loss += l\n",
    "    if step % (5.*summary_frequency) == 0:  ## orig 2.5*summary_frequency\n",
    "      if step > 0:\n",
    "        mean_loss = mean_loss / summary_frequency\n",
    "      # The mean loss is an estimate of the loss over the last few batches.\n",
    "      print 'Average loss at step ', step, '=', mean_loss, '\\nlearning rate:', lr\n",
    "      mean_loss = 0\n",
    "      labels = np.concatenate(list(batches)[1:])\n",
    "      print 'Minibatch perplexity: %.2f' % float(\n",
    "        np.exp(logprob(predictions, labels)))\n",
    "      if step % (summary_frequency * 10) == 0:\n",
    "        # Generate some samples.\n",
    "        print '=' * 80\n",
    "        for _ in xrange(5):\n",
    "          feed = sample(random_distribution())\n",
    "          sentence = characters(feed)[0]\n",
    "          reset_sample_state.run()\n",
    "          for _ in xrange(79):\n",
    "            prediction = sample_prediction.eval({sample_input: feed})\n",
    "            feed = sample(prediction)\n",
    "            sentence += characters(feed)[0]\n",
    "          print sentence\n",
    "        print '=' * 80\n",
    "      # Measure validation set perplexity.\n",
    "      reset_sample_state.run()\n",
    "      valid_logprob = 0\n",
    "      for _ in xrange(valid_size):\n",
    "        b = valid_batches.next()\n",
    "        predictions = sample_prediction.eval({sample_input: b[0]})\n",
    "        valid_logprob = valid_logprob + logprob(predictions, b[1])\n",
    "      print 'Validation set perplexity: %.2f' % float(np.exp(\n",
    "        valid_logprob / valid_size))\n",
    "      print '-' * 30\n",
    "# show how much time elapsed\n",
    "print (time.time()-t0)/60., 'minutes elapsed'"
   ]
  },
  {
   "cell_type": "markdown",
   "metadata": {
    "colab_type": "text",
    "id": "pl4vtmFfa5nn"
   },
   "source": [
    "---\n",
    "Problem 1\n",
    "---------\n",
    "\n",
    "You might have noticed that the definition of the LSTM cell involves 4 matrix multiplications with the input, and 4 matrix multiplications with the output. Simplify the expression by using a single matrix multiply for each, and variables that are 4 times larger.\n"
   ]
  },
  {
   "cell_type": "markdown",
   "metadata": {},
   "source": [
    "Cell state (akin to a conveyor belt):  \n",
    "http://colah.github.io/posts/2015-08-Understanding-LSTMs/  \n",
    "<img width=\"70%\" src=\"http://colah.github.io/posts/2015-08-Understanding-LSTMs/img/LSTM3-C-line.png\"></a>\n",
    "\n",
    "\n",
    "1. Forget gate:  \n",
    "<img width=\"70%\"src='http://colah.github.io/posts/2015-08-Understanding-LSTMs/img/LSTM3-focus-f.png'>\n",
    "\n",
    "2. New info to store in cell state (Input gate * New candidate values:    \n",
    "<img width=\"70%\"src='http://colah.github.io/posts/2015-08-Understanding-LSTMs/img/LSTM3-focus-i.png'>\n",
    "\n",
    "3. Update the old cell state, C[t−1], into the new cell state C[t]:  \n",
    "<img width=\"70%\"src='http://colah.github.io/posts/2015-08-Understanding-LSTMs/img/LSTM3-focus-C.png'>\n",
    "\n",
    "4. Decide output (Output gate * cell state C[t]):  \n",
    "<img width=\"70%\"src='http://colah.github.io/posts/2015-08-Understanding-LSTMs/img/LSTM3-focus-o.png'>\n",
    "\n",
    "---"
   ]
  },
  {
   "cell_type": "markdown",
   "metadata": {},
   "source": [
    "### Use single matrix multiplication for LSTM cell"
   ]
  },
  {
   "cell_type": "code",
   "execution_count": 203,
   "metadata": {
    "cellView": "both",
    "colab": {
     "autoexec": {
      "startup": false,
      "wait_interval": 0
     }
    },
    "colab_type": "code",
    "collapsed": false,
    "id": "Q5rxZK6RDuGe"
   },
   "outputs": [
    {
     "name": "stdout",
     "output_type": "stream",
     "text": [
      "[4, 27, 64]\n"
     ]
    }
   ],
   "source": [
    "num_nodes = 64\n",
    "\n",
    "graph = tf.Graph()\n",
    "with graph.as_default():\n",
    "  \n",
    "  ## Parameters:\n",
    "  # combined f,i,c,o\n",
    "  fico_x = tf.Variable(tf.truncated_normal([4, vocabulary_size, num_nodes], -0.1, 0.1))\n",
    "  print fico_x.get_shape().as_list()\n",
    "  fico_m = tf.Variable(tf.truncated_normal([4, num_nodes, num_nodes], -0.1, 0.1))\n",
    "  fico_b = tf.Variable(tf.zeros([4, 1, num_nodes]))\n",
    "    \n",
    "  # Variables saving state across unrollings.\n",
    "  saved_output = tf.Variable(tf.zeros([batch_size, num_nodes]), trainable=False)\n",
    "  saved_state = tf.Variable(tf.zeros([batch_size, num_nodes]), trainable=False)\n",
    "\n",
    "  # Classifier weights and biases.\n",
    "  w = tf.Variable(tf.truncated_normal([num_nodes, vocabulary_size], -0.1, 0.1))\n",
    "  b = tf.Variable(tf.zeros([vocabulary_size]))\n",
    "  \n",
    "  # Definition of the cell computation.\n",
    "  def lstm_cell(i, o, state):\n",
    "    \"\"\"\n",
    "    Create a LSTM cell. See e.g.: http://arxiv.org/pdf/1402.1128v1.pdf\n",
    "    Note that in this formulation, we omit the various connections between the\n",
    "    previous state and the gates.\n",
    "    \"\"\"                   \n",
    "    i_list = tf.pack([i, i, i, i])\n",
    "    #print i_list.get_shape().as_list()\n",
    "    o_list = tf.pack([o, o, o, o])\n",
    "                          \n",
    "    ins = tf.batch_matmul(i_list, fico_x)\n",
    "    outs = tf.batch_matmul(o_list, fico_m)\n",
    "    \n",
    "    h_x = ins + outs + fico_b\n",
    "    #print h_x.get_shape().as_list()\n",
    "    \n",
    "    #forget_gate = tf.sigmoid(tf.matmul(i, fx) + tf.matmul(o, fm) + fb)\n",
    "    forget_gate = tf.sigmoid(h_x[0,:,:])\n",
    "    \n",
    "    #input_gate = tf.sigmoid(tf.matmul(i, ix) + tf.matmul(o, im) + ib)\n",
    "    input_gate = tf.sigmoid(h_x[1,:,:])\n",
    "    \n",
    "    #update = tf.tanh(tf.matmul(i, cx) + tf.matmul(o, cm) + cb)\n",
    "    update = tf.tanh(h_x[2,:,:])\n",
    "    \n",
    "    state = forget_gate*state + input_gate*update\n",
    "    \n",
    "    #output_gate = tf.sigmoid(tf.matmul(i, ox) + tf.matmul(o, om) + ob)\n",
    "    output_gate = tf.sigmoid(h_x[3,:,:])\n",
    "    \n",
    "    h = output_gate * tf.tanh(state)\n",
    "    #print 'h', h.get_shape().as_list()\n",
    "    return h, state\n",
    "\n",
    "  # Input data.\n",
    "  train_data = list()\n",
    "  for _ in xrange(num_unrollings + 1):\n",
    "    train_data.append(\n",
    "      tf.placeholder(tf.float32, shape=[batch_size,vocabulary_size]))\n",
    "  train_inputs = train_data[:num_unrollings]\n",
    "  train_labels = train_data[1:]  # labels are inputs shifted by one time step.\n",
    "\n",
    "  # Unrolled LSTM loop.\n",
    "  outputs = list()\n",
    "  output = saved_output\n",
    "  state = saved_state\n",
    "  for i in train_inputs:\n",
    "    output, state = lstm_cell(i, output, state)\n",
    "    outputs.append(output)\n",
    "\n",
    "  # State saving across unrollings.\n",
    "  with tf.control_dependencies([saved_output.assign(output),\n",
    "                                saved_state.assign(state)]):\n",
    "    # Classifier.\n",
    "    logits = tf.nn.xw_plus_b(tf.concat(0, outputs), w, b)\n",
    "    loss = tf.reduce_mean(\n",
    "      tf.nn.softmax_cross_entropy_with_logits(\n",
    "        logits, tf.concat(0, train_labels)))\n",
    "\n",
    "  # Optimizer.\n",
    "  global_step = tf.Variable(0)\n",
    "  learning_rate = tf.train.exponential_decay(\n",
    "    10.0, global_step, 5000, 0.1, staircase=False)  ## orig 10.0, 5000, 0.1, True\n",
    "  optimizer = tf.train.GradientDescentOptimizer(learning_rate)\n",
    "  gradients, v = zip(*optimizer.compute_gradients(loss))\n",
    "  gradients, _ = tf.clip_by_global_norm(gradients, 1.25)\n",
    "  optimizer = optimizer.apply_gradients(\n",
    "    zip(gradients, v), global_step=global_step)\n",
    "\n",
    "  # Predictions.\n",
    "  train_prediction = tf.nn.softmax(logits)\n",
    "  \n",
    "  # Sampling and validation eval: batch 1, no unrolling.\n",
    "  sample_input = tf.placeholder(tf.float32, shape=[1, vocabulary_size])\n",
    "  saved_sample_output = tf.Variable(tf.zeros([1, num_nodes]))\n",
    "  saved_sample_state = tf.Variable(tf.zeros([1, num_nodes]))\n",
    "  reset_sample_state = tf.group(\n",
    "    saved_sample_output.assign(tf.zeros([1, num_nodes])),\n",
    "    saved_sample_state.assign(tf.zeros([1, num_nodes])))\n",
    "  sample_output, sample_state = lstm_cell(\n",
    "    sample_input, saved_sample_output, saved_sample_state)\n",
    "  with tf.control_dependencies([saved_sample_output.assign(sample_output),\n",
    "                                saved_sample_state.assign(sample_state)]):\n",
    "    sample_prediction = tf.nn.softmax(tf.nn.xw_plus_b(sample_output, w, b))"
   ]
  },
  {
   "cell_type": "markdown",
   "metadata": {},
   "source": [
    "### Run it with single matrix"
   ]
  },
  {
   "cell_type": "code",
   "execution_count": 172,
   "metadata": {
    "cellView": "both",
    "colab": {
     "autoexec": {
      "startup": false,
      "wait_interval": 0
     },
     "output_extras": [
      {
       "item_id": 41
      },
      {
       "item_id": 80
      },
      {
       "item_id": 126
      },
      {
       "item_id": 144
      }
     ]
    },
    "colab_type": "code",
    "collapsed": true,
    "executionInfo": {
     "elapsed": 199909,
     "status": "ok",
     "timestamp": 1445965877333,
     "user": {
      "color": "#1FA15D",
      "displayName": "Vincent Vanhoucke",
      "isAnonymous": false,
      "isMe": true,
      "permissionId": "05076109866853157986",
      "photoUrl": "//lh6.googleusercontent.com/-cCJa7dTDcgQ/AAAAAAAAAAI/AAAAAAAACgw/r2EZ_8oYer4/s50-c-k-no/photo.jpg",
      "sessionId": "6f6f07b359200c46",
      "userId": "102167687554210253930"
     },
     "user_tz": 420
    },
    "id": "RD9zQCZTEaEm",
    "outputId": "5e868466-2532-4545-ce35-b403cf5d9de6"
   },
   "outputs": [
    {
     "name": "stdout",
     "output_type": "stream",
     "text": [
      "Initialized\n",
      "==========\n",
      "Average loss at step  0 = 3.2942814827 \n",
      "learning rate: 10.0\n",
      "Minibatch perplexity: 26.96\n",
      "================================================================================\n",
      "ylnonkxvt nkueilucjf w h yuamjzsldesyid  lhumkeyfhdiafedazndceszgxxpjhk enfjbmii\n",
      "g dtnffulibkn tqivpe poenheqabvnjz rux yiegucqylhfhxdaenevtatngejghspf nnfr  e e\n",
      "hx ntkifs  nauohgqebejeo lueyiluyutemqe  y ceefkrvjopd se u p aeou  ehn ghl  imn\n",
      "r seowdsgbnwtfveafyoenveejetrltlvg  kcdtfurnh n a q  cfn thjt yuudx oxkos rchshr\n",
      "f  ymmuhwczueu  hjjpkfpd ndn inenjspwh kvdlkftsephmkijcmsne sa cwezuiystwepo w  \n",
      "================================================================================\n",
      "Validation set perplexity: 20.31\n",
      "------------------------------\n",
      "Average loss at step  500 = 10.8926817107 \n",
      "learning rate: 7.94328\n",
      "Minibatch perplexity: 7.35\n",
      "Validation set perplexity: 7.33\n",
      "------------------------------\n",
      "Average loss at step  1000 = 9.33507280588 \n",
      "learning rate: 6.30957\n",
      "Minibatch perplexity: 6.45\n",
      "================================================================================\n",
      "ing he bust canss is mad polmums for argerarion westrada for ong nytuca reigatio\n",
      "ap waillaka humbast play of sua a andaning bearwied motorners stologed coveline \n",
      " of nutioning sargiom one exit bugain with j inst of the abally itedematiolded c\n",
      "tion of sicport the posipla not fontmisgactoror eivege stat was canter to harded\n",
      "d united mateve at this depleman abands ssitul ains a gover perbations depams am\n",
      "================================================================================\n",
      "Validation set perplexity: 6.21\n",
      "------------------------------\n",
      "Average loss at step  1500 = 8.81913840771 \n",
      "learning rate: 5.01187\n",
      "Minibatch perplexity: 5.60\n",
      "Validation set perplexity: 5.58\n",
      "------------------------------\n",
      "Average loss at step  2000 = 8.52946138382 \n",
      "learning rate: 3.98107\n",
      "Minibatch perplexity: 5.00\n",
      "================================================================================\n",
      "x as presserced that she villoted reromp rando s hove four hongs a bot not one o\n",
      "s eviniol as strockity contersaposs ime lestrong imponaisticater centreater dud \n",
      "t was disputed this in ded flat durical bo wasfes one zero zeree two zero zero i\n",
      "rated nammies the implainn este prossificing beag as the componation of neting o\n",
      "s afrezaty incordacd to contrict of an seventisis alominque the dirent are appea\n",
      "================================================================================\n",
      "Validation set perplexity: 5.52\n",
      "------------------------------\n",
      "Average loss at step  2500 = 8.4907170105 \n",
      "learning rate: 3.16228\n",
      "Minibatch perplexity: 5.17\n",
      "Validation set perplexity: 5.33\n",
      "------------------------------\n",
      "Average loss at step  3000 = 8.42244207621 \n",
      "learning rate: 2.51189\n",
      "Minibatch perplexity: 4.92\n",
      "================================================================================\n",
      "zerme as demorcuran the wedino the conpre wonline the string lock fourtphisopeda\n",
      "y two zero on six four five of blurkmencally a many in sis t tound eqerbers in o\n",
      "n the use of kinchish in the three on been soating one time of on note boot be m\n",
      "p acton cansumed to stoss in ant these throy a son the one seven of depedt both \n",
      "quetic the securate iftrienck simissian but frico in bon on deans the englouts t\n",
      "================================================================================\n",
      "Validation set perplexity: 5.14\n",
      "------------------------------\n",
      "Average loss at step  3500 = 8.32886494875 \n",
      "learning rate: 1.99526\n",
      "Minibatch perplexity: 5.79\n",
      "Validation set perplexity: 5.00\n",
      "------------------------------\n",
      "Average loss at step  4000 = 8.22755511999 \n",
      "learning rate: 1.58489\n",
      "Minibatch perplexity: 4.80\n",
      "================================================================================\n",
      "furic overnally difer of sucu cronjic vake becoment as recan including aind sump\n",
      "nce millor since contegutannam for the population lessited viese shill and face \n",
      "quess prime world wleal of anthy opchision bas also batille injusional a chrectl\n",
      "gious by the comacic nottybe bils the mijal aruilits that hel to reas to gofe in\n",
      "h phare golowical implering of ying americab was in whech recelicar unabibineg f\n",
      "================================================================================\n",
      "Validation set perplexity: 4.96\n",
      "------------------------------\n",
      "Average loss at step  4500 = 8.18535328984 \n",
      "learning rate: 1.25893\n",
      "Minibatch perplexity: 4.79\n",
      "Validation set perplexity: 4.97\n",
      "------------------------------\n",
      "Average loss at step  5000 = 8.24885400295 \n",
      "learning rate: 1.0\n",
      "Minibatch perplexity: 5.39\n",
      "================================================================================\n",
      "one from the by clemovicy working strees or which efgetering railly at betheeds \n",
      "d infineral cansuct of owhers a many handade hubrian ean and to setrol every def\n",
      "e questob other the manded s piral extropath and when e ginest a semest of that \n",
      "jet to be the welthout stade the organic malvic the one nine seven one gheer erm\n",
      "jemina when the seegres for some prent trink the designed nch some grees of the \n",
      "================================================================================\n",
      "Validation set perplexity: 4.91\n",
      "------------------------------\n",
      "Average loss at step  5500 = 8.15417693019 \n",
      "learning rate: 0.794328\n",
      "Minibatch perplexity: 5.66\n",
      "Validation set perplexity: 4.80\n",
      "------------------------------\n",
      "Average loss at step  6000 = 8.0882400012 \n",
      "learning rate: 0.630957\n",
      "Minibatch perplexity: 4.32\n",
      "================================================================================\n",
      "tains are facturol of lows altraction in are remicance in the diarns mary govern\n",
      "zatage for namountabre simp whinements one seven four five crincare of europe gr\n",
      "a develotical comporiently octud device the the sald in cayk however is a daymed\n",
      "sman now five lies and clasety and plains one six five d nut one seven zero zero\n",
      "forts are caliced suclio sentains betroriarian coring american basents by alirne\n",
      "================================================================================\n",
      "Validation set perplexity: 4.82\n",
      "------------------------------\n",
      "Average loss at step  6500 = 8.17073647261 \n",
      "learning rate: 0.501187\n",
      "Minibatch perplexity: 5.57\n",
      "Validation set perplexity: 4.77\n",
      "------------------------------\n",
      "Average loss at step  7000 = 8.10455025792 \n",
      "learning rate: 0.398107\n",
      "Minibatch perplexity: 5.21\n",
      "================================================================================\n",
      "gipated this he manuoly by forthered the fital hisk rolita geneian meamerrage an\n",
      "d to mo b runua of histum pross will as orgital for arruest whink gamen five zer\n",
      "n starity of remootants of belain must p sparter in fasch risches people in the \n",
      "ver manywake two zero zero fam unitally be a ronae peomiticle chool the green in\n",
      "jerg as bit mu no itlickno delevin forceter timing four whode a philloss a fusul\n",
      "================================================================================\n",
      "Validation set perplexity: 4.76\n",
      "------------------------------\n",
      "5.83073368073 minutes elapsed\n"
     ]
    }
   ],
   "source": [
    "num_steps = 7001  ## orig 7001\n",
    "summary_frequency = 100\n",
    "\n",
    "t0 = time.time()\n",
    "with tf.Session(graph=graph) as session:\n",
    "  tf.initialize_all_variables().run()\n",
    "  print 'Initialized\\n=========='\n",
    "  mean_loss = 0\n",
    "  for step in xrange(num_steps):\n",
    "    batches = train_batches.next()\n",
    "    feed_dict = dict()\n",
    "    for i in xrange(num_unrollings + 1):\n",
    "      feed_dict[train_data[i]] = batches[i]\n",
    "    _, l, predictions, lr = session.run(\n",
    "      [optimizer, loss, train_prediction, learning_rate], feed_dict=feed_dict)\n",
    "    mean_loss += l\n",
    "    if step % (5.*summary_frequency) == 0:  ## orig 2.5*summary_frequency\n",
    "      if step > 0:\n",
    "        mean_loss = mean_loss / summary_frequency\n",
    "      # The mean loss is an estimate of the loss over the last few batches.\n",
    "      print 'Average loss at step ', step, '=', mean_loss, '\\nlearning rate:', lr\n",
    "      mean_loss = 0\n",
    "      labels = np.concatenate(list(batches)[1:])\n",
    "      print 'Minibatch perplexity: %.2f' % float(\n",
    "        np.exp(logprob(predictions, labels)))\n",
    "      if step % (summary_frequency * 10) == 0:\n",
    "        # Generate some samples.\n",
    "        print '=' * 80\n",
    "        for _ in xrange(5):\n",
    "          feed = sample(random_distribution())\n",
    "          sentence = characters(feed)[0]\n",
    "          reset_sample_state.run()\n",
    "          for _ in xrange(79):\n",
    "            prediction = sample_prediction.eval({sample_input: feed})\n",
    "            feed = sample(prediction)\n",
    "            sentence += characters(feed)[0]\n",
    "          print sentence\n",
    "        print '=' * 80\n",
    "      # Measure validation set perplexity.\n",
    "      reset_sample_state.run()\n",
    "      valid_logprob = 0\n",
    "      for _ in xrange(valid_size):\n",
    "        b = valid_batches.next()\n",
    "        predictions = sample_prediction.eval({sample_input: b[0]})\n",
    "        valid_logprob = valid_logprob + logprob(predictions, b[1])\n",
    "      print 'Validation set perplexity: %.2f' % float(np.exp(\n",
    "        valid_logprob / valid_size))\n",
    "      print '-' * 30\n",
    "# show how much time elapsed\n",
    "print (time.time()-t0)/60., 'minutes elapsed'"
   ]
  },
  {
   "cell_type": "markdown",
   "metadata": {},
   "source": [
    "## Variants on LSTM \n",
    "\n",
    "### Peephole connections:  \n",
    "ftp://ftp.idsia.ch/pub/juergen/TimeCount-IJCNN2000.pdf  \n",
    "<img width='80%' src='http://colah.github.io/posts/2015-08-Understanding-LSTMs/img/LSTM3-var-peepholes.png'>\n",
    "\n",
    "### Gated Recurrent Unit (GRU):  \n",
    "http://arxiv.org/pdf/1406.1078v3.pdf  \n",
    "- combine forget and input gates\n",
    "- merge cell and hidden states  \n",
    "<img width='80%' src='http://colah.github.io/posts/2015-08-Understanding-LSTMs/img/LSTM3-var-GRU.png'>\n"
   ]
  },
  {
   "cell_type": "markdown",
   "metadata": {},
   "source": [
    "### Attention\n",
    "http://arxiv.org/pdf/1502.03044v2.pdf\n",
    ">Let every step of an RNN pick information to look at from some larger collection of information. For example, if you are using an RNN to create a caption describing an image, it might pick a part of the image to look at for every word it outputs\n",
    "\n"
   ]
  },
  {
   "cell_type": "markdown",
   "metadata": {
    "colab_type": "text",
    "id": "4eErTCTybtph"
   },
   "source": [
    "---\n",
    "Problem 2\n",
    "---------\n",
    "\n",
    "We want to train a LSTM over bigrams, that is pairs of consecutive characters like 'ab' instead of single characters like 'a'. Since the number of possible bigrams is large, feeding them directly to the LSTM using 1-hot encodings will lead to a very sparse representation that is very wasteful computationally.\n",
    "\n",
    "a- Introduce an embedding lookup on the inputs, and feed the embeddings to the LSTM cell instead of the inputs themselves.\n",
    "\n",
    "b- Write a bigram-based LSTM, modeled on the character LSTM above.\n",
    "\n",
    "c- Introduce Dropout. For best practices on how to use Dropout in LSTMs, refer to this [article](http://arxiv.org/abs/1409.2329).\n",
    "\n",
    "---"
   ]
  },
  {
   "cell_type": "markdown",
   "metadata": {},
   "source": [
    "### Dictionary of bigrams"
   ]
  },
  {
   "cell_type": "code",
   "execution_count": 786,
   "metadata": {
    "collapsed": false
   },
   "outputs": [
    {
     "name": "stdout",
     "output_type": "stream",
     "text": [
      "729\n",
      "729\n"
     ]
    }
   ],
   "source": [
    "# build dictionary of bigrams\n",
    "dictionary = dict()\n",
    "count = 0\n",
    "for i in ' ' + string.ascii_lowercase:\n",
    "    for j in ' ' + string.ascii_lowercase:\n",
    "        dictionary[i+j] = count\n",
    "        count += 1\n",
    "print len(bigram_dict)\n",
    "\n",
    "# build reverse dictionary of bigrams\n",
    "reverse_dictionary = dict(zip(dictionary.values(), dictionary.keys())) \n",
    "print len(reverse_dictionary)"
   ]
  },
  {
   "cell_type": "markdown",
   "metadata": {
    "colab_type": "text",
    "id": "lFwoyygOmWsL"
   },
   "source": [
    "### Function to generate a training batch for embedded bigrams"
   ]
  },
  {
   "cell_type": "code",
   "execution_count": 787,
   "metadata": {
    "cellView": "both",
    "colab": {
     "autoexec": {
      "startup": false,
      "wait_interval": 0
     },
     "output_extras": [
      {
       "item_id": 1
      }
     ]
    },
    "colab_type": "code",
    "collapsed": false,
    "executionInfo": {
     "elapsed": 6473,
     "status": "ok",
     "timestamp": 1445965583467,
     "user": {
      "color": "#1FA15D",
      "displayName": "Vincent Vanhoucke",
      "isAnonymous": false,
      "isMe": true,
      "permissionId": "05076109866853157986",
      "photoUrl": "//lh6.googleusercontent.com/-cCJa7dTDcgQ/AAAAAAAAAAI/AAAAAAAACgw/r2EZ_8oYer4/s50-c-k-no/photo.jpg",
      "sessionId": "6f6f07b359200c46",
      "userId": "102167687554210253930"
     },
     "user_tz": 420
    },
    "id": "d9wMtjy5hCj9",
    "outputId": "3dd79c80-454a-4be0-8b71-4a4a357b3367"
   },
   "outputs": [],
   "source": [
    "class BatchGeneratorBigram(object):\n",
    "  def __init__(self, text, batch_size, num_unrollings):\n",
    "    self._text = text\n",
    "    self._text_size = len(text)\n",
    "    self._batch_size = batch_size\n",
    "    self._num_unrollings = num_unrollings\n",
    "    segment = self._text_size / batch_size\n",
    "    # list of offsets within batch\n",
    "    self._cursor = [ offset * segment for offset in xrange(batch_size)]\n",
    "    self._last_batch = self._next_batch()\n",
    "  \n",
    "  def _next_batch(self):\n",
    "    \"\"\"Generate a single batch from the current cursor position in the data.\"\"\"\n",
    "    batch = np.zeros(shape=(self._batch_size), dtype=np.int)  # id of char to be embedded\n",
    "    for b in xrange(self._batch_size):\n",
    "      #batch[b] = char2id(self._text[self._cursor[b]])  # use w/ character model\n",
    "      c1 = self._text[self._cursor[b]] # 1st char of bigram\n",
    "      c2 = self._text[(self._cursor[b] + 1) % self._text_size] # 2nd char of bigram\n",
    "      batch[b] = dictionary[c1+c2]\n",
    "      self._cursor[b] = (self._cursor[b] + 1) % self._text_size  # move cursor\n",
    "    return batch\n",
    "  \n",
    "  def next(self):\n",
    "    \"\"\"Generate the next array of batches from the data. The array consists of\n",
    "    the last batch of the previous array, followed by num_unrollings new ones.\n",
    "    \"\"\"\n",
    "    batches = [self._last_batch]\n",
    "    for step in xrange(self._num_unrollings):\n",
    "      batches.append(self._next_batch())  # add id of char for 1 to num_unrollings\n",
    "    self._last_batch = batches[-1]\n",
    "    return batches\n",
    "\n",
    "# TODEL: concat 2 character ids to create bigram as int\n",
    "'''\n",
    "def convert_bigram(c1, c2):\n",
    "    return int('99' + str(c1) + '99' + str(c2))\n",
    "'''\n",
    "\n",
    "def bigrambatches2string(batches):\n",
    "  \"\"\"Convert a sequence of batches back into string\n",
    "  representation.\n",
    "  \"\"\"\n",
    "  s = [''] * batches[0].shape[0]\n",
    "  for b in batches:\n",
    "    #s = [''.join(x) for x in zip(s, [id2char(c) for c in b])]  # use w/ character model\n",
    "    #b = [re.findall(r'(?<=99)[12]?[0-9](?=99)', str(a)) for a in b]\n",
    "    #s = [''.join(x) for x in zip(s, [id2char(int(c[0])) for c in b])]  # use w/ bigram model\n",
    "    s = [''.join(x) for x in zip(s, [reverse_dictionary[c][0] for c in b])]  # use w/ character model\n",
    "  return s"
   ]
  },
  {
   "cell_type": "markdown",
   "metadata": {
    "colab_type": "text",
    "id": "lFwoyygOmWsL"
   },
   "source": [
    "### Generate training, validation batches for embedded bigrams"
   ]
  },
  {
   "cell_type": "code",
   "execution_count": 810,
   "metadata": {
    "collapsed": false
   },
   "outputs": [
    {
     "name": "stdout",
     "output_type": "stream",
     "text": [
      "index 0 to 80:\n",
      "ons anarchists advocate social relations based upon voluntary as\n",
      "----------------\n",
      "(32,)\n",
      "['ate social relations ', 'al park photographic ', 'ess of castile daught', 'guage among jews mand', 'al media and from pre', 'known manufacturers o', 's covering some of th', 'ze single acts of mer', ' in jersey and guerns', 'gns of humanity vol t', 'n denaturalization an', 'the input usually mea', 'usion inability to or', 't of the mistakes of ', 'ttempts by his oppone', 'soteric christianity ', 'riginal document fax ', 'rch eight listing of ', 'al mechanics and spec', 's fundamental applica', 'ast not parliament s ', ' example rlc circuit ', 'he official language ', 'ne three two one one ', ' daily college newspa', 'ehru wished the econo', 'arman s sydney based ', 'itiatives the lesotho', 'icky ricardo this cla', 'ent of arm is represe', 'e external links bbc ', ' buddhism especially ']\n",
      "----------------\n",
      "[array([1]), array([41]), array([379])]\n",
      "[array([[ 1.,  0.,  0.,  0.,  0.,  0.,  0.,  0.,  0.,  0.,  0.,  0.,  0.,\n",
      "         0.,  0.,  0.,  0.,  0.,  0.,  0.,  0.,  0.,  0.,  0.,  0.,  0.,\n",
      "         0.]]), array([[ 0.,  1.,  0.,  0.,  0.,  0.,  0.,  0.,  0.,  0.,  0.,  0.,  0.,\n",
      "         0.,  0.,  0.,  0.,  0.,  0.,  0.,  0.,  0.,  0.,  0.,  0.,  0.,\n",
      "         0.]]), array([[ 0.,  0.,  0.,  0.,  0.,  0.,  0.,  0.,  0.,  0.,  0.,  0.,  0.,\n",
      "         0.,  1.,  0.,  0.,  0.,  0.,  0.,  0.,  0.,  0.,  0.,  0.,  0.,\n",
      "         0.]])]\n",
      "['nar']\n"
     ]
    }
   ],
   "source": [
    "# training and validation batches\n",
    "batch_size = 32\n",
    "num_unrollings = 20\n",
    "train_batches = BatchGeneratorBigram(train_text, batch_size, num_unrollings)\n",
    "valid_batches = BatchGeneratorBigram(valid_text, 1, 2) # returns batch size 1, +2 unrolling\n",
    "train_batches_y = BatchGenerator(train_text, batch_size, num_unrollings)\n",
    "valid_batches_y = BatchGenerator(valid_text, 1, 2) # returns batch size 1, +2 unrolling \n",
    "\n",
    "# look at the text from various segments\n",
    "segment_look = 0\n",
    "show = segment_look * len(train_text)/batch_size\n",
    "print \"index {} to {}:\\n{}\".format(show, show+80, train_text[show:show+64])\n",
    "print('-'*16)\n",
    "\n",
    "print train_batches.next()[0].shape\n",
    "print bigrambatches2string(train_batches.next())\n",
    "print('-'*16)\n",
    "print valid_batches.next()\n",
    "print valid_batches_y.next()\n",
    "print bigrambatches2string(valid_batches.next())"
   ]
  },
  {
   "cell_type": "markdown",
   "metadata": {},
   "source": [
    "### Build the bigram graph with embeddings"
   ]
  },
  {
   "cell_type": "code",
   "execution_count": 819,
   "metadata": {
    "cellView": "both",
    "colab": {
     "autoexec": {
      "startup": false,
      "wait_interval": 0
     }
    },
    "colab_type": "code",
    "collapsed": false,
    "id": "Q5rxZK6RDuGe"
   },
   "outputs": [
    {
     "name": "stdout",
     "output_type": "stream",
     "text": [
      "[4, 128, 128]\n",
      "logits [608, 27]\n",
      "labels [608, 27]\n"
     ]
    }
   ],
   "source": [
    "#num_nodes_1 = 64\n",
    "num_nodes = 128\n",
    "embedding_size = 128 # Dimension of the embedding vector.\n",
    "\n",
    "graph = tf.Graph()\n",
    "with graph.as_default():\n",
    "  \n",
    "  ## Parameters:\n",
    "  fico_x = tf.Variable(tf.truncated_normal([4, embedding_size, num_nodes], -0.1, 0.1))\n",
    "  print fico_x.get_shape().as_list()\n",
    "  fico_m = tf.Variable(tf.truncated_normal([4, num_nodes, num_nodes], -0.1, 0.1))\n",
    "  fico_b = tf.Variable(tf.zeros([4, 1, num_nodes]))\n",
    "    \n",
    "  fico_x2 = tf.Variable(tf.truncated_normal([4, embedding_size, num_nodes], -0.1, 0.1))\n",
    "  fico_m2 = tf.Variable(tf.truncated_normal([4, num_nodes, num_nodes], -0.1, 0.1))\n",
    "  fico_b2 = tf.Variable(tf.zeros([4, 1, num_nodes]))\n",
    "    \n",
    "  # Variables saving state across unrollings.\n",
    "  saved_output = tf.Variable(tf.zeros([batch_size, num_nodes]), trainable=False)\n",
    "  saved_state = tf.Variable(tf.zeros([batch_size, num_nodes]), trainable=False)\n",
    "  saved_output2 = tf.Variable(tf.zeros([batch_size, num_nodes]), trainable=False)\n",
    "  saved_state2 = tf.Variable(tf.zeros([batch_size, num_nodes]), trainable=False)\n",
    "\n",
    "  # Classifier weights and biases.\n",
    "  w = tf.Variable(tf.truncated_normal([num_nodes, vocabulary_size], -0.1, 0.1))\n",
    "  b = tf.Variable(tf.zeros([vocabulary_size]))\n",
    "    \n",
    "  # Embedding Variables.\n",
    "  embeddings = tf.Variable(\n",
    "    tf.random_uniform([vocabulary_size**2, embedding_size], -1.0, 1.0), trainable=False)\n",
    "  \n",
    "  # Dropout\n",
    "  keep_prob = tf.constant(0.6)\n",
    "  # Definition of the cell computation.\n",
    "  def lstm_cell(i, o, state):\n",
    "    \"\"\"\n",
    "    Create a LSTM cell. See e.g.: http://arxiv.org/pdf/1402.1128v1.pdf\n",
    "    Note that in this formulation, we omit the various connections between the\n",
    "    previous state and the gates.\n",
    "    \"\"\"                   \n",
    "    i_list = tf.pack([i, i, i, i])\n",
    "    o_list = tf.pack([o, o, o, o])\n",
    "                          \n",
    "    ins = tf.batch_matmul(i_list, fico_x)\n",
    "    outs = tf.batch_matmul(o_list, fico_m)\n",
    "    \n",
    "    h_x = ins + outs + fico_b\n",
    "\n",
    "    forget_gate = tf.sigmoid(h_x[0,:,:])\n",
    "\n",
    "    input_gate = tf.sigmoid(h_x[1,:,:])\n",
    "    input_gate_d = tf.nn.dropout(input_gate, keep_prob)  # dropout input\n",
    "    update = tf.tanh(h_x[2,:,:])\n",
    "    state = forget_gate*state + input_gate*update\n",
    "    state_d = forget_gate*state + input_gate_d*update\n",
    "    \n",
    "    output_gate = tf.sigmoid(h_x[3,:,:])\n",
    "    output_gate_d = tf.nn.dropout(output_gate, keep_prob)  # dropout input\n",
    "    \n",
    "    h = output_gate_d * tf.tanh(state_d)\n",
    "    h_pred = output_gate * tf.tanh(state)\n",
    "    return h, state, h_pred  # dont use dropout for predictions\n",
    "\n",
    "  def lstm_cell_2(i, o, state):         \n",
    "    i_list = tf.pack([i, i, i, i])\n",
    "    o_list = tf.pack([o, o, o, o])                      \n",
    "    ins = tf.batch_matmul(i_list, fico_x2)\n",
    "    outs = tf.batch_matmul(o_list, fico_m2)\n",
    "    h_x = ins + outs + fico_b2\n",
    "    \n",
    "    forget_gate = tf.sigmoid(h_x[0,:,:])\n",
    "    input_gate = tf.sigmoid(h_x[1,:,:])\n",
    "    input_gate_d = tf.nn.dropout(input_gate, keep_prob)  # dropout input\n",
    "    update = tf.tanh(h_x[2,:,:])\n",
    "    state = forget_gate*state + input_gate*update\n",
    "    state_d = forget_gate*state + input_gate_d*update\n",
    "    \n",
    "    output_gate = tf.sigmoid(h_x[3,:,:])\n",
    "    output_gate_d = tf.nn.dropout(output_gate, keep_prob)  # dropout input\n",
    "    \n",
    "    h = output_gate_d * tf.tanh(state_d)\n",
    "    h_pred = output_gate * tf.tanh(state)\n",
    "    return h, state, h_pred  # dont use dropout for predictions\n",
    "\n",
    "  # Input data.\n",
    "  train_data = list()\n",
    "  train_data_y = list()\n",
    "  for _ in xrange(num_unrollings + 1):\n",
    "    train_data.append(\n",
    "      tf.placeholder(tf.int32, shape=[batch_size]))  # removed ohe of char\n",
    "    train_data_y.append(\n",
    "      tf.placeholder(tf.float32, shape=[batch_size, vocabulary_size]))  # uses ohe of char\n",
    "  train_labels = train_data_y[2:]  # offset labels for bigram input\n",
    "  \n",
    "  # Embedded input data\n",
    "  encoded_inputs = list()\n",
    "  for bigram in train_data:\n",
    "    embed = tf.nn.embedding_lookup(embeddings, bigram)\n",
    "    encoded_inputs.append(embed)\n",
    "  train_inputs = encoded_inputs[:num_unrollings-1]\n",
    "\n",
    "  # Unrolled LSTM loop.\n",
    "  outputs = list()\n",
    "  out_preds = list()\n",
    "  output = saved_output\n",
    "  output2 = saved_output2\n",
    "  state = saved_state\n",
    "  state2 = saved_state2\n",
    "  for i in train_inputs:\n",
    "    output, state, out_pred = lstm_cell(i, output, state)\n",
    "    output2, state2, _ = lstm_cell_2(output, output2, state2)\n",
    "    _, _, out_pred2 = lstm_cell_2(out_pred, output2, state2)\n",
    "    outputs.append(output2)\n",
    "    out_preds.append(out_pred2)\n",
    "  # State saving across unrollings.\n",
    "  with tf.control_dependencies([saved_output.assign(output),\n",
    "                                saved_state.assign(state),\n",
    "                                saved_output2.assign(output2),\n",
    "                                saved_state2.assign(state2)]):\n",
    "    # Classifier.\n",
    "    logits = tf.nn.xw_plus_b(tf.concat(0, outputs), w, b)\n",
    "    logits_pred = tf.nn.xw_plus_b(tf.concat(0, out_preds), w, b)\n",
    "    print 'logits', logits.get_shape().as_list()\n",
    "    loss = tf.reduce_mean(\n",
    "      tf.nn.softmax_cross_entropy_with_logits(logits, tf.concat(0, train_labels)))\n",
    "    print 'labels', tf.concat(0, train_labels).get_shape().as_list()\n",
    "\n",
    "  # Optimizer.\n",
    "  global_step = tf.Variable(0)\n",
    "  learning_rate = tf.train.exponential_decay(\n",
    "    10.0, global_step, 5000, 0.1, staircase=False)  ## orig 10.0, 5000, 0.1, True\n",
    "  optimizer = tf.train.GradientDescentOptimizer(learning_rate)\n",
    "  gradients, v = zip(*optimizer.compute_gradients(loss))\n",
    "  gradients, _ = tf.clip_by_global_norm(gradients, 1.25)\n",
    "  optimizer = optimizer.apply_gradients(\n",
    "    zip(gradients, v), global_step=global_step)\n",
    "\n",
    "  # Predictions.\n",
    "  train_prediction = tf.nn.softmax(logits_pred)\n",
    "  \n",
    "  # Sampling and validation eval: batch 1, no unrolling.\n",
    "  sample_input = tf.placeholder(tf.int32, shape=[1]) # removed ohe of char\n",
    "  sample_input_emb = tf.nn.embedding_lookup(embeddings, sample_input)\n",
    "  saved_sample_output = tf.Variable(tf.zeros([1, num_nodes]))\n",
    "  saved_sample_state = tf.Variable(tf.zeros([1, num_nodes]))\n",
    "  saved_sample_output2 = tf.Variable(tf.zeros([1, num_nodes]))\n",
    "  saved_sample_state2 = tf.Variable(tf.zeros([1, num_nodes]))\n",
    "\n",
    "  reset_sample_state = tf.group(\n",
    "    saved_sample_output.assign(tf.zeros([1, num_nodes])),\n",
    "    saved_sample_state.assign(tf.zeros([1, num_nodes])),\n",
    "    saved_sample_output2.assign(tf.zeros([1, num_nodes])),\n",
    "    saved_sample_state2.assign(tf.zeros([1, num_nodes]))\n",
    "    )\n",
    "  _, sample_state, sample_output = lstm_cell(\n",
    "      sample_input_emb, saved_sample_output, saved_sample_state)\n",
    "  _, sample_state2, sample_output2 = lstm_cell_2(\n",
    "      sample_output, saved_sample_output2, saved_sample_state2)\n",
    "  with tf.control_dependencies([saved_sample_output.assign(sample_output),\n",
    "                                saved_sample_state.assign(sample_state),\n",
    "                                saved_sample_output2.assign(sample_output2),\n",
    "                                saved_sample_state2.assign(sample_state2)]):\n",
    "    sample_prediction = tf.nn.softmax(tf.nn.xw_plus_b(sample_output2, w, b))"
   ]
  },
  {
   "cell_type": "markdown",
   "metadata": {},
   "source": [
    "### Run it with bigrams"
   ]
  },
  {
   "cell_type": "code",
   "execution_count": 820,
   "metadata": {
    "cellView": "both",
    "colab": {
     "autoexec": {
      "startup": false,
      "wait_interval": 0
     }
    },
    "colab_type": "code",
    "collapsed": false,
    "id": "Q5rxZK6RDuGe"
   },
   "outputs": [
    {
     "name": "stdout",
     "output_type": "stream",
     "text": [
      "Initialized\n",
      "==========\n",
      "Average loss at step 0 = 3.37515854836 \n",
      "learning rate: 10.0\n",
      "Minibatch perplexity: 27.66\n",
      "================================================================================\n",
      "z mjrn qtvfaqhaio cwufqpffbwlvffjhpqfuwdcrhbqnverkxkhayuebxrzvmdonnwajaatsnpmuad \n",
      "mjrrhrreeavgesgbgqwbipowwwzeerkiafzhdgjcengypebhqypzipncjhledphusugznmkfrwrjhypvs\n",
      "oxxpbmfjgdcdodeskpkh bxncu zgzwdpcpuxpjlcv zcezakho jbv zsmubgdfoqiwoxgdzxnlelbcu\n",
      " yehvk yrrxdbrlnqtgu ygpeevexlgeipdzteqjjmzkfedcmre jbctdgrwrrlklddwmgdxtvsdkvtpa\n",
      "nkcylcqxyfs sibuptulnyejfdczvbpucaaqmt ltk misryoafqkzmdsayd lscnfrhknvrebpzsgcdo\n",
      "================================================================================\n",
      "Validation set perplexity: 27.36\n",
      "------------------------------\n",
      "Average loss at step 500 = 12.2139162159 \n",
      "learning rate: 7.94328\n",
      "Minibatch perplexity: 8.11\n",
      "Validation set perplexity: 10.44\n",
      "------------------------------\n",
      "Average loss at step 1000 = 10.2942302597 \n",
      "learning rate: 6.30957\n",
      "Minibatch perplexity: 7.50\n",
      "================================================================================\n",
      "ove matettvuean adged apleed  amaanacr a raecicenathis neomethree caue bh the eat\n",
      "qsusb bis ytclyolembeed naay onle sytnone irs the ecaschances ctvoiidriet forein \n",
      "jbine onee see scasv is a ifnnle from and onj   andnai likem ito tmhe zero ur ber\n",
      "yqees setsugdk dholcesladte tore ivstragud one fourr in rimecosmia macible ropcbs\n",
      "qqe alfor  ween mtteols ar noeclime insd hatte prevomlismgicisltecroeaturtal imae\n",
      "================================================================================\n",
      "Validation set perplexity: 9.66\n",
      "------------------------------\n",
      "Average loss at step 1500 = 10.0408216739 \n",
      "learning rate: 5.01187\n",
      "Minibatch perplexity: 6.90\n",
      "Validation set perplexity: 9.24\n",
      "------------------------------\n",
      "Average loss at step 2000 = 9.81992569327 \n",
      "learning rate: 3.98107\n",
      "Minibatch perplexity: 6.33\n",
      "================================================================================\n",
      "ptovast to of ziowmmun faepkkza sant la oten faw with a ntorraasatay instof binta\n",
      "scens antrsord hassa  arftels amerees bcecancea s curle  roav fiiented yican anyl\n",
      "jhrnomwuelse woossep tian tewhya ouffricatad t is incs ocbekter of sunenes fourr \n",
      "fqle from to oft  avsoccixdeattaeil eletlody lameemm as  wescrore algentries enlc\n",
      "ublish  axeid withergion orlu graabda  ebgaorrans ecarhmaunitdan the reectreercn \n",
      "================================================================================\n",
      "Validation set perplexity: 9.20\n",
      "------------------------------\n",
      "Average loss at step 2500 = 9.62829655886 \n",
      "learning rate: 3.16228\n",
      "Minibatch perplexity: 5.94\n",
      "Validation set perplexity: 8.97\n",
      "------------------------------\n",
      "Average loss at step 3000 = 9.54844154954 \n",
      "learning rate: 2.51189\n",
      "Minibatch perplexity: 6.02\n",
      "================================================================================\n",
      "tmoses toand slia saljess tous at and a mfuall dieregting to it timan bipzlles ut\n",
      "gzyeaeral of  etinetct invotity ropolitionas sent five ties bitur smismet of two \n",
      "gjbar perpyowark a wan wograr to olnd be palotnion das foosc d ifaebtle bovilar f\n",
      "szen corspie lilrwas fur che twirolly contye eight one eightthree nine six linrei\n",
      "abumpelsefecetade apbsearial o toost sopur cirpyn sats s the occanetict alryly co\n",
      "================================================================================\n",
      "Validation set perplexity: 8.89\n",
      "------------------------------\n",
      "Average loss at step 3500 = 9.47953819036 \n",
      "learning rate: 1.99526\n",
      "Minibatch perplexity: 6.18\n",
      "Validation set perplexity: 8.84\n",
      "------------------------------\n",
      "Average loss at step 4000 = 9.32329199314 \n",
      "learning rate: 1.58489\n",
      "Minibatch perplexity: 6.65\n",
      "================================================================================\n",
      "wdod retaaft lepaagmuminri ftem to perrepits a rathe moatrhaas isy  oinze  ovenrl\n",
      "il alfsi to recranhb suttpa death  harcrayses at servruviga damsmy amaaalabawpell\n",
      "arciunce palryya deheomtmeics btity warenal meournia viuherns and nour s bscerpir\n",
      "fx seal sid dezed abou empiryu zo cforprian  prowl omle mcf aspijpwaro dai ncatho\n",
      " the ores clecontsl ecatles an to two alirsbhay oenmliswist three unocii leignsto\n",
      "================================================================================\n",
      "Validation set perplexity: 8.81\n",
      "------------------------------\n",
      "Average loss at step 4500 = 9.30902530313 \n",
      "learning rate: 1.25893\n",
      "Minibatch perplexity: 5.96\n",
      "Validation set perplexity: 8.68\n",
      "------------------------------\n",
      "Average loss at step 5000 = 9.4183268857 \n",
      "learning rate: 1.0\n",
      "Minibatch perplexity: 5.90\n",
      "================================================================================\n",
      "m finlitisitte itnsi in countsrioayn the its so there speet loaycs nombels waupii\n",
      "m  acnhliet ofliom monriom tianyn ba runitterladaa eaincs and storites two ruvoid\n",
      "tend  one seven one ninee nine four apmet faimnans doacteraix blomes ideo the his\n",
      "ort ort ttermensbsness laii a phrimest  netaeet d afrglee opaera huricctaoal assa\n",
      "vf reat offes the brioned laew aweri scleurwism ebruocefibemt mostanv parko iges \n",
      "================================================================================\n",
      "Validation set perplexity: 8.74\n",
      "------------------------------\n",
      "Average loss at step 5500 = 9.35598708391 \n",
      "learning rate: 0.794328\n",
      "Minibatch perplexity: 5.98\n",
      "Validation set perplexity: 8.75\n",
      "------------------------------\n",
      "Average loss at step 6000 = 9.30376887918 \n",
      "learning rate: 0.630957\n",
      "Minibatch perplexity: 6.35\n",
      "================================================================================\n",
      "fq  the darma wordks toelm trdaudi motavhers in chorce turteerdnfwers with hotkin\n",
      "kxonision ald orgstaelly phoic one seven six c thart farlnoll apocleas gra walwa \n",
      "a chercmn an avegased the hieas onp ksbor updm abdrioenst to bankm and soudtd ste\n",
      "zj siante mainlak les sapcaum da taieckaaengy wordured varey matipa kafswlars the\n",
      "dn ucpheolittey debrast ephise slusiger neortils whaid the carnariodinn arscuur o\n",
      "================================================================================\n",
      "Validation set perplexity: 8.71\n",
      "------------------------------\n",
      "Average loss at step 6500 = 9.24937211394 \n",
      "learning rate: 0.501187\n",
      "Minibatch perplexity: 6.45\n",
      "Validation set perplexity: 8.67\n",
      "------------------------------\n",
      "Average loss at step 7000 = 9.3436069572 \n",
      "learning rate: 0.398107\n",
      "Minibatch perplexity: 7.33\n",
      "================================================================================\n",
      "uvat amyfliyten ord utas ads nety crit by it siuc the firred f inbanqle is stimes\n",
      " baten  mivice otcnut thei atuoratima etsea and twhao the wase smaolitauluse rili\n",
      "ia carmuddarateiagnes teirs aftern is ansm qirrout raeteu crase came faboitniea s\n",
      "kwitwen one fourt eavre nowist his ponrlceicgc  incu led d rer irt ofctel pconhim\n",
      "fxed of mland in tputism mo datef the ruals hard weet tiwmtly combgoctarly yuugab\n",
      "================================================================================\n",
      "Validation set perplexity: 8.73\n",
      "------------------------------\n",
      "30.0679646492 minutes elapsed\n"
     ]
    }
   ],
   "source": [
    "# training and validation batches\n",
    "train_batches = BatchGeneratorBigram(train_text, batch_size, num_unrollings)\n",
    "valid_batches = BatchGeneratorBigram(valid_text, 1, 2) # returns batch size 1, +2 unrolling\n",
    "train_batches_y = BatchGenerator(train_text, batch_size, num_unrollings)\n",
    "valid_batches_y = BatchGenerator(valid_text, 1, 2) # returns batch size 1, +2 unrolling \n",
    "\n",
    "num_steps = 7001  ## orig 7001\n",
    "summary_frequency = 100\n",
    "\n",
    "t0 = time.time()\n",
    "with tf.Session(graph=graph) as session:\n",
    "  tf.initialize_all_variables().run()\n",
    "  print 'Initialized\\n=========='\n",
    "  mean_loss = 0\n",
    "  for step in xrange(num_steps):\n",
    "    batches = train_batches.next()\n",
    "    batches_y = train_batches_y.next()\n",
    "    feed_dict = dict()\n",
    "    for i in xrange(num_unrollings + 1):\n",
    "      feed_dict[train_data[i]] = batches[i]  # feed input data\n",
    "      feed_dict[train_data_y[i]] = batches_y[i]  # feed vectorized label data\n",
    "    _, l, predictions, lr = session.run(\n",
    "      [optimizer, loss, train_prediction, learning_rate], feed_dict=feed_dict)\n",
    "    mean_loss += l\n",
    "    if step % (5.*summary_frequency) == 0:  ## orig 2.5*summary_frequency\n",
    "      if step > 0:\n",
    "        mean_loss = mean_loss / summary_frequency\n",
    "      # The mean loss is an estimate of the loss over the last few batches.\n",
    "      print 'Average loss at step', step, '=', mean_loss, '\\nlearning rate:', lr\n",
    "      mean_loss = 0\n",
    "      labels = np.concatenate(list(batches_y)[2:])  # offset labels for bigram\n",
    "      print 'Minibatch perplexity: %.2f' % float(\n",
    "        np.exp(logprob(predictions, labels)))\n",
    "      if step % (summary_frequency * 10) == 0:\n",
    "        # Generate some samples.\n",
    "        print '=' * 80\n",
    "        for _ in xrange(5):\n",
    "          #feed = np.random.randint(27, size=[1])  # for character model\n",
    "          c_1 = id2char(np.random.randint(27, size=[1]))\n",
    "          c_2 = id2char(np.random.randint(27, size=[1]))\n",
    "          feed = np.array([dictionary[c_1+c_2]])  # for bigram model\n",
    "          #sentence = id2char(feed)  # for character model\n",
    "          sentence = c_1 + c_2\n",
    "          reset_sample_state.run()\n",
    "          for _ in xrange(79):\n",
    "            prediction = sample_prediction.eval({sample_input: feed})\n",
    "            pred_ohe = sample(prediction)  # get ohe of predicted proba\n",
    "            pred_c = id2char(np.argmax(pred_ohe))  # convert id of prediction\n",
    "            sentence += pred_c  # add predicted char\n",
    "            feed = np.array([dictionary[c_2 + pred_c]])\n",
    "            c_2 = pred_c\n",
    "          print sentence\n",
    "        print '=' * 80\n",
    "      # Measure validation set perplexity.\n",
    "      reset_sample_state.run()\n",
    "      valid_logprob = 0\n",
    "      for _ in xrange(valid_size):\n",
    "        b = valid_batches.next()\n",
    "        b_y = valid_batches_y.next()\n",
    "        predictions = sample_prediction.eval({sample_input: b[0]})\n",
    "        valid_logprob = valid_logprob + logprob(predictions, b_y[2])\n",
    "      print 'Validation set perplexity: %.2f' % float(np.exp(\n",
    "        valid_logprob / valid_size))\n",
    "      print '-' * 30\n",
    "# show how much time elapsed\n",
    "print (time.time()-t0)/60., 'minutes elapsed'"
   ]
  },
  {
   "cell_type": "code",
   "execution_count": null,
   "metadata": {
    "collapsed": true
   },
   "outputs": [],
   "source": []
  },
  {
   "cell_type": "markdown",
   "metadata": {
    "colab_type": "text",
    "id": "Y5tapX3kpcqZ"
   },
   "source": [
    "---\n",
    "Problem 3\n",
    "---------\n",
    "\n",
    "(difficult!)\n",
    "\n",
    "Write a sequence-to-sequence LSTM which mirrors all the words in a sentence. For example, if your input is:\n",
    "\n",
    "    the quick brown fox\n",
    "    \n",
    "the model should attempt to output:\n",
    "\n",
    "    eht kciuq nworb xof\n",
    "    \n",
    "Refer to the lecture on how to put together a sequence-to-sequence model, as well as [this article](http://arxiv.org/abs/1409.3215) for best practices.\n",
    "\n",
    "---"
   ]
  },
  {
   "cell_type": "code",
   "execution_count": null,
   "metadata": {
    "collapsed": true
   },
   "outputs": [],
   "source": []
  }
 ],
 "metadata": {
  "colabVersion": "0.3.2",
  "colab_default_view": {},
  "colab_views": {},
  "kernelspec": {
   "display_name": "Python 2",
   "language": "python",
   "name": "python2"
  },
  "language_info": {
   "codemirror_mode": {
    "name": "ipython",
    "version": 2
   },
   "file_extension": ".py",
   "mimetype": "text/x-python",
   "name": "python",
   "nbconvert_exporter": "python",
   "pygments_lexer": "ipython2",
   "version": "2.7.11"
  }
 },
 "nbformat": 4,
 "nbformat_minor": 0
}
